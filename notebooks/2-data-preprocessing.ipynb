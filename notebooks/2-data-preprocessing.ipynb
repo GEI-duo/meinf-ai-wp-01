{
 "cells": [
  {
   "cell_type": "markdown",
   "metadata": {},
   "source": [
    "# Data preprocessing"
   ]
  },
  {
   "cell_type": "markdown",
   "metadata": {},
   "source": [
    "## Setup"
   ]
  },
  {
   "cell_type": "code",
   "execution_count": null,
   "metadata": {},
   "outputs": [],
   "source": [
    "!pip install -r ../requirements.txt"
   ]
  },
  {
   "cell_type": "code",
   "execution_count": null,
   "metadata": {},
   "outputs": [],
   "source": [
    "import os\n",
    "import numpy as np\n",
    "import pandas as pd\n",
    "from pathlib import Path\n",
    "import seaborn as sns\n",
    "import matplotlib.pyplot as plt\n",
    "import tqdm # DO NOT REMOVE\n",
    "\n",
    "%matplotlib inline"
   ]
  },
  {
   "cell_type": "code",
   "execution_count": null,
   "metadata": {},
   "outputs": [],
   "source": [
    "PROJECT_PATH = Path.joinpath(Path.cwd(), '..')\n",
    "DATA_PATH = PROJECT_PATH / \"data\"\n",
    "CSV_PATH = DATA_PATH / \"gym_members_exercise_tracking.csv\""
   ]
  },
  {
   "cell_type": "code",
   "execution_count": null,
   "metadata": {},
   "outputs": [],
   "source": [
    "df = pd.read_csv(CSV_PATH)"
   ]
  },
  {
   "cell_type": "markdown",
   "metadata": {},
   "source": [
    "## Column name 'normalizing'"
   ]
  },
  {
   "cell_type": "code",
   "execution_count": null,
   "metadata": {},
   "outputs": [],
   "source": [
    "def normalize_name(name: str) -> str:\n",
    "    \"\"\"\n",
    "        Normalize given name into lowercase separated by underscores\n",
    "        and removing the measurements.\n",
    "\n",
    "    Args:\n",
    "        name (str): column name to normalize\n",
    "\n",
    "    Returns:\n",
    "        str: normalized name\n",
    "    \"\"\"\n",
    "\n",
    "    return name.lower().split(\"(\")[0].strip().replace(\" \", \"_\")\n",
    "\n",
    "\n",
    "df.columns = df.columns.map(normalize_name)\n",
    "df.columns"
   ]
  },
  {
   "cell_type": "markdown",
   "metadata": {},
   "source": [
    "## Data Cleaning"
   ]
  },
  {
   "cell_type": "markdown",
   "metadata": {},
   "source": [
    "## Outliers Handling"
   ]
  },
  {
   "cell_type": "markdown",
   "metadata": {},
   "source": [
    "### Water_Intake and Fat_Percentage"
   ]
  },
  {
   "cell_type": "code",
   "execution_count": null,
   "metadata": {},
   "outputs": [],
   "source": [
    "plt.figure(figsize=(10, 6))\n",
    "sns.scatterplot(data=df, x=\"Water_Intake (liters)\", y=\"Fat_Percentage\", hue=\"Gender\", palette=\"deep\", s=50)\n",
    "plt.title(\"Water Intake vs Fat Percentage\")\n",
    "plt.xlabel(\"Water Intake (liters)\")\n",
    "plt.ylabel(\"Fat Percentage\")\n",
    "plt.show()"
   ]
  },
  {
   "cell_type": "code",
   "execution_count": null,
   "metadata": {},
   "outputs": [],
   "source": [
    "# Remove all rows where Gender is Male and Fat Percentage <= 15\n",
    "df_filtered = df[~((df['Gender'] == 'Male') & (df['Fat_Percentage'] <= 15))]\n",
    "# Remove all rows where Gender is Female and Fat Percentage <= 20\n",
    "df_filtered = df_filtered[~((df_filtered[\"Gender\"] == \"Female\") & (df_filtered[\"Fat_Percentage\"] <= 20))]"
   ]
  },
  {
   "cell_type": "code",
   "execution_count": null,
   "metadata": {},
   "outputs": [],
   "source": [
    "plt.figure(figsize=(10, 6))\n",
    "sns.scatterplot(data=df_filtered, x=\"Water_Intake (liters)\", y=\"Fat_Percentage\", hue=\"Gender\", palette=\"deep\", s=50)\n",
    "plt.title(\"Water Intake vs Fat Percentage\")\n",
    "plt.xlabel(\"Water Intake (liters)\")\n",
    "plt.ylabel(\"Fat Percentage\")\n",
    "plt.show()"
   ]
  },
  {
   "cell_type": "markdown",
   "metadata": {},
   "source": [
    "## Data Transformation"
   ]
  },
  {
   "cell_type": "code",
   "execution_count": null,
   "metadata": {},
   "outputs": [],
   "source": [
    "# Scaling and normalization\n",
    "from sklearn.preprocessing import StandardScaler\n",
    "\n",
    "_scaler = StandardScaler()\n",
    "\n",
    "scaled_df = pd.DataFrame(_scaler.fit_transform(df), columns=encoded_df.columns)\n",
    "\n",
    "# Dimensionality reduction\n",
    "scaled_df.head(5)"
   ]
  }
 ],
 "metadata": {
  "language_info": {
   "name": "python"
  }
 },
 "nbformat": 4,
 "nbformat_minor": 2
}
