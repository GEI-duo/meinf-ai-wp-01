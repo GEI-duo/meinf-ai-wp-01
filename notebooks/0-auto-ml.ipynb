{
 "cells": [
  {
   "cell_type": "markdown",
   "metadata": {},
   "source": [
    "# Exploratory data analysis"
   ]
  },
  {
   "cell_type": "markdown",
   "metadata": {},
   "source": [
    "Data from https://www.kaggle.com/datasets/valakhorasani/gym-members-exercise-dataset"
   ]
  },
  {
   "cell_type": "markdown",
   "metadata": {},
   "source": [
    "## Setup"
   ]
  },
  {
   "cell_type": "code",
   "execution_count": 18,
   "metadata": {},
   "outputs": [],
   "source": [
    "%%capture\n",
    "%pip install -r ../requirements-2.txt"
   ]
  },
  {
   "cell_type": "code",
   "execution_count": 9,
   "metadata": {},
   "outputs": [],
   "source": [
    "import os\n",
    "import numpy as np\n",
    "import pandas as pd\n",
    "from pathlib import Path\n",
    "import seaborn as sns\n",
    "import matplotlib.pyplot as plt\n",
    "from sklearn.preprocessing import OrdinalEncoder\n",
    "import tqdm # DO NOT REMOVE\n",
    "\n",
    "%matplotlib inline"
   ]
  },
  {
   "cell_type": "code",
   "execution_count": 10,
   "metadata": {},
   "outputs": [],
   "source": [
    "PROJECT_PATH = Path.joinpath(Path.cwd(), '..')\n",
    "DATA_PATH = PROJECT_PATH / \"data\"\n",
    "CSV_PATH = DATA_PATH / \"gym_members_exercise_tracking.csv\""
   ]
  },
  {
   "cell_type": "code",
   "execution_count": 11,
   "metadata": {},
   "outputs": [],
   "source": [
    "df = pd.read_csv(CSV_PATH)"
   ]
  },
  {
   "cell_type": "markdown",
   "metadata": {},
   "source": [
    "## TPOT"
   ]
  },
  {
   "cell_type": "code",
   "execution_count": null,
   "metadata": {},
   "outputs": [],
   "source": []
  },
  {
   "cell_type": "markdown",
   "metadata": {},
   "source": [
    "## Auto_ViML"
   ]
  },
  {
   "cell_type": "markdown",
   "metadata": {},
   "source": [
    "Tested - not good enough"
   ]
  },
  {
   "cell_type": "markdown",
   "metadata": {},
   "source": [
    "## auto-sklearn"
   ]
  },
  {
   "cell_type": "code",
   "execution_count": 19,
   "metadata": {},
   "outputs": [],
   "source": [
    "# Define the target variable\n",
    "target_column = 'Calories_Burned'\n",
    "\n",
    "# Extract features (X) and target (y)\n",
    "X = df.drop(columns=[target_column])\n",
    "y = df[target_column]"
   ]
  },
  {
   "cell_type": "code",
   "execution_count": 21,
   "metadata": {},
   "outputs": [
    {
     "ename": "ValueError",
     "evalue": "numpy.dtype size changed, may indicate binary incompatibility. Expected 96 from C header, got 88 from PyObject",
     "output_type": "error",
     "traceback": [
      "\u001b[0;31m---------------------------------------------------------------------------\u001b[0m",
      "\u001b[0;31mValueError\u001b[0m                                Traceback (most recent call last)",
      "Cell \u001b[0;32mIn[21], line 1\u001b[0m\n\u001b[0;32m----> 1\u001b[0m \u001b[38;5;28;01mimport\u001b[39;00m \u001b[38;5;21;01mautosklearn\u001b[39;00m\u001b[38;5;21;01m.\u001b[39;00m\u001b[38;5;21;01mclassification\u001b[39;00m\n\u001b[1;32m      2\u001b[0m \u001b[38;5;28;01mimport\u001b[39;00m \u001b[38;5;21;01msklearn\u001b[39;00m\u001b[38;5;21;01m.\u001b[39;00m\u001b[38;5;21;01mmodel_selection\u001b[39;00m\n\u001b[1;32m      3\u001b[0m \u001b[38;5;28;01mimport\u001b[39;00m \u001b[38;5;21;01msklearn\u001b[39;00m\u001b[38;5;21;01m.\u001b[39;00m\u001b[38;5;21;01mdatasets\u001b[39;00m\n",
      "File \u001b[0;32m~/.pyenv/versions/ai/lib/python3.9/site-packages/autosklearn/classification.py:1\u001b[0m\n\u001b[0;32m----> 1\u001b[0m \u001b[38;5;28;01mfrom\u001b[39;00m \u001b[38;5;21;01mautosklearn\u001b[39;00m\u001b[38;5;21;01m.\u001b[39;00m\u001b[38;5;21;01mestimators\u001b[39;00m \u001b[38;5;28;01mimport\u001b[39;00m AutoSklearnClassifier  \u001b[38;5;66;03m# noqa (imported but unused)\u001b[39;00m\n",
      "File \u001b[0;32m~/.pyenv/versions/ai/lib/python3.9/site-packages/autosklearn/estimators.py:23\u001b[0m\n\u001b[1;32m     21\u001b[0m \u001b[38;5;28;01mimport\u001b[39;00m \u001b[38;5;21;01mnumpy\u001b[39;00m \u001b[38;5;28;01mas\u001b[39;00m \u001b[38;5;21;01mnp\u001b[39;00m\n\u001b[1;32m     22\u001b[0m \u001b[38;5;28;01mimport\u001b[39;00m \u001b[38;5;21;01mpandas\u001b[39;00m \u001b[38;5;28;01mas\u001b[39;00m \u001b[38;5;21;01mpd\u001b[39;00m\n\u001b[0;32m---> 23\u001b[0m \u001b[38;5;28;01mfrom\u001b[39;00m \u001b[38;5;21;01mConfigSpace\u001b[39;00m\u001b[38;5;21;01m.\u001b[39;00m\u001b[38;5;21;01mconfiguration_space\u001b[39;00m \u001b[38;5;28;01mimport\u001b[39;00m Configuration, ConfigurationSpace\n\u001b[1;32m     24\u001b[0m \u001b[38;5;28;01mfrom\u001b[39;00m \u001b[38;5;21;01mscipy\u001b[39;00m\u001b[38;5;21;01m.\u001b[39;00m\u001b[38;5;21;01msparse\u001b[39;00m \u001b[38;5;28;01mimport\u001b[39;00m spmatrix\n\u001b[1;32m     25\u001b[0m \u001b[38;5;28;01mfrom\u001b[39;00m \u001b[38;5;21;01msklearn\u001b[39;00m\u001b[38;5;21;01m.\u001b[39;00m\u001b[38;5;21;01mbase\u001b[39;00m \u001b[38;5;28;01mimport\u001b[39;00m BaseEstimator, ClassifierMixin, RegressorMixin\n",
      "File \u001b[0;32m~/.pyenv/versions/ai/lib/python3.9/site-packages/ConfigSpace/__init__.py:37\u001b[0m\n\u001b[1;32m     29\u001b[0m \u001b[38;5;28;01mfrom\u001b[39;00m \u001b[38;5;21;01mConfigSpace\u001b[39;00m\u001b[38;5;21;01m.\u001b[39;00m\u001b[38;5;21;01m__version__\u001b[39;00m \u001b[38;5;28;01mimport\u001b[39;00m __version__\n\u001b[1;32m     30\u001b[0m __authors__ \u001b[38;5;241m=\u001b[39m [\n\u001b[1;32m     31\u001b[0m     \u001b[38;5;124m\"\u001b[39m\u001b[38;5;124mMatthias Feurer\u001b[39m\u001b[38;5;124m\"\u001b[39m, \u001b[38;5;124m\"\u001b[39m\u001b[38;5;124mKatharina Eggensperger\u001b[39m\u001b[38;5;124m\"\u001b[39m, \u001b[38;5;124m\"\u001b[39m\u001b[38;5;124mSyed Mohsin Ali\u001b[39m\u001b[38;5;124m\"\u001b[39m,\n\u001b[1;32m     32\u001b[0m     \u001b[38;5;124m\"\u001b[39m\u001b[38;5;124mChristina Hernandez Wunsch\u001b[39m\u001b[38;5;124m\"\u001b[39m, \u001b[38;5;124m\"\u001b[39m\u001b[38;5;124mJulien-Charles Levesque\u001b[39m\u001b[38;5;124m\"\u001b[39m,\n\u001b[1;32m     33\u001b[0m     \u001b[38;5;124m\"\u001b[39m\u001b[38;5;124mJost Tobias Springenberg\u001b[39m\u001b[38;5;124m\"\u001b[39m, \u001b[38;5;124m\"\u001b[39m\u001b[38;5;124mPhilipp Mueller\u001b[39m\u001b[38;5;124m\"\u001b[39m, \u001b[38;5;124m\"\u001b[39m\u001b[38;5;124mMarius Lindauer\u001b[39m\u001b[38;5;124m\"\u001b[39m,\n\u001b[1;32m     34\u001b[0m     \u001b[38;5;124m\"\u001b[39m\u001b[38;5;124mJorn Tuyls\u001b[39m\u001b[38;5;124m\"\u001b[39m\n\u001b[1;32m     35\u001b[0m ]\n\u001b[0;32m---> 37\u001b[0m \u001b[38;5;28;01mfrom\u001b[39;00m \u001b[38;5;21;01mConfigSpace\u001b[39;00m\u001b[38;5;21;01m.\u001b[39;00m\u001b[38;5;21;01mconfiguration_space\u001b[39;00m \u001b[38;5;28;01mimport\u001b[39;00m Configuration, \\\n\u001b[1;32m     38\u001b[0m     ConfigurationSpace\n\u001b[1;32m     39\u001b[0m \u001b[38;5;28;01mfrom\u001b[39;00m \u001b[38;5;21;01mConfigSpace\u001b[39;00m\u001b[38;5;21;01m.\u001b[39;00m\u001b[38;5;21;01mhyperparameters\u001b[39;00m \u001b[38;5;28;01mimport\u001b[39;00m CategoricalHyperparameter, \\\n\u001b[1;32m     40\u001b[0m     UniformFloatHyperparameter, UniformIntegerHyperparameter, Constant, \\\n\u001b[1;32m     41\u001b[0m     UnParametrizedHyperparameter, OrdinalHyperparameter\n\u001b[1;32m     42\u001b[0m \u001b[38;5;28;01mfrom\u001b[39;00m \u001b[38;5;21;01mConfigSpace\u001b[39;00m\u001b[38;5;21;01m.\u001b[39;00m\u001b[38;5;21;01mconditions\u001b[39;00m \u001b[38;5;28;01mimport\u001b[39;00m AndConjunction, OrConjunction, \\\n\u001b[1;32m     43\u001b[0m     EqualsCondition, NotEqualsCondition, InCondition, GreaterThanCondition, LessThanCondition\n",
      "File \u001b[0;32mConfigSpace/configuration_space.pyx:40\u001b[0m, in \u001b[0;36minit ConfigSpace.configuration_space\u001b[0;34m()\u001b[0m\n",
      "File \u001b[0;32mConfigSpace/hyperparameters.pyx:1\u001b[0m, in \u001b[0;36minit ConfigSpace.hyperparameters\u001b[0;34m()\u001b[0m\n",
      "\u001b[0;31mValueError\u001b[0m: numpy.dtype size changed, may indicate binary incompatibility. Expected 96 from C header, got 88 from PyObject"
     ]
    }
   ],
   "source": [
    "import autosklearn.classification\n",
    "import sklearn.model_selection\n",
    "import sklearn.datasets\n",
    "import sklearn.metrics\n",
    "\n",
    "X_train, X_test, y_train, y_test = \\\n",
    "    sklearn.model_selection.train_test_split(X, y, random_state=1)\n",
    "automl = autosklearn.classification.AutoSklearnClassifier()\n",
    "automl.fit(X_train, y_train)\n",
    "y_hat = automl.predict(X_test)\n",
    "print(\"Accuracy score\", sklearn.metrics.accuracy_score(y_test, y_hat))"
   ]
  },
  {
   "cell_type": "markdown",
   "metadata": {},
   "source": [
    "## MLFlow"
   ]
  },
  {
   "cell_type": "code",
   "execution_count": 3,
   "metadata": {},
   "outputs": [
    {
     "name": "stdout",
     "output_type": "stream",
     "text": [
      "Collecting mlflow\n",
      "  Using cached mlflow-2.19.0-py3-none-any.whl.metadata (30 kB)\n",
      "Collecting mlflow-skinny==2.19.0 (from mlflow)\n",
      "  Using cached mlflow_skinny-2.19.0-py3-none-any.whl.metadata (31 kB)\n",
      "Collecting Flask<4 (from mlflow)\n",
      "  Using cached flask-3.1.0-py3-none-any.whl.metadata (2.7 kB)\n",
      "Requirement already satisfied: Jinja2<4,>=2.11 in /mnt/40EE82D1EE82BF22/Users/jordi/Documents/GitHub/meinf-ai-wp-01/.venv/lib/python3.9/site-packages (from mlflow) (3.1.4)\n",
      "Collecting alembic!=1.10.0,<2 (from mlflow)\n",
      "  Using cached alembic-1.14.0-py3-none-any.whl.metadata (7.4 kB)\n",
      "Collecting docker<8,>=4.0.0 (from mlflow)\n",
      "  Using cached docker-7.1.0-py3-none-any.whl.metadata (3.8 kB)\n",
      "Collecting graphene<4 (from mlflow)\n",
      "  Using cached graphene-3.4.3-py2.py3-none-any.whl.metadata (6.9 kB)\n",
      "Collecting gunicorn<24 (from mlflow)\n",
      "  Using cached gunicorn-23.0.0-py3-none-any.whl.metadata (4.4 kB)\n",
      "Collecting markdown<4,>=3.3 (from mlflow)\n",
      "  Using cached Markdown-3.7-py3-none-any.whl.metadata (7.0 kB)\n",
      "Requirement already satisfied: matplotlib<4 in /mnt/40EE82D1EE82BF22/Users/jordi/Documents/GitHub/meinf-ai-wp-01/.venv/lib/python3.9/site-packages (from mlflow) (3.9.3)\n",
      "Requirement already satisfied: numpy<3 in /mnt/40EE82D1EE82BF22/Users/jordi/Documents/GitHub/meinf-ai-wp-01/.venv/lib/python3.9/site-packages (from mlflow) (1.26.4)\n",
      "Requirement already satisfied: pandas<3 in /mnt/40EE82D1EE82BF22/Users/jordi/Documents/GitHub/meinf-ai-wp-01/.venv/lib/python3.9/site-packages (from mlflow) (1.5.3)\n",
      "Collecting pyarrow<19,>=4.0.0 (from mlflow)\n",
      "  Using cached pyarrow-18.1.0-cp39-cp39-manylinux_2_28_x86_64.whl.metadata (3.3 kB)\n",
      "Requirement already satisfied: scikit-learn<2 in /mnt/40EE82D1EE82BF22/Users/jordi/Documents/GitHub/meinf-ai-wp-01/.venv/lib/python3.9/site-packages (from mlflow) (1.5.2)\n",
      "Requirement already satisfied: scipy<2 in /mnt/40EE82D1EE82BF22/Users/jordi/Documents/GitHub/meinf-ai-wp-01/.venv/lib/python3.9/site-packages (from mlflow) (1.13.1)\n",
      "Requirement already satisfied: sqlalchemy<3,>=1.4.0 in /mnt/40EE82D1EE82BF22/Users/jordi/Documents/GitHub/meinf-ai-wp-01/.venv/lib/python3.9/site-packages (from mlflow) (2.0.36)\n",
      "Collecting cachetools<6,>=5.0.0 (from mlflow-skinny==2.19.0->mlflow)\n",
      "  Using cached cachetools-5.5.0-py3-none-any.whl.metadata (5.3 kB)\n",
      "Requirement already satisfied: click<9,>=7.0 in /mnt/40EE82D1EE82BF22/Users/jordi/Documents/GitHub/meinf-ai-wp-01/.venv/lib/python3.9/site-packages (from mlflow-skinny==2.19.0->mlflow) (8.1.7)\n",
      "Requirement already satisfied: cloudpickle<4 in /mnt/40EE82D1EE82BF22/Users/jordi/Documents/GitHub/meinf-ai-wp-01/.venv/lib/python3.9/site-packages (from mlflow-skinny==2.19.0->mlflow) (3.1.0)\n",
      "Collecting databricks-sdk<1,>=0.20.0 (from mlflow-skinny==2.19.0->mlflow)\n",
      "  Using cached databricks_sdk-0.39.0-py3-none-any.whl.metadata (38 kB)\n",
      "Collecting gitpython<4,>=3.1.9 (from mlflow-skinny==2.19.0->mlflow)\n",
      "  Using cached GitPython-3.1.43-py3-none-any.whl.metadata (13 kB)\n",
      "Requirement already satisfied: importlib_metadata!=4.7.0,<9,>=3.7.0 in /mnt/40EE82D1EE82BF22/Users/jordi/Documents/GitHub/meinf-ai-wp-01/.venv/lib/python3.9/site-packages (from mlflow-skinny==2.19.0->mlflow) (8.5.0)\n",
      "Collecting opentelemetry-api<3,>=1.9.0 (from mlflow-skinny==2.19.0->mlflow)\n",
      "  Using cached opentelemetry_api-1.29.0-py3-none-any.whl.metadata (1.4 kB)\n",
      "Collecting opentelemetry-sdk<3,>=1.9.0 (from mlflow-skinny==2.19.0->mlflow)\n",
      "  Using cached opentelemetry_sdk-1.29.0-py3-none-any.whl.metadata (1.5 kB)\n",
      "Requirement already satisfied: packaging<25 in /mnt/40EE82D1EE82BF22/Users/jordi/Documents/GitHub/meinf-ai-wp-01/.venv/lib/python3.9/site-packages (from mlflow-skinny==2.19.0->mlflow) (24.2)\n",
      "Collecting protobuf<6,>=3.12.0 (from mlflow-skinny==2.19.0->mlflow)\n",
      "  Using cached protobuf-5.29.1-cp38-abi3-manylinux2014_x86_64.whl.metadata (592 bytes)\n",
      "Requirement already satisfied: pyyaml<7,>=5.1 in /mnt/40EE82D1EE82BF22/Users/jordi/Documents/GitHub/meinf-ai-wp-01/.venv/lib/python3.9/site-packages (from mlflow-skinny==2.19.0->mlflow) (6.0.2)\n",
      "Requirement already satisfied: requests<3,>=2.17.3 in /mnt/40EE82D1EE82BF22/Users/jordi/Documents/GitHub/meinf-ai-wp-01/.venv/lib/python3.9/site-packages (from mlflow-skinny==2.19.0->mlflow) (2.32.3)\n",
      "Collecting sqlparse<1,>=0.4.0 (from mlflow-skinny==2.19.0->mlflow)\n",
      "  Using cached sqlparse-0.5.3-py3-none-any.whl.metadata (3.9 kB)\n",
      "Collecting Mako (from alembic!=1.10.0,<2->mlflow)\n",
      "  Using cached Mako-1.3.8-py3-none-any.whl.metadata (2.9 kB)\n",
      "Requirement already satisfied: typing-extensions>=4 in /mnt/40EE82D1EE82BF22/Users/jordi/Documents/GitHub/meinf-ai-wp-01/.venv/lib/python3.9/site-packages (from alembic!=1.10.0,<2->mlflow) (4.12.2)\n",
      "Requirement already satisfied: urllib3>=1.26.0 in /mnt/40EE82D1EE82BF22/Users/jordi/Documents/GitHub/meinf-ai-wp-01/.venv/lib/python3.9/site-packages (from docker<8,>=4.0.0->mlflow) (2.2.3)\n",
      "Collecting Werkzeug>=3.1 (from Flask<4->mlflow)\n",
      "  Using cached werkzeug-3.1.3-py3-none-any.whl.metadata (3.7 kB)\n",
      "Collecting itsdangerous>=2.2 (from Flask<4->mlflow)\n",
      "  Using cached itsdangerous-2.2.0-py3-none-any.whl.metadata (1.9 kB)\n",
      "Collecting blinker>=1.9 (from Flask<4->mlflow)\n",
      "  Using cached blinker-1.9.0-py3-none-any.whl.metadata (1.6 kB)\n",
      "Collecting graphql-core<3.3,>=3.1 (from graphene<4->mlflow)\n",
      "  Using cached graphql_core-3.2.5-py3-none-any.whl.metadata (10 kB)\n",
      "Collecting graphql-relay<3.3,>=3.1 (from graphene<4->mlflow)\n",
      "  Using cached graphql_relay-3.2.0-py3-none-any.whl.metadata (12 kB)\n",
      "Requirement already satisfied: python-dateutil<3,>=2.7.0 in /mnt/40EE82D1EE82BF22/Users/jordi/Documents/GitHub/meinf-ai-wp-01/.venv/lib/python3.9/site-packages (from graphene<4->mlflow) (2.9.0.post0)\n",
      "Requirement already satisfied: MarkupSafe>=2.0 in /mnt/40EE82D1EE82BF22/Users/jordi/Documents/GitHub/meinf-ai-wp-01/.venv/lib/python3.9/site-packages (from Jinja2<4,>=2.11->mlflow) (2.1.5)\n",
      "Requirement already satisfied: contourpy>=1.0.1 in /mnt/40EE82D1EE82BF22/Users/jordi/Documents/GitHub/meinf-ai-wp-01/.venv/lib/python3.9/site-packages (from matplotlib<4->mlflow) (1.3.0)\n",
      "Requirement already satisfied: cycler>=0.10 in /mnt/40EE82D1EE82BF22/Users/jordi/Documents/GitHub/meinf-ai-wp-01/.venv/lib/python3.9/site-packages (from matplotlib<4->mlflow) (0.12.1)\n",
      "Requirement already satisfied: fonttools>=4.22.0 in /mnt/40EE82D1EE82BF22/Users/jordi/Documents/GitHub/meinf-ai-wp-01/.venv/lib/python3.9/site-packages (from matplotlib<4->mlflow) (4.55.3)\n",
      "Requirement already satisfied: kiwisolver>=1.3.1 in /mnt/40EE82D1EE82BF22/Users/jordi/Documents/GitHub/meinf-ai-wp-01/.venv/lib/python3.9/site-packages (from matplotlib<4->mlflow) (1.4.7)\n",
      "Requirement already satisfied: pillow>=8 in /mnt/40EE82D1EE82BF22/Users/jordi/Documents/GitHub/meinf-ai-wp-01/.venv/lib/python3.9/site-packages (from matplotlib<4->mlflow) (10.4.0)\n",
      "Requirement already satisfied: pyparsing>=2.3.1 in /mnt/40EE82D1EE82BF22/Users/jordi/Documents/GitHub/meinf-ai-wp-01/.venv/lib/python3.9/site-packages (from matplotlib<4->mlflow) (3.2.0)\n",
      "Requirement already satisfied: importlib-resources>=3.2.0 in /mnt/40EE82D1EE82BF22/Users/jordi/Documents/GitHub/meinf-ai-wp-01/.venv/lib/python3.9/site-packages (from matplotlib<4->mlflow) (6.4.5)\n",
      "\u001b[31mERROR: Could not install packages due to an OSError: [Errno 2] No such file or directory: '/mnt/40EE82D1EE82BF22/Users/jordi/Documents/GitHub/meinf-ai-wp-01/.venv/lib/python3.9/site-packages/numpy-1.26.4.dist-info/METADATA'\n",
      "\u001b[0m\u001b[31m\n",
      "\u001b[0mNote: you may need to restart the kernel to use updated packages.\n"
     ]
    }
   ],
   "source": [
    "%pip install mlflow"
   ]
  },
  {
   "cell_type": "code",
   "execution_count": 1,
   "metadata": {},
   "outputs": [
    {
     "ename": "ModuleNotFoundError",
     "evalue": "No module named 'mlflow'",
     "output_type": "error",
     "traceback": [
      "\u001b[0;31m---------------------------------------------------------------------------\u001b[0m",
      "\u001b[0;31mModuleNotFoundError\u001b[0m                       Traceback (most recent call last)",
      "Cell \u001b[0;32mIn[1], line 1\u001b[0m\n\u001b[0;32m----> 1\u001b[0m \u001b[38;5;28;01mimport\u001b[39;00m \u001b[38;5;21;01mmlflow\u001b[39;00m\n\u001b[1;32m      3\u001b[0m \u001b[38;5;28;01mfrom\u001b[39;00m \u001b[38;5;21;01msklearn\u001b[39;00m\u001b[38;5;21;01m.\u001b[39;00m\u001b[38;5;21;01mmodel_selection\u001b[39;00m \u001b[38;5;28;01mimport\u001b[39;00m train_test_split\n\u001b[1;32m      4\u001b[0m \u001b[38;5;28;01mfrom\u001b[39;00m \u001b[38;5;21;01msklearn\u001b[39;00m\u001b[38;5;21;01m.\u001b[39;00m\u001b[38;5;21;01mdatasets\u001b[39;00m \u001b[38;5;28;01mimport\u001b[39;00m load_diabetes\n",
      "\u001b[0;31mModuleNotFoundError\u001b[0m: No module named 'mlflow'"
     ]
    }
   ],
   "source": [
    "import mlflow\n",
    "\n",
    "from sklearn.model_selection import train_test_split\n",
    "from sklearn.datasets import load_diabetes\n",
    "from sklearn.ensemble import RandomForestRegressor\n",
    "\n",
    "# Enable MLflow's automatic experiment tracking for scikit-learn\n",
    "mlflow.sklearn.autolog()\n",
    "\n",
    "# Load the training dataset\n",
    "db = load_diabetes()\n",
    "X_train, X_test, y_train, y_test = train_test_split(db.data, db.target)\n",
    "\n",
    "rf = RandomForestRegressor(n_estimators=100, max_depth=6, max_features=3)\n",
    "# MLflow triggers logging automatically upon model fitting\n",
    "rf.fit(X_train, y_train)"
   ]
  },
  {
   "cell_type": "markdown",
   "metadata": {},
   "source": [
    "## Optuna"
   ]
  },
  {
   "cell_type": "code",
   "execution_count": 2,
   "metadata": {},
   "outputs": [
    {
     "name": "stdout",
     "output_type": "stream",
     "text": [
      "Collecting optuna\n",
      "  Downloading optuna-4.1.0-py3-none-any.whl (364 kB)\n",
      "\u001b[2K     \u001b[90m━━━━━━━━━━━━━━━━━━━━━━━━━━━━━━━━━━━━━━━\u001b[0m \u001b[32m364.4/364.4 KB\u001b[0m \u001b[31m5.1 MB/s\u001b[0m eta \u001b[36m0:00:00\u001b[0ma \u001b[36m0:00:01\u001b[0m\n",
      "\u001b[?25hCollecting optuna-dashboard\n",
      "  Downloading optuna_dashboard-0.17.0-py3-none-any.whl (8.4 MB)\n",
      "\u001b[2K     \u001b[90m━━━━━━━━━━━━━━━━━━━━━━━━━━━━━━━━━━━━━━━━\u001b[0m \u001b[32m8.4/8.4 MB\u001b[0m \u001b[31m9.1 MB/s\u001b[0m eta \u001b[36m0:00:00\u001b[0m00:01\u001b[0m00:01\u001b[0mm\n",
      "\u001b[?25hRequirement already satisfied: numpy in /home/jordigv/.pyenv/versions/3.9.13/envs/ai/lib/python3.9/site-packages (from optuna) (2.0.2)\n",
      "Requirement already satisfied: packaging>=20.0 in /home/jordigv/.pyenv/versions/3.9.13/envs/ai/lib/python3.9/site-packages (from optuna) (24.2)\n",
      "Collecting alembic>=1.5.0\n",
      "  Downloading alembic-1.14.0-py3-none-any.whl (233 kB)\n",
      "\u001b[2K     \u001b[90m━━━━━━━━━━━━━━━━━━━━━━━━━━━━━━━━━━━━━━━\u001b[0m \u001b[32m233.5/233.5 KB\u001b[0m \u001b[31m4.0 MB/s\u001b[0m eta \u001b[36m0:00:00\u001b[0ma \u001b[36m0:00:01\u001b[0m\n",
      "\u001b[?25hCollecting tqdm\n",
      "  Downloading tqdm-4.67.1-py3-none-any.whl (78 kB)\n",
      "\u001b[2K     \u001b[90m━━━━━━━━━━━━━━━━━━━━━━━━━━━━━━━━━━━━━━━━\u001b[0m \u001b[32m78.5/78.5 KB\u001b[0m \u001b[31m3.2 MB/s\u001b[0m eta \u001b[36m0:00:00\u001b[0m\n",
      "\u001b[?25hCollecting PyYAML\n",
      "  Downloading PyYAML-6.0.2-cp39-cp39-manylinux_2_17_x86_64.manylinux2014_x86_64.whl (737 kB)\n",
      "\u001b[2K     \u001b[90m━━━━━━━━━━━━━━━━━━━━━━━━━━━━━━━━━━━━━━\u001b[0m \u001b[32m737.4/737.4 KB\u001b[0m \u001b[31m10.8 MB/s\u001b[0m eta \u001b[36m0:00:00\u001b[0ma \u001b[36m0:00:01\u001b[0m\n",
      "\u001b[?25hCollecting sqlalchemy>=1.4.2\n",
      "  Downloading SQLAlchemy-2.0.36-cp39-cp39-manylinux_2_17_x86_64.manylinux2014_x86_64.whl (3.1 MB)\n",
      "\u001b[2K     \u001b[90m━━━━━━━━━━━━━━━━━━━━━━━━━━━━━━━━━━━━━━━━\u001b[0m \u001b[32m3.1/3.1 MB\u001b[0m \u001b[31m14.9 MB/s\u001b[0m eta \u001b[36m0:00:00\u001b[0m00:01\u001b[0m00:01\u001b[0m\n",
      "\u001b[?25hCollecting colorlog\n",
      "  Downloading colorlog-6.9.0-py3-none-any.whl (11 kB)\n",
      "Collecting bottle>=0.13.0\n",
      "  Downloading bottle-0.13.2-py2.py3-none-any.whl (104 kB)\n",
      "\u001b[2K     \u001b[90m━━━━━━━━━━━━━━━━━━━━━━━━━━━━━━━━━━━━━━━\u001b[0m \u001b[32m104.1/104.1 KB\u001b[0m \u001b[31m9.3 MB/s\u001b[0m eta \u001b[36m0:00:00\u001b[0m\n",
      "\u001b[?25hRequirement already satisfied: scikit-learn in /home/jordigv/.pyenv/versions/3.9.13/envs/ai/lib/python3.9/site-packages (from optuna-dashboard) (1.6.0)\n",
      "Requirement already satisfied: typing-extensions>=4 in /home/jordigv/.pyenv/versions/3.9.13/envs/ai/lib/python3.9/site-packages (from alembic>=1.5.0->optuna) (4.12.2)\n",
      "Collecting Mako\n",
      "  Downloading Mako-1.3.8-py3-none-any.whl (78 kB)\n",
      "\u001b[2K     \u001b[90m━━━━━━━━━━━━━━━━━━━━━━━━━━━━━━━━━━━━━━━━\u001b[0m \u001b[32m78.6/78.6 KB\u001b[0m \u001b[31m10.2 MB/s\u001b[0m eta \u001b[36m0:00:00\u001b[0m\n",
      "\u001b[?25hCollecting greenlet!=0.4.17\n",
      "  Downloading greenlet-3.1.1-cp39-cp39-manylinux_2_24_x86_64.manylinux_2_28_x86_64.whl (597 kB)\n",
      "\u001b[2K     \u001b[90m━━━━━━━━━━━━━━━━━━━━━━━━━━━━━━━━━━━━━━\u001b[0m \u001b[32m597.4/597.4 KB\u001b[0m \u001b[31m11.4 MB/s\u001b[0m eta \u001b[36m0:00:00\u001b[0ma \u001b[36m0:00:01\u001b[0m\n",
      "\u001b[?25hRequirement already satisfied: threadpoolctl>=3.1.0 in /home/jordigv/.pyenv/versions/3.9.13/envs/ai/lib/python3.9/site-packages (from scikit-learn->optuna-dashboard) (3.5.0)\n",
      "Requirement already satisfied: joblib>=1.2.0 in /home/jordigv/.pyenv/versions/3.9.13/envs/ai/lib/python3.9/site-packages (from scikit-learn->optuna-dashboard) (1.4.2)\n",
      "Requirement already satisfied: scipy>=1.6.0 in /home/jordigv/.pyenv/versions/3.9.13/envs/ai/lib/python3.9/site-packages (from scikit-learn->optuna-dashboard) (1.13.1)\n",
      "Collecting MarkupSafe>=0.9.2\n",
      "  Downloading MarkupSafe-3.0.2-cp39-cp39-manylinux_2_17_x86_64.manylinux2014_x86_64.whl (20 kB)\n",
      "Installing collected packages: bottle, tqdm, PyYAML, MarkupSafe, greenlet, colorlog, sqlalchemy, Mako, alembic, optuna, optuna-dashboard\n",
      "Successfully installed Mako-1.3.8 MarkupSafe-3.0.2 PyYAML-6.0.2 alembic-1.14.0 bottle-0.13.2 colorlog-6.9.0 greenlet-3.1.1 optuna-4.1.0 optuna-dashboard-0.17.0 sqlalchemy-2.0.36 tqdm-4.67.1\n",
      "\u001b[33mWARNING: You are using pip version 22.0.4; however, version 24.3.1 is available.\n",
      "You should consider upgrading via the '/home/jordigv/.pyenv/versions/ai/bin/python -m pip install --upgrade pip' command.\u001b[0m\u001b[33m\n",
      "\u001b[0mNote: you may need to restart the kernel to use updated packages.\n"
     ]
    }
   ],
   "source": [
    "%pip install optuna optuna-dashboard"
   ]
  },
  {
   "cell_type": "code",
   "execution_count": 3,
   "metadata": {},
   "outputs": [
    {
     "name": "stderr",
     "output_type": "stream",
     "text": [
      "[I 2024-12-13 18:32:43,457] A new study created in memory with name: no-name-86acb170-a4c2-41f1-a6e2-c36e7d9d3ba8\n",
      "[I 2024-12-13 18:32:45,293] Trial 0 finished with value: 0.94 and parameters: {'classifier': 'RandomForest', 'rf_max_depth': 2}. Best is trial 0 with value: 0.94.\n",
      "[I 2024-12-13 18:32:46,340] Trial 1 finished with value: 0.96 and parameters: {'classifier': 'SVC', 'svc_c': 83579559.50260112}. Best is trial 1 with value: 0.96.\n",
      "[I 2024-12-13 18:32:47,675] Trial 2 finished with value: 0.9533333333333333 and parameters: {'classifier': 'RandomForest', 'rf_max_depth': 21}. Best is trial 1 with value: 0.96.\n",
      "[I 2024-12-13 18:32:47,716] Trial 3 finished with value: 0.96 and parameters: {'classifier': 'SVC', 'svc_c': 1645.8222740332983}. Best is trial 1 with value: 0.96.\n",
      "[I 2024-12-13 18:32:47,747] Trial 4 finished with value: 0.32 and parameters: {'classifier': 'SVC', 'svc_c': 1.18900456284549e-06}. Best is trial 1 with value: 0.96.\n",
      "[I 2024-12-13 18:32:47,783] Trial 5 finished with value: 0.96 and parameters: {'classifier': 'SVC', 'svc_c': 10299507.54593872}. Best is trial 1 with value: 0.96.\n",
      "[I 2024-12-13 18:32:47,964] Trial 6 finished with value: 0.9533333333333333 and parameters: {'classifier': 'RandomForest', 'rf_max_depth': 13}. Best is trial 1 with value: 0.96.\n",
      "[I 2024-12-13 18:32:47,997] Trial 7 finished with value: 0.96 and parameters: {'classifier': 'SVC', 'svc_c': 18274.07278579708}. Best is trial 1 with value: 0.96.\n",
      "[I 2024-12-13 18:32:48,022] Trial 8 finished with value: 0.96 and parameters: {'classifier': 'SVC', 'svc_c': 8421.439163210647}. Best is trial 1 with value: 0.96.\n",
      "[I 2024-12-13 18:32:48,057] Trial 9 finished with value: 0.32 and parameters: {'classifier': 'SVC', 'svc_c': 4.355688767163267e-05}. Best is trial 1 with value: 0.96.\n",
      "[I 2024-12-13 18:32:48,144] Trial 10 finished with value: 0.9533333333333333 and parameters: {'classifier': 'RandomForest', 'rf_max_depth': 3}. Best is trial 1 with value: 0.96.\n",
      "[I 2024-12-13 18:32:48,172] Trial 11 finished with value: 0.96 and parameters: {'classifier': 'SVC', 'svc_c': 221679062.7931086}. Best is trial 1 with value: 0.96.\n",
      "[I 2024-12-13 18:32:48,215] Trial 12 finished with value: 0.9733333333333333 and parameters: {'classifier': 'SVC', 'svc_c': 2.6375488893033476}. Best is trial 12 with value: 0.9733333333333333.\n",
      "[I 2024-12-13 18:32:48,242] Trial 13 finished with value: 0.9 and parameters: {'classifier': 'SVC', 'svc_c': 0.05000138454262776}. Best is trial 12 with value: 0.9733333333333333.\n",
      "[I 2024-12-13 18:32:48,268] Trial 14 finished with value: 0.9533333333333333 and parameters: {'classifier': 'SVC', 'svc_c': 0.14014371372440118}. Best is trial 12 with value: 0.9733333333333333.\n",
      "[I 2024-12-13 18:32:48,301] Trial 15 finished with value: 0.32 and parameters: {'classifier': 'SVC', 'svc_c': 2.6924531712527405e-10}. Best is trial 12 with value: 0.9733333333333333.\n",
      "[I 2024-12-13 18:32:48,325] Trial 16 finished with value: 0.96 and parameters: {'classifier': 'SVC', 'svc_c': 575697953.1049188}. Best is trial 12 with value: 0.9733333333333333.\n",
      "[I 2024-12-13 18:32:48,352] Trial 17 finished with value: 0.96 and parameters: {'classifier': 'SVC', 'svc_c': 44.32407084843106}. Best is trial 12 with value: 0.9733333333333333.\n",
      "[I 2024-12-13 18:32:48,425] Trial 18 finished with value: 0.96 and parameters: {'classifier': 'RandomForest', 'rf_max_depth': 6}. Best is trial 12 with value: 0.9733333333333333.\n",
      "[I 2024-12-13 18:32:48,460] Trial 19 finished with value: 0.96 and parameters: {'classifier': 'SVC', 'svc_c': 579363.6960015353}. Best is trial 12 with value: 0.9733333333333333.\n",
      "[I 2024-12-13 18:32:48,494] Trial 20 finished with value: 0.32 and parameters: {'classifier': 'SVC', 'svc_c': 0.002158836804411264}. Best is trial 12 with value: 0.9733333333333333.\n",
      "[I 2024-12-13 18:32:48,518] Trial 21 finished with value: 0.9466666666666667 and parameters: {'classifier': 'SVC', 'svc_c': 173.36379718555972}. Best is trial 12 with value: 0.9733333333333333.\n",
      "[I 2024-12-13 18:32:48,549] Trial 22 finished with value: 0.96 and parameters: {'classifier': 'SVC', 'svc_c': 8534866605.276563}. Best is trial 12 with value: 0.9733333333333333.\n",
      "[I 2024-12-13 18:32:48,598] Trial 23 finished with value: 0.9666666666666667 and parameters: {'classifier': 'SVC', 'svc_c': 24.384500985993288}. Best is trial 12 with value: 0.9733333333333333.\n",
      "[I 2024-12-13 18:32:48,629] Trial 24 finished with value: 0.9866666666666667 and parameters: {'classifier': 'SVC', 'svc_c': 4.4114033387653135}. Best is trial 24 with value: 0.9866666666666667.\n",
      "[I 2024-12-13 18:32:48,665] Trial 25 finished with value: 0.98 and parameters: {'classifier': 'SVC', 'svc_c': 1.7591559283141938}. Best is trial 24 with value: 0.9866666666666667.\n",
      "[I 2024-12-13 18:32:48,839] Trial 26 finished with value: 0.9533333333333333 and parameters: {'classifier': 'RandomForest', 'rf_max_depth': 32}. Best is trial 24 with value: 0.9866666666666667.\n",
      "[I 2024-12-13 18:32:48,875] Trial 27 finished with value: 0.9666666666666667 and parameters: {'classifier': 'SVC', 'svc_c': 1.4461482981068283}. Best is trial 24 with value: 0.9866666666666667.\n",
      "[I 2024-12-13 18:32:48,904] Trial 28 finished with value: 0.32 and parameters: {'classifier': 'SVC', 'svc_c': 0.0014965374815122104}. Best is trial 24 with value: 0.9866666666666667.\n",
      "[I 2024-12-13 18:32:48,950] Trial 29 finished with value: 0.9533333333333333 and parameters: {'classifier': 'RandomForest', 'rf_max_depth': 6}. Best is trial 24 with value: 0.9866666666666667.\n",
      "[I 2024-12-13 18:32:48,974] Trial 30 finished with value: 0.9666666666666667 and parameters: {'classifier': 'SVC', 'svc_c': 1.6384718066832218}. Best is trial 24 with value: 0.9866666666666667.\n",
      "[I 2024-12-13 18:32:49,005] Trial 31 finished with value: 0.9733333333333333 and parameters: {'classifier': 'SVC', 'svc_c': 12.258307781208032}. Best is trial 24 with value: 0.9866666666666667.\n",
      "[I 2024-12-13 18:32:49,031] Trial 32 finished with value: 0.32 and parameters: {'classifier': 'SVC', 'svc_c': 0.008786774408028353}. Best is trial 24 with value: 0.9866666666666667.\n",
      "[I 2024-12-13 18:32:49,059] Trial 33 finished with value: 0.9866666666666667 and parameters: {'classifier': 'SVC', 'svc_c': 4.564096906948828}. Best is trial 24 with value: 0.9866666666666667.\n",
      "[I 2024-12-13 18:32:49,088] Trial 34 finished with value: 0.32 and parameters: {'classifier': 'SVC', 'svc_c': 6.845316819158588e-05}. Best is trial 24 with value: 0.9866666666666667.\n",
      "[I 2024-12-13 18:32:49,115] Trial 35 finished with value: 0.96 and parameters: {'classifier': 'SVC', 'svc_c': 718.929638589147}. Best is trial 24 with value: 0.9866666666666667.\n",
      "[I 2024-12-13 18:32:49,144] Trial 36 finished with value: 0.9666666666666667 and parameters: {'classifier': 'SVC', 'svc_c': 0.5513469653904011}. Best is trial 24 with value: 0.9866666666666667.\n",
      "[I 2024-12-13 18:32:49,217] Trial 37 finished with value: 0.9666666666666667 and parameters: {'classifier': 'RandomForest', 'rf_max_depth': 12}. Best is trial 24 with value: 0.9866666666666667.\n",
      "[I 2024-12-13 18:32:49,247] Trial 38 finished with value: 0.96 and parameters: {'classifier': 'SVC', 'svc_c': 175061.98089953154}. Best is trial 24 with value: 0.9866666666666667.\n",
      "[I 2024-12-13 18:32:49,277] Trial 39 finished with value: 0.9733333333333333 and parameters: {'classifier': 'SVC', 'svc_c': 11.830787334120826}. Best is trial 24 with value: 0.9866666666666667.\n",
      "[I 2024-12-13 18:32:49,307] Trial 40 finished with value: 0.32 and parameters: {'classifier': 'SVC', 'svc_c': 7.501899332731166e-05}. Best is trial 24 with value: 0.9866666666666667.\n",
      "[I 2024-12-13 18:32:49,338] Trial 41 finished with value: 0.98 and parameters: {'classifier': 'SVC', 'svc_c': 6.367123824553825}. Best is trial 24 with value: 0.9866666666666667.\n",
      "[I 2024-12-13 18:32:49,369] Trial 42 finished with value: 0.96 and parameters: {'classifier': 'SVC', 'svc_c': 650.8113875966396}. Best is trial 24 with value: 0.9866666666666667.\n",
      "[I 2024-12-13 18:32:49,410] Trial 43 finished with value: 0.84 and parameters: {'classifier': 'SVC', 'svc_c': 0.039022075532105675}. Best is trial 24 with value: 0.9866666666666667.\n",
      "[I 2024-12-13 18:32:49,435] Trial 44 finished with value: 0.9666666666666667 and parameters: {'classifier': 'SVC', 'svc_c': 0.751476891653097}. Best is trial 24 with value: 0.9866666666666667.\n",
      "[I 2024-12-13 18:32:49,465] Trial 45 finished with value: 0.96 and parameters: {'classifier': 'SVC', 'svc_c': 5487.112775794659}. Best is trial 24 with value: 0.9866666666666667.\n",
      "[I 2024-12-13 18:32:49,524] Trial 46 finished with value: 0.96 and parameters: {'classifier': 'RandomForest', 'rf_max_depth': 3}. Best is trial 24 with value: 0.9866666666666667.\n",
      "[I 2024-12-13 18:32:49,553] Trial 47 finished with value: 0.96 and parameters: {'classifier': 'SVC', 'svc_c': 137.26890846166228}. Best is trial 24 with value: 0.9866666666666667.\n",
      "[I 2024-12-13 18:32:49,592] Trial 48 finished with value: 0.9733333333333333 and parameters: {'classifier': 'SVC', 'svc_c': 2.965313944239505}. Best is trial 24 with value: 0.9866666666666667.\n",
      "[I 2024-12-13 18:32:49,643] Trial 49 finished with value: 0.96 and parameters: {'classifier': 'SVC', 'svc_c': 68609.87910138324}. Best is trial 24 with value: 0.9866666666666667.\n",
      "[I 2024-12-13 18:32:49,679] Trial 50 finished with value: 0.9199999999999999 and parameters: {'classifier': 'SVC', 'svc_c': 0.05699669753954416}. Best is trial 24 with value: 0.9866666666666667.\n",
      "[I 2024-12-13 18:32:49,706] Trial 51 finished with value: 0.98 and parameters: {'classifier': 'SVC', 'svc_c': 8.989357035967888}. Best is trial 24 with value: 0.9866666666666667.\n",
      "[I 2024-12-13 18:32:49,730] Trial 52 finished with value: 0.98 and parameters: {'classifier': 'SVC', 'svc_c': 5.167362328176958}. Best is trial 24 with value: 0.9866666666666667.\n",
      "[I 2024-12-13 18:32:49,755] Trial 53 finished with value: 0.96 and parameters: {'classifier': 'SVC', 'svc_c': 624.6265189215533}. Best is trial 24 with value: 0.9866666666666667.\n",
      "[I 2024-12-13 18:32:49,781] Trial 54 finished with value: 0.96 and parameters: {'classifier': 'SVC', 'svc_c': 0.2390567392194897}. Best is trial 24 with value: 0.9866666666666667.\n",
      "[I 2024-12-13 18:32:49,811] Trial 55 finished with value: 0.9733333333333333 and parameters: {'classifier': 'SVC', 'svc_c': 14.620638059363607}. Best is trial 24 with value: 0.9866666666666667.\n",
      "[I 2024-12-13 18:32:49,862] Trial 56 finished with value: 0.32 and parameters: {'classifier': 'SVC', 'svc_c': 0.016499860887790076}. Best is trial 24 with value: 0.9866666666666667.\n",
      "[I 2024-12-13 18:32:49,937] Trial 57 finished with value: 0.96 and parameters: {'classifier': 'RandomForest', 'rf_max_depth': 10}. Best is trial 24 with value: 0.9866666666666667.\n",
      "[I 2024-12-13 18:32:49,990] Trial 58 finished with value: 0.32 and parameters: {'classifier': 'SVC', 'svc_c': 0.0007109269104379136}. Best is trial 24 with value: 0.9866666666666667.\n",
      "[I 2024-12-13 18:32:50,025] Trial 59 finished with value: 0.96 and parameters: {'classifier': 'SVC', 'svc_c': 3180909.1332705016}. Best is trial 24 with value: 0.9866666666666667.\n",
      "[I 2024-12-13 18:32:50,055] Trial 60 finished with value: 0.32 and parameters: {'classifier': 'SVC', 'svc_c': 2.6959762363324186e-08}. Best is trial 24 with value: 0.9866666666666667.\n",
      "[I 2024-12-13 18:32:50,084] Trial 61 finished with value: 0.96 and parameters: {'classifier': 'SVC', 'svc_c': 79.67422288904007}. Best is trial 24 with value: 0.9866666666666667.\n",
      "[I 2024-12-13 18:32:50,120] Trial 62 finished with value: 0.9866666666666667 and parameters: {'classifier': 'SVC', 'svc_c': 4.011448383387377}. Best is trial 24 with value: 0.9866666666666667.\n",
      "[I 2024-12-13 18:32:50,144] Trial 63 finished with value: 0.9866666666666667 and parameters: {'classifier': 'SVC', 'svc_c': 4.619212515968621}. Best is trial 24 with value: 0.9866666666666667.\n",
      "[I 2024-12-13 18:32:50,173] Trial 64 finished with value: 0.96 and parameters: {'classifier': 'SVC', 'svc_c': 6794.021682170945}. Best is trial 24 with value: 0.9866666666666667.\n",
      "[I 2024-12-13 18:32:50,215] Trial 65 finished with value: 0.9666666666666667 and parameters: {'classifier': 'SVC', 'svc_c': 0.16525555630325123}. Best is trial 24 with value: 0.9866666666666667.\n",
      "[I 2024-12-13 18:32:50,256] Trial 66 finished with value: 0.96 and parameters: {'classifier': 'SVC', 'svc_c': 93.16844873245282}. Best is trial 24 with value: 0.9866666666666667.\n",
      "[I 2024-12-13 18:32:50,289] Trial 67 finished with value: 0.96 and parameters: {'classifier': 'SVC', 'svc_c': 0.3430994565373535}. Best is trial 24 with value: 0.9866666666666667.\n",
      "[I 2024-12-13 18:32:50,334] Trial 68 finished with value: 0.9466666666666667 and parameters: {'classifier': 'RandomForest', 'rf_max_depth': 4}. Best is trial 24 with value: 0.9866666666666667.\n",
      "[I 2024-12-13 18:32:50,360] Trial 69 finished with value: 0.32 and parameters: {'classifier': 'SVC', 'svc_c': 0.0063554430415296}. Best is trial 24 with value: 0.9866666666666667.\n",
      "[I 2024-12-13 18:32:50,390] Trial 70 finished with value: 0.9733333333333333 and parameters: {'classifier': 'SVC', 'svc_c': 2.5459787531957474}. Best is trial 24 with value: 0.9866666666666667.\n",
      "[I 2024-12-13 18:32:50,412] Trial 71 finished with value: 0.98 and parameters: {'classifier': 'SVC', 'svc_c': 7.212501682833899}. Best is trial 24 with value: 0.9866666666666667.\n",
      "[I 2024-12-13 18:32:50,436] Trial 72 finished with value: 0.98 and parameters: {'classifier': 'SVC', 'svc_c': 5.374295728967795}. Best is trial 24 with value: 0.9866666666666667.\n",
      "[I 2024-12-13 18:32:50,462] Trial 73 finished with value: 0.9666666666666667 and parameters: {'classifier': 'SVC', 'svc_c': 40.41033147310509}. Best is trial 24 with value: 0.9866666666666667.\n",
      "[I 2024-12-13 18:32:50,490] Trial 74 finished with value: 0.96 and parameters: {'classifier': 'SVC', 'svc_c': 1872.241009778466}. Best is trial 24 with value: 0.9866666666666667.\n",
      "[I 2024-12-13 18:32:50,513] Trial 75 finished with value: 0.9666666666666667 and parameters: {'classifier': 'SVC', 'svc_c': 0.6036066173323225}. Best is trial 24 with value: 0.9866666666666667.\n",
      "[I 2024-12-13 18:32:50,542] Trial 76 finished with value: 0.9333333333333332 and parameters: {'classifier': 'SVC', 'svc_c': 0.06465594116602634}. Best is trial 24 with value: 0.9866666666666667.\n",
      "[I 2024-12-13 18:32:50,566] Trial 77 finished with value: 0.9466666666666667 and parameters: {'classifier': 'SVC', 'svc_c': 219.14230550374407}. Best is trial 24 with value: 0.9866666666666667.\n",
      "[I 2024-12-13 18:32:50,593] Trial 78 finished with value: 0.9666666666666667 and parameters: {'classifier': 'SVC', 'svc_c': 25.218091755582808}. Best is trial 24 with value: 0.9866666666666667.\n",
      "[I 2024-12-13 18:32:50,637] Trial 79 finished with value: 0.9733333333333333 and parameters: {'classifier': 'RandomForest', 'rf_max_depth': 2}. Best is trial 24 with value: 0.9866666666666667.\n",
      "[I 2024-12-13 18:32:50,660] Trial 80 finished with value: 0.9733333333333333 and parameters: {'classifier': 'SVC', 'svc_c': 1.8216137967558799}. Best is trial 24 with value: 0.9866666666666667.\n",
      "[I 2024-12-13 18:32:50,691] Trial 81 finished with value: 0.98 and parameters: {'classifier': 'SVC', 'svc_c': 9.105544201709124}. Best is trial 24 with value: 0.9866666666666667.\n",
      "[I 2024-12-13 18:32:50,717] Trial 82 finished with value: 0.98 and parameters: {'classifier': 'SVC', 'svc_c': 8.814951628801449}. Best is trial 24 with value: 0.9866666666666667.\n",
      "[I 2024-12-13 18:32:50,747] Trial 83 finished with value: 0.9666666666666667 and parameters: {'classifier': 'SVC', 'svc_c': 0.7927989446507471}. Best is trial 24 with value: 0.9866666666666667.\n",
      "[I 2024-12-13 18:32:50,777] Trial 84 finished with value: 0.9466666666666667 and parameters: {'classifier': 'SVC', 'svc_c': 260.0806340430856}. Best is trial 24 with value: 0.9866666666666667.\n",
      "[I 2024-12-13 18:32:50,809] Trial 85 finished with value: 0.96 and parameters: {'classifier': 'SVC', 'svc_c': 36.8274414633037}. Best is trial 24 with value: 0.9866666666666667.\n",
      "[I 2024-12-13 18:32:50,842] Trial 86 finished with value: 0.9866666666666667 and parameters: {'classifier': 'SVC', 'svc_c': 4.024832093629398}. Best is trial 24 with value: 0.9866666666666667.\n",
      "[I 2024-12-13 18:32:50,872] Trial 87 finished with value: 0.9666666666666667 and parameters: {'classifier': 'SVC', 'svc_c': 0.15441726688514248}. Best is trial 24 with value: 0.9866666666666667.\n",
      "[I 2024-12-13 18:32:50,904] Trial 88 finished with value: 0.9733333333333333 and parameters: {'classifier': 'SVC', 'svc_c': 2.5097959761590634}. Best is trial 24 with value: 0.9866666666666667.\n",
      "[I 2024-12-13 18:32:50,934] Trial 89 finished with value: 0.96 and parameters: {'classifier': 'SVC', 'svc_c': 1663.5205826490894}. Best is trial 24 with value: 0.9866666666666667.\n",
      "[I 2024-12-13 18:32:50,968] Trial 90 finished with value: 0.7466666666666667 and parameters: {'classifier': 'SVC', 'svc_c': 0.022896443029548005}. Best is trial 24 with value: 0.9866666666666667.\n",
      "[I 2024-12-13 18:32:51,021] Trial 91 finished with value: 0.9733333333333333 and parameters: {'classifier': 'SVC', 'svc_c': 2.8782781663938253}. Best is trial 24 with value: 0.9866666666666667.\n",
      "[I 2024-12-13 18:32:51,099] Trial 92 finished with value: 0.98 and parameters: {'classifier': 'SVC', 'svc_c': 6.1095699928814255}. Best is trial 24 with value: 0.9866666666666667.\n",
      "[I 2024-12-13 18:32:51,127] Trial 93 finished with value: 0.9666666666666667 and parameters: {'classifier': 'SVC', 'svc_c': 0.7282781388914367}. Best is trial 24 with value: 0.9866666666666667.\n",
      "[I 2024-12-13 18:32:51,154] Trial 94 finished with value: 0.9666666666666667 and parameters: {'classifier': 'SVC', 'svc_c': 26.02442340888479}. Best is trial 24 with value: 0.9866666666666667.\n",
      "[I 2024-12-13 18:32:51,177] Trial 95 finished with value: 0.9466666666666667 and parameters: {'classifier': 'SVC', 'svc_c': 0.11951913421881229}. Best is trial 24 with value: 0.9866666666666667.\n",
      "[I 2024-12-13 18:32:51,207] Trial 96 finished with value: 0.96 and parameters: {'classifier': 'SVC', 'svc_c': 66.87148215235919}. Best is trial 24 with value: 0.9866666666666667.\n",
      "[I 2024-12-13 18:32:51,268] Trial 97 finished with value: 0.9466666666666667 and parameters: {'classifier': 'RandomForest', 'rf_max_depth': 20}. Best is trial 24 with value: 0.9866666666666667.\n",
      "[I 2024-12-13 18:32:51,295] Trial 98 finished with value: 0.98 and parameters: {'classifier': 'SVC', 'svc_c': 10.548042585716004}. Best is trial 24 with value: 0.9866666666666667.\n",
      "[I 2024-12-13 18:32:51,328] Trial 99 finished with value: 0.9466666666666667 and parameters: {'classifier': 'SVC', 'svc_c': 175.47330778427894}. Best is trial 24 with value: 0.9866666666666667.\n"
     ]
    },
    {
     "name": "stdout",
     "output_type": "stream",
     "text": [
      "FrozenTrial(number=24, state=TrialState.COMPLETE, values=[0.9866666666666667], datetime_start=datetime.datetime(2024, 12, 13, 18, 32, 48, 600024), datetime_complete=datetime.datetime(2024, 12, 13, 18, 32, 48, 629448), params={'classifier': 'SVC', 'svc_c': 4.4114033387653135}, user_attrs={}, system_attrs={}, intermediate_values={}, distributions={'classifier': CategoricalDistribution(choices=('SVC', 'RandomForest')), 'svc_c': FloatDistribution(high=10000000000.0, log=True, low=1e-10, step=None)}, trial_id=24, value=None)\n"
     ]
    }
   ],
   "source": [
    "\"\"\"\n",
    "Optuna example that optimizes a classifier configuration for Iris dataset using sklearn.\n",
    "\n",
    "In this example, we optimize a classifier configuration for Iris dataset. Classifiers are from\n",
    "scikit-learn. We optimize both the choice of classifier (among SVC and RandomForest) and their\n",
    "hyperparameters.\n",
    "\n",
    "\"\"\"\n",
    "\n",
    "import optuna\n",
    "\n",
    "import sklearn.datasets\n",
    "import sklearn.ensemble\n",
    "import sklearn.model_selection\n",
    "import sklearn.svm\n",
    "\n",
    "\n",
    "# FYI: Objective functions can take additional arguments\n",
    "# (https://optuna.readthedocs.io/en/stable/faq.html#objective-func-additional-args).\n",
    "def objective(trial):\n",
    "    iris = sklearn.datasets.load_iris()\n",
    "    x, y = iris.data, iris.target\n",
    "\n",
    "    classifier_name = trial.suggest_categorical(\"classifier\", [\"SVC\", \"RandomForest\"])\n",
    "    if classifier_name == \"SVC\":\n",
    "        svc_c = trial.suggest_float(\"svc_c\", 1e-10, 1e10, log=True)\n",
    "        classifier_obj = sklearn.svm.SVC(C=svc_c, gamma=\"auto\")\n",
    "    else:\n",
    "        rf_max_depth = trial.suggest_int(\"rf_max_depth\", 2, 32, log=True)\n",
    "        classifier_obj = sklearn.ensemble.RandomForestClassifier(\n",
    "            max_depth=rf_max_depth, n_estimators=10\n",
    "        )\n",
    "\n",
    "    score = sklearn.model_selection.cross_val_score(classifier_obj, x, y, n_jobs=-1, cv=3)\n",
    "    accuracy = score.mean()\n",
    "    return accuracy\n",
    "\n",
    "\n",
    "if __name__ == \"__main__\":\n",
    "    study = optuna.create_study(direction=\"maximize\")\n",
    "    study.optimize(objective, n_trials=100)\n",
    "    print(study.best_trial)"
   ]
  }
 ],
 "metadata": {
  "kernelspec": {
   "display_name": "ai",
   "language": "python",
   "name": "python3"
  },
  "language_info": {
   "codemirror_mode": {
    "name": "ipython",
    "version": 3
   },
   "file_extension": ".py",
   "mimetype": "text/x-python",
   "name": "python",
   "nbconvert_exporter": "python",
   "pygments_lexer": "ipython3",
   "version": "3.9.13"
  }
 },
 "nbformat": 4,
 "nbformat_minor": 2
}
