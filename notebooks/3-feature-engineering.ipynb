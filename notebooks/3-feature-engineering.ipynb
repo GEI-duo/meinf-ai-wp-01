{
 "cells": [
  {
   "cell_type": "markdown",
   "metadata": {},
   "source": [
    "# Feature engineering"
   ]
  },
  {
   "cell_type": "markdown",
   "metadata": {},
   "source": [
    "## Setup"
   ]
  },
  {
   "cell_type": "code",
   "execution_count": 5,
   "metadata": {},
   "outputs": [
    {
     "name": "stdout",
     "output_type": "stream",
     "text": [
      "Requirement already satisfied: scikit-learn==1.5.2 in c:\\users\\drwni\\desktop\\meinf\\ai\\wp_01\\env\\lib\\site-packages (from -r ../requirements.txt (line 1)) (1.5.2)Note: you may need to restart the kernel to use updated packages.\n",
      "\n",
      "Requirement already satisfied: pandas==2.2.3 in c:\\users\\drwni\\desktop\\meinf\\ai\\wp_01\\env\\lib\\site-packages (from -r ../requirements.txt (line 2)) (2.2.3)\n",
      "Requirement already satisfied: seaborn==0.13.2 in c:\\users\\drwni\\desktop\\meinf\\ai\\wp_01\\env\\lib\\site-packages (from -r ../requirements.txt (line 3)) (0.13.2)\n",
      "Requirement already satisfied: ydata_profiling==4.12.0 in c:\\users\\drwni\\desktop\\meinf\\ai\\wp_01\\env\\lib\\site-packages (from -r ../requirements.txt (line 4)) (4.12.0)\n",
      "Requirement already satisfied: ipywidgets==8.1.5 in c:\\users\\drwni\\desktop\\meinf\\ai\\wp_01\\env\\lib\\site-packages (from -r ../requirements.txt (line 5)) (8.1.5)\n",
      "Requirement already satisfied: gradio==4.44.1 in c:\\users\\drwni\\desktop\\meinf\\ai\\wp_01\\env\\lib\\site-packages (from -r ../requirements.txt (line 6)) (4.44.1)\n",
      "Requirement already satisfied: pytz==2024.1 in c:\\users\\drwni\\desktop\\meinf\\ai\\wp_01\\env\\lib\\site-packages (from -r ../requirements.txt (line 7)) (2024.1)\n",
      "Requirement already satisfied: humanize==4.11.0 in c:\\users\\drwni\\desktop\\meinf\\ai\\wp_01\\env\\lib\\site-packages (from -r ../requirements.txt (line 8)) (4.11.0)\n",
      "Requirement already satisfied: sklearn-pandas==2.2.0 in c:\\users\\drwni\\desktop\\meinf\\ai\\wp_01\\env\\lib\\site-packages (from -r ../requirements.txt (line 9)) (2.2.0)\n",
      "Requirement already satisfied: autoreload==0.1.2 in c:\\users\\drwni\\desktop\\meinf\\ai\\wp_01\\env\\lib\\site-packages (from -r ../requirements.txt (line 10)) (0.1.2)\n",
      "Requirement already satisfied: numpy>=1.19.5 in c:\\users\\drwni\\desktop\\meinf\\ai\\wp_01\\env\\lib\\site-packages (from scikit-learn==1.5.2->-r ../requirements.txt (line 1)) (2.0.2)\n",
      "Requirement already satisfied: scipy>=1.6.0 in c:\\users\\drwni\\desktop\\meinf\\ai\\wp_01\\env\\lib\\site-packages (from scikit-learn==1.5.2->-r ../requirements.txt (line 1)) (1.13.1)\n",
      "Requirement already satisfied: joblib>=1.2.0 in c:\\users\\drwni\\desktop\\meinf\\ai\\wp_01\\env\\lib\\site-packages (from scikit-learn==1.5.2->-r ../requirements.txt (line 1)) (1.4.2)\n",
      "Requirement already satisfied: threadpoolctl>=3.1.0 in c:\\users\\drwni\\desktop\\meinf\\ai\\wp_01\\env\\lib\\site-packages (from scikit-learn==1.5.2->-r ../requirements.txt (line 1)) (3.5.0)\n",
      "Requirement already satisfied: python-dateutil>=2.8.2 in c:\\users\\drwni\\desktop\\meinf\\ai\\wp_01\\env\\lib\\site-packages (from pandas==2.2.3->-r ../requirements.txt (line 2)) (2.9.0.post0)\n",
      "Requirement already satisfied: tzdata>=2022.7 in c:\\users\\drwni\\desktop\\meinf\\ai\\wp_01\\env\\lib\\site-packages (from pandas==2.2.3->-r ../requirements.txt (line 2)) (2024.2)\n",
      "Requirement already satisfied: matplotlib!=3.6.1,>=3.4 in c:\\users\\drwni\\desktop\\meinf\\ai\\wp_01\\env\\lib\\site-packages (from seaborn==0.13.2->-r ../requirements.txt (line 3)) (3.9.2)\n",
      "Requirement already satisfied: pydantic>=2 in c:\\users\\drwni\\desktop\\meinf\\ai\\wp_01\\env\\lib\\site-packages (from ydata_profiling==4.12.0->-r ../requirements.txt (line 4)) (2.10.2)\n",
      "Requirement already satisfied: PyYAML<6.1,>=5.0.0 in c:\\users\\drwni\\desktop\\meinf\\ai\\wp_01\\env\\lib\\site-packages (from ydata_profiling==4.12.0->-r ../requirements.txt (line 4)) (6.0.2)\n",
      "Requirement already satisfied: jinja2<3.2,>=2.11.1 in c:\\users\\drwni\\desktop\\meinf\\ai\\wp_01\\env\\lib\\site-packages (from ydata_profiling==4.12.0->-r ../requirements.txt (line 4)) (3.1.4)\n",
      "Requirement already satisfied: visions<0.7.7,>=0.7.5 in c:\\users\\drwni\\desktop\\meinf\\ai\\wp_01\\env\\lib\\site-packages (from visions[type_image_path]<0.7.7,>=0.7.5->ydata_profiling==4.12.0->-r ../requirements.txt (line 4)) (0.7.6)\n",
      "Requirement already satisfied: htmlmin==0.1.12 in c:\\users\\drwni\\desktop\\meinf\\ai\\wp_01\\env\\lib\\site-packages (from ydata_profiling==4.12.0->-r ../requirements.txt (line 4)) (0.1.12)\n",
      "Requirement already satisfied: phik<0.13,>=0.11.1 in c:\\users\\drwni\\desktop\\meinf\\ai\\wp_01\\env\\lib\\site-packages (from ydata_profiling==4.12.0->-r ../requirements.txt (line 4)) (0.12.4)\n",
      "Requirement already satisfied: requests<3,>=2.24.0 in c:\\users\\drwni\\desktop\\meinf\\ai\\wp_01\\env\\lib\\site-packages (from ydata_profiling==4.12.0->-r ../requirements.txt (line 4)) (2.32.3)\n",
      "Requirement already satisfied: tqdm<5,>=4.48.2 in c:\\users\\drwni\\desktop\\meinf\\ai\\wp_01\\env\\lib\\site-packages (from ydata_profiling==4.12.0->-r ../requirements.txt (line 4)) (4.67.1)\n",
      "Requirement already satisfied: multimethod<2,>=1.4 in c:\\users\\drwni\\desktop\\meinf\\ai\\wp_01\\env\\lib\\site-packages (from ydata_profiling==4.12.0->-r ../requirements.txt (line 4)) (1.12)\n",
      "Requirement already satisfied: statsmodels<1,>=0.13.2 in c:\\users\\drwni\\desktop\\meinf\\ai\\wp_01\\env\\lib\\site-packages (from ydata_profiling==4.12.0->-r ../requirements.txt (line 4)) (0.14.4)\n",
      "Requirement already satisfied: typeguard<5,>=3 in c:\\users\\drwni\\desktop\\meinf\\ai\\wp_01\\env\\lib\\site-packages (from ydata_profiling==4.12.0->-r ../requirements.txt (line 4)) (4.4.1)\n",
      "Requirement already satisfied: imagehash==4.3.1 in c:\\users\\drwni\\desktop\\meinf\\ai\\wp_01\\env\\lib\\site-packages (from ydata_profiling==4.12.0->-r ../requirements.txt (line 4)) (4.3.1)\n",
      "Requirement already satisfied: wordcloud>=1.9.3 in c:\\users\\drwni\\desktop\\meinf\\ai\\wp_01\\env\\lib\\site-packages (from ydata_profiling==4.12.0->-r ../requirements.txt (line 4)) (1.9.4)\n",
      "Requirement already satisfied: dacite>=1.8 in c:\\users\\drwni\\desktop\\meinf\\ai\\wp_01\\env\\lib\\site-packages (from ydata_profiling==4.12.0->-r ../requirements.txt (line 4)) (1.8.1)\n",
      "Requirement already satisfied: numba<1,>=0.56.0 in c:\\users\\drwni\\desktop\\meinf\\ai\\wp_01\\env\\lib\\site-packages (from ydata_profiling==4.12.0->-r ../requirements.txt (line 4)) (0.60.0)\n",
      "Requirement already satisfied: comm>=0.1.3 in c:\\users\\drwni\\desktop\\meinf\\ai\\wp_01\\env\\lib\\site-packages (from ipywidgets==8.1.5->-r ../requirements.txt (line 5)) (0.2.2)\n",
      "Requirement already satisfied: ipython>=6.1.0 in c:\\users\\drwni\\desktop\\meinf\\ai\\wp_01\\env\\lib\\site-packages (from ipywidgets==8.1.5->-r ../requirements.txt (line 5)) (8.18.1)\n",
      "Requirement already satisfied: traitlets>=4.3.1 in c:\\users\\drwni\\desktop\\meinf\\ai\\wp_01\\env\\lib\\site-packages (from ipywidgets==8.1.5->-r ../requirements.txt (line 5)) (5.14.3)\n",
      "Requirement already satisfied: widgetsnbextension~=4.0.12 in c:\\users\\drwni\\desktop\\meinf\\ai\\wp_01\\env\\lib\\site-packages (from ipywidgets==8.1.5->-r ../requirements.txt (line 5)) (4.0.13)\n",
      "Requirement already satisfied: jupyterlab-widgets~=3.0.12 in c:\\users\\drwni\\desktop\\meinf\\ai\\wp_01\\env\\lib\\site-packages (from ipywidgets==8.1.5->-r ../requirements.txt (line 5)) (3.0.13)\n",
      "Requirement already satisfied: aiofiles<24.0,>=22.0 in c:\\users\\drwni\\desktop\\meinf\\ai\\wp_01\\env\\lib\\site-packages (from gradio==4.44.1->-r ../requirements.txt (line 6)) (23.2.1)\n",
      "Requirement already satisfied: anyio<5.0,>=3.0 in c:\\users\\drwni\\desktop\\meinf\\ai\\wp_01\\env\\lib\\site-packages (from gradio==4.44.1->-r ../requirements.txt (line 6)) (4.6.2.post1)\n",
      "Requirement already satisfied: fastapi<1.0 in c:\\users\\drwni\\desktop\\meinf\\ai\\wp_01\\env\\lib\\site-packages (from gradio==4.44.1->-r ../requirements.txt (line 6)) (0.115.5)\n",
      "Requirement already satisfied: ffmpy in c:\\users\\drwni\\desktop\\meinf\\ai\\wp_01\\env\\lib\\site-packages (from gradio==4.44.1->-r ../requirements.txt (line 6)) (0.4.0)\n",
      "Requirement already satisfied: gradio-client==1.3.0 in c:\\users\\drwni\\desktop\\meinf\\ai\\wp_01\\env\\lib\\site-packages (from gradio==4.44.1->-r ../requirements.txt (line 6)) (1.3.0)\n",
      "Requirement already satisfied: httpx>=0.24.1 in c:\\users\\drwni\\desktop\\meinf\\ai\\wp_01\\env\\lib\\site-packages (from gradio==4.44.1->-r ../requirements.txt (line 6)) (0.28.0)\n",
      "Requirement already satisfied: huggingface-hub>=0.19.3 in c:\\users\\drwni\\desktop\\meinf\\ai\\wp_01\\env\\lib\\site-packages (from gradio==4.44.1->-r ../requirements.txt (line 6)) (0.26.3)\n",
      "Requirement already satisfied: importlib-resources<7.0,>=1.3 in c:\\users\\drwni\\desktop\\meinf\\ai\\wp_01\\env\\lib\\site-packages (from gradio==4.44.1->-r ../requirements.txt (line 6)) (6.4.5)\n",
      "Requirement already satisfied: markupsafe~=2.0 in c:\\users\\drwni\\desktop\\meinf\\ai\\wp_01\\env\\lib\\site-packages (from gradio==4.44.1->-r ../requirements.txt (line 6)) (2.1.5)\n",
      "Requirement already satisfied: orjson~=3.0 in c:\\users\\drwni\\desktop\\meinf\\ai\\wp_01\\env\\lib\\site-packages (from gradio==4.44.1->-r ../requirements.txt (line 6)) (3.10.12)\n",
      "Requirement already satisfied: packaging in c:\\users\\drwni\\desktop\\meinf\\ai\\wp_01\\env\\lib\\site-packages (from gradio==4.44.1->-r ../requirements.txt (line 6)) (24.2)\n",
      "Requirement already satisfied: pillow<11.0,>=8.0 in c:\\users\\drwni\\desktop\\meinf\\ai\\wp_01\\env\\lib\\site-packages (from gradio==4.44.1->-r ../requirements.txt (line 6)) (10.4.0)\n",
      "Requirement already satisfied: pydub in c:\\users\\drwni\\desktop\\meinf\\ai\\wp_01\\env\\lib\\site-packages (from gradio==4.44.1->-r ../requirements.txt (line 6)) (0.25.1)\n",
      "Requirement already satisfied: python-multipart>=0.0.9 in c:\\users\\drwni\\desktop\\meinf\\ai\\wp_01\\env\\lib\\site-packages (from gradio==4.44.1->-r ../requirements.txt (line 6)) (0.0.18)\n",
      "Requirement already satisfied: ruff>=0.2.2 in c:\\users\\drwni\\desktop\\meinf\\ai\\wp_01\\env\\lib\\site-packages (from gradio==4.44.1->-r ../requirements.txt (line 6)) (0.8.1)\n",
      "Requirement already satisfied: semantic-version~=2.0 in c:\\users\\drwni\\desktop\\meinf\\ai\\wp_01\\env\\lib\\site-packages (from gradio==4.44.1->-r ../requirements.txt (line 6)) (2.10.0)\n",
      "Requirement already satisfied: tomlkit==0.12.0 in c:\\users\\drwni\\desktop\\meinf\\ai\\wp_01\\env\\lib\\site-packages (from gradio==4.44.1->-r ../requirements.txt (line 6)) (0.12.0)\n",
      "Requirement already satisfied: typer<1.0,>=0.12 in c:\\users\\drwni\\desktop\\meinf\\ai\\wp_01\\env\\lib\\site-packages (from gradio==4.44.1->-r ../requirements.txt (line 6)) (0.14.0)\n",
      "Requirement already satisfied: typing-extensions~=4.0 in c:\\users\\drwni\\desktop\\meinf\\ai\\wp_01\\env\\lib\\site-packages (from gradio==4.44.1->-r ../requirements.txt (line 6)) (4.12.2)\n",
      "Requirement already satisfied: urllib3~=2.0 in c:\\users\\drwni\\desktop\\meinf\\ai\\wp_01\\env\\lib\\site-packages (from gradio==4.44.1->-r ../requirements.txt (line 6)) (2.2.3)\n",
      "Requirement already satisfied: uvicorn>=0.14.0 in c:\\users\\drwni\\desktop\\meinf\\ai\\wp_01\\env\\lib\\site-packages (from gradio==4.44.1->-r ../requirements.txt (line 6)) (0.32.1)\n",
      "Requirement already satisfied: selenium in c:\\users\\drwni\\desktop\\meinf\\ai\\wp_01\\env\\lib\\site-packages (from autoreload==0.1.2->-r ../requirements.txt (line 10)) (4.27.1)\n",
      "Requirement already satisfied: click in c:\\users\\drwni\\desktop\\meinf\\ai\\wp_01\\env\\lib\\site-packages (from autoreload==0.1.2->-r ../requirements.txt (line 10)) (8.1.7)\n",
      "Requirement already satisfied: watchdog in c:\\users\\drwni\\desktop\\meinf\\ai\\wp_01\\env\\lib\\site-packages (from autoreload==0.1.2->-r ../requirements.txt (line 10)) (6.0.0)\n",
      "Requirement already satisfied: fsspec in c:\\users\\drwni\\desktop\\meinf\\ai\\wp_01\\env\\lib\\site-packages (from gradio-client==1.3.0->gradio==4.44.1->-r ../requirements.txt (line 6)) (2024.10.0)\n",
      "Requirement already satisfied: websockets<13.0,>=10.0 in c:\\users\\drwni\\desktop\\meinf\\ai\\wp_01\\env\\lib\\site-packages (from gradio-client==1.3.0->gradio==4.44.1->-r ../requirements.txt (line 6)) (12.0)\n",
      "Requirement already satisfied: PyWavelets in c:\\users\\drwni\\desktop\\meinf\\ai\\wp_01\\env\\lib\\site-packages (from imagehash==4.3.1->ydata_profiling==4.12.0->-r ../requirements.txt (line 4)) (1.6.0)\n",
      "Requirement already satisfied: idna>=2.8 in c:\\users\\drwni\\desktop\\meinf\\ai\\wp_01\\env\\lib\\site-packages (from anyio<5.0,>=3.0->gradio==4.44.1->-r ../requirements.txt (line 6)) (3.10)\n",
      "Requirement already satisfied: sniffio>=1.1 in c:\\users\\drwni\\desktop\\meinf\\ai\\wp_01\\env\\lib\\site-packages (from anyio<5.0,>=3.0->gradio==4.44.1->-r ../requirements.txt (line 6)) (1.3.1)\n",
      "Requirement already satisfied: exceptiongroup>=1.0.2 in c:\\users\\drwni\\desktop\\meinf\\ai\\wp_01\\env\\lib\\site-packages (from anyio<5.0,>=3.0->gradio==4.44.1->-r ../requirements.txt (line 6)) (1.2.2)\n",
      "Requirement already satisfied: starlette<0.42.0,>=0.40.0 in c:\\users\\drwni\\desktop\\meinf\\ai\\wp_01\\env\\lib\\site-packages (from fastapi<1.0->gradio==4.44.1->-r ../requirements.txt (line 6)) (0.41.3)\n",
      "Requirement already satisfied: certifi in c:\\users\\drwni\\desktop\\meinf\\ai\\wp_01\\env\\lib\\site-packages (from httpx>=0.24.1->gradio==4.44.1->-r ../requirements.txt (line 6)) (2024.8.30)\n",
      "Requirement already satisfied: httpcore==1.* in c:\\users\\drwni\\desktop\\meinf\\ai\\wp_01\\env\\lib\\site-packages (from httpx>=0.24.1->gradio==4.44.1->-r ../requirements.txt (line 6)) (1.0.7)\n",
      "Requirement already satisfied: h11<0.15,>=0.13 in c:\\users\\drwni\\desktop\\meinf\\ai\\wp_01\\env\\lib\\site-packages (from httpcore==1.*->httpx>=0.24.1->gradio==4.44.1->-r ../requirements.txt (line 6)) (0.14.0)\n",
      "Requirement already satisfied: filelock in c:\\users\\drwni\\desktop\\meinf\\ai\\wp_01\\env\\lib\\site-packages (from huggingface-hub>=0.19.3->gradio==4.44.1->-r ../requirements.txt (line 6)) (3.16.1)\n",
      "Requirement already satisfied: zipp>=3.1.0 in c:\\users\\drwni\\desktop\\meinf\\ai\\wp_01\\env\\lib\\site-packages (from importlib-resources<7.0,>=1.3->gradio==4.44.1->-r ../requirements.txt (line 6)) (3.21.0)\n",
      "Requirement already satisfied: decorator in c:\\users\\drwni\\desktop\\meinf\\ai\\wp_01\\env\\lib\\site-packages (from ipython>=6.1.0->ipywidgets==8.1.5->-r ../requirements.txt (line 5)) (5.1.1)\n",
      "Requirement already satisfied: jedi>=0.16 in c:\\users\\drwni\\desktop\\meinf\\ai\\wp_01\\env\\lib\\site-packages (from ipython>=6.1.0->ipywidgets==8.1.5->-r ../requirements.txt (line 5)) (0.19.2)\n",
      "Requirement already satisfied: matplotlib-inline in c:\\users\\drwni\\desktop\\meinf\\ai\\wp_01\\env\\lib\\site-packages (from ipython>=6.1.0->ipywidgets==8.1.5->-r ../requirements.txt (line 5)) (0.1.7)\n",
      "Requirement already satisfied: prompt-toolkit<3.1.0,>=3.0.41 in c:\\users\\drwni\\desktop\\meinf\\ai\\wp_01\\env\\lib\\site-packages (from ipython>=6.1.0->ipywidgets==8.1.5->-r ../requirements.txt (line 5)) (3.0.48)\n",
      "Requirement already satisfied: pygments>=2.4.0 in c:\\users\\drwni\\desktop\\meinf\\ai\\wp_01\\env\\lib\\site-packages (from ipython>=6.1.0->ipywidgets==8.1.5->-r ../requirements.txt (line 5)) (2.18.0)\n",
      "Requirement already satisfied: stack-data in c:\\users\\drwni\\desktop\\meinf\\ai\\wp_01\\env\\lib\\site-packages (from ipython>=6.1.0->ipywidgets==8.1.5->-r ../requirements.txt (line 5)) (0.6.3)\n",
      "Requirement already satisfied: colorama in c:\\users\\drwni\\desktop\\meinf\\ai\\wp_01\\env\\lib\\site-packages (from ipython>=6.1.0->ipywidgets==8.1.5->-r ../requirements.txt (line 5)) (0.4.6)\n",
      "Requirement already satisfied: contourpy>=1.0.1 in c:\\users\\drwni\\desktop\\meinf\\ai\\wp_01\\env\\lib\\site-packages (from matplotlib!=3.6.1,>=3.4->seaborn==0.13.2->-r ../requirements.txt (line 3)) (1.3.0)\n",
      "Requirement already satisfied: cycler>=0.10 in c:\\users\\drwni\\desktop\\meinf\\ai\\wp_01\\env\\lib\\site-packages (from matplotlib!=3.6.1,>=3.4->seaborn==0.13.2->-r ../requirements.txt (line 3)) (0.12.1)\n",
      "Requirement already satisfied: fonttools>=4.22.0 in c:\\users\\drwni\\desktop\\meinf\\ai\\wp_01\\env\\lib\\site-packages (from matplotlib!=3.6.1,>=3.4->seaborn==0.13.2->-r ../requirements.txt (line 3)) (4.55.0)\n",
      "Requirement already satisfied: kiwisolver>=1.3.1 in c:\\users\\drwni\\desktop\\meinf\\ai\\wp_01\\env\\lib\\site-packages (from matplotlib!=3.6.1,>=3.4->seaborn==0.13.2->-r ../requirements.txt (line 3)) (1.4.7)\n",
      "Requirement already satisfied: pyparsing>=2.3.1 in c:\\users\\drwni\\desktop\\meinf\\ai\\wp_01\\env\\lib\\site-packages (from matplotlib!=3.6.1,>=3.4->seaborn==0.13.2->-r ../requirements.txt (line 3)) (3.2.0)\n",
      "Requirement already satisfied: llvmlite<0.44,>=0.43.0dev0 in c:\\users\\drwni\\desktop\\meinf\\ai\\wp_01\\env\\lib\\site-packages (from numba<1,>=0.56.0->ydata_profiling==4.12.0->-r ../requirements.txt (line 4)) (0.43.0)\n",
      "Requirement already satisfied: annotated-types>=0.6.0 in c:\\users\\drwni\\desktop\\meinf\\ai\\wp_01\\env\\lib\\site-packages (from pydantic>=2->ydata_profiling==4.12.0->-r ../requirements.txt (line 4)) (0.7.0)\n",
      "Requirement already satisfied: pydantic-core==2.27.1 in c:\\users\\drwni\\desktop\\meinf\\ai\\wp_01\\env\\lib\\site-packages (from pydantic>=2->ydata_profiling==4.12.0->-r ../requirements.txt (line 4)) (2.27.1)\n",
      "Requirement already satisfied: six>=1.5 in c:\\users\\drwni\\desktop\\meinf\\ai\\wp_01\\env\\lib\\site-packages (from python-dateutil>=2.8.2->pandas==2.2.3->-r ../requirements.txt (line 2)) (1.16.0)\n",
      "Requirement already satisfied: charset-normalizer<4,>=2 in c:\\users\\drwni\\desktop\\meinf\\ai\\wp_01\\env\\lib\\site-packages (from requests<3,>=2.24.0->ydata_profiling==4.12.0->-r ../requirements.txt (line 4)) (3.4.0)\n",
      "Requirement already satisfied: patsy>=0.5.6 in c:\\users\\drwni\\desktop\\meinf\\ai\\wp_01\\env\\lib\\site-packages (from statsmodels<1,>=0.13.2->ydata_profiling==4.12.0->-r ../requirements.txt (line 4)) (1.0.1)\n",
      "Requirement already satisfied: importlib-metadata>=3.6 in c:\\users\\drwni\\desktop\\meinf\\ai\\wp_01\\env\\lib\\site-packages (from typeguard<5,>=3->ydata_profiling==4.12.0->-r ../requirements.txt (line 4)) (8.5.0)\n",
      "Requirement already satisfied: shellingham>=1.3.0 in c:\\users\\drwni\\desktop\\meinf\\ai\\wp_01\\env\\lib\\site-packages (from typer<1.0,>=0.12->gradio==4.44.1->-r ../requirements.txt (line 6)) (1.5.4)\n",
      "Requirement already satisfied: rich>=10.11.0 in c:\\users\\drwni\\desktop\\meinf\\ai\\wp_01\\env\\lib\\site-packages (from typer<1.0,>=0.12->gradio==4.44.1->-r ../requirements.txt (line 6)) (13.9.4)\n",
      "Requirement already satisfied: attrs>=19.3.0 in c:\\users\\drwni\\desktop\\meinf\\ai\\wp_01\\env\\lib\\site-packages (from visions<0.7.7,>=0.7.5->visions[type_image_path]<0.7.7,>=0.7.5->ydata_profiling==4.12.0->-r ../requirements.txt (line 4)) (24.2.0)\n",
      "Requirement already satisfied: networkx>=2.4 in c:\\users\\drwni\\desktop\\meinf\\ai\\wp_01\\env\\lib\\site-packages (from visions<0.7.7,>=0.7.5->visions[type_image_path]<0.7.7,>=0.7.5->ydata_profiling==4.12.0->-r ../requirements.txt (line 4)) (3.2.1)\n",
      "Requirement already satisfied: trio~=0.17 in c:\\users\\drwni\\desktop\\meinf\\ai\\wp_01\\env\\lib\\site-packages (from selenium->autoreload==0.1.2->-r ../requirements.txt (line 10)) (0.27.0)\n",
      "Requirement already satisfied: trio-websocket~=0.9 in c:\\users\\drwni\\desktop\\meinf\\ai\\wp_01\\env\\lib\\site-packages (from selenium->autoreload==0.1.2->-r ../requirements.txt (line 10)) (0.11.1)\n",
      "Requirement already satisfied: websocket-client~=1.8 in c:\\users\\drwni\\desktop\\meinf\\ai\\wp_01\\env\\lib\\site-packages (from selenium->autoreload==0.1.2->-r ../requirements.txt (line 10)) (1.8.0)\n",
      "Requirement already satisfied: parso<0.9.0,>=0.8.4 in c:\\users\\drwni\\desktop\\meinf\\ai\\wp_01\\env\\lib\\site-packages (from jedi>=0.16->ipython>=6.1.0->ipywidgets==8.1.5->-r ../requirements.txt (line 5)) (0.8.4)\n",
      "Requirement already satisfied: wcwidth in c:\\users\\drwni\\desktop\\meinf\\ai\\wp_01\\env\\lib\\site-packages (from prompt-toolkit<3.1.0,>=3.0.41->ipython>=6.1.0->ipywidgets==8.1.5->-r ../requirements.txt (line 5)) (0.2.13)\n",
      "Requirement already satisfied: markdown-it-py>=2.2.0 in c:\\users\\drwni\\desktop\\meinf\\ai\\wp_01\\env\\lib\\site-packages (from rich>=10.11.0->typer<1.0,>=0.12->gradio==4.44.1->-r ../requirements.txt (line 6)) (3.0.0)\n",
      "Requirement already satisfied: sortedcontainers in c:\\users\\drwni\\desktop\\meinf\\ai\\wp_01\\env\\lib\\site-packages (from trio~=0.17->selenium->autoreload==0.1.2->-r ../requirements.txt (line 10)) (2.4.0)\n",
      "Requirement already satisfied: outcome in c:\\users\\drwni\\desktop\\meinf\\ai\\wp_01\\env\\lib\\site-packages (from trio~=0.17->selenium->autoreload==0.1.2->-r ../requirements.txt (line 10)) (1.3.0.post0)\n",
      "Requirement already satisfied: cffi>=1.14 in c:\\users\\drwni\\desktop\\meinf\\ai\\wp_01\\env\\lib\\site-packages (from trio~=0.17->selenium->autoreload==0.1.2->-r ../requirements.txt (line 10)) (1.17.1)\n",
      "Requirement already satisfied: wsproto>=0.14 in c:\\users\\drwni\\desktop\\meinf\\ai\\wp_01\\env\\lib\\site-packages (from trio-websocket~=0.9->selenium->autoreload==0.1.2->-r ../requirements.txt (line 10)) (1.2.0)\n",
      "Requirement already satisfied: pysocks!=1.5.7,<2.0,>=1.5.6 in c:\\users\\drwni\\desktop\\meinf\\ai\\wp_01\\env\\lib\\site-packages (from urllib3[socks]<3,>=1.26->selenium->autoreload==0.1.2->-r ../requirements.txt (line 10)) (1.7.1)\n",
      "Requirement already satisfied: executing>=1.2.0 in c:\\users\\drwni\\desktop\\meinf\\ai\\wp_01\\env\\lib\\site-packages (from stack-data->ipython>=6.1.0->ipywidgets==8.1.5->-r ../requirements.txt (line 5)) (2.1.0)\n",
      "Requirement already satisfied: asttokens>=2.1.0 in c:\\users\\drwni\\desktop\\meinf\\ai\\wp_01\\env\\lib\\site-packages (from stack-data->ipython>=6.1.0->ipywidgets==8.1.5->-r ../requirements.txt (line 5)) (2.4.1)\n",
      "Requirement already satisfied: pure-eval in c:\\users\\drwni\\desktop\\meinf\\ai\\wp_01\\env\\lib\\site-packages (from stack-data->ipython>=6.1.0->ipywidgets==8.1.5->-r ../requirements.txt (line 5)) (0.2.3)\n",
      "Requirement already satisfied: pycparser in c:\\users\\drwni\\desktop\\meinf\\ai\\wp_01\\env\\lib\\site-packages (from cffi>=1.14->trio~=0.17->selenium->autoreload==0.1.2->-r ../requirements.txt (line 10)) (2.22)\n",
      "Requirement already satisfied: mdurl~=0.1 in c:\\users\\drwni\\desktop\\meinf\\ai\\wp_01\\env\\lib\\site-packages (from markdown-it-py>=2.2.0->rich>=10.11.0->typer<1.0,>=0.12->gradio==4.44.1->-r ../requirements.txt (line 6)) (0.1.2)\n"
     ]
    }
   ],
   "source": [
    "%pip install -r ../requirements.txt"
   ]
  },
  {
   "cell_type": "code",
   "execution_count": 6,
   "metadata": {},
   "outputs": [],
   "source": [
    "import sys\n",
    "sys.path.append('../')"
   ]
  },
  {
   "cell_type": "code",
   "execution_count": 7,
   "metadata": {},
   "outputs": [
    {
     "name": "stdout",
     "output_type": "stream",
     "text": [
      "The autoreload module is not an IPython extension.\n"
     ]
    }
   ],
   "source": [
    "import os\n",
    "import numpy as np\n",
    "import pandas as pd\n",
    "from pathlib import Path\n",
    "import seaborn as sns\n",
    "import matplotlib.pyplot as plt\n",
    "import tqdm # DO NOT REMOVE\n",
    "\n",
    "%matplotlib inline"
   ]
  },
  {
   "cell_type": "markdown",
   "metadata": {},
   "source": [
    "## Run setup\n"
   ]
  },
  {
   "cell_type": "code",
   "execution_count": 17,
   "metadata": {},
   "outputs": [],
   "source": [
    "CSV_PATH = \"../data/gym_members_exercise_tracking.csv\"\n",
    "df = pd.read_csv(CSV_PATH)"
   ]
  },
  {
   "cell_type": "code",
   "execution_count": 19,
   "metadata": {},
   "outputs": [
    {
     "data": {
      "text/plain": [
       "WindowsPath('c:/Users/drwni/Desktop/MEINF/AI/WP_01/runs/2024-12-12 20-12-34/data/raw/gym_members_exercise_tracking')"
      ]
     },
     "execution_count": 19,
     "metadata": {},
     "output_type": "execute_result"
    }
   ],
   "source": [
    "from libs.setup import Run\n",
    "\n",
    "run = Run(Path.joinpath(Path.cwd().parent, \"runs\")).initialize()\n",
    "\n",
    "run.add_raw(df, filename=\"gym_members_exercise_tracking\")"
   ]
  },
  {
   "cell_type": "markdown",
   "metadata": {},
   "source": [
    "## Feature creation"
   ]
  },
  {
   "cell_type": "code",
   "execution_count": 10,
   "metadata": {},
   "outputs": [
    {
     "name": "stdout",
     "output_type": "stream",
     "text": [
      "No missing values\n"
     ]
    }
   ],
   "source": [
    "# Show missing values\n",
    "_null = df.isnull().sum()\n",
    "\n",
    "print(_null[_null > 0] if any(_null) else \"No missing values\")"
   ]
  },
  {
   "cell_type": "markdown",
   "metadata": {},
   "source": [
    "There are no missing values in the dataset, so we won't have to create any missing imputation."
   ]
  },
  {
   "cell_type": "markdown",
   "metadata": {},
   "source": [
    "## Feature encoding"
   ]
  },
  {
   "cell_type": "code",
   "execution_count": 20,
   "metadata": {},
   "outputs": [
    {
     "data": {
      "text/html": [
       "<div>\n",
       "<style scoped>\n",
       "    .dataframe tbody tr th:only-of-type {\n",
       "        vertical-align: middle;\n",
       "    }\n",
       "\n",
       "    .dataframe tbody tr th {\n",
       "        vertical-align: top;\n",
       "    }\n",
       "\n",
       "    .dataframe thead th {\n",
       "        text-align: right;\n",
       "    }\n",
       "</style>\n",
       "<table border=\"1\" class=\"dataframe\">\n",
       "  <thead>\n",
       "    <tr style=\"text-align: right;\">\n",
       "      <th></th>\n",
       "      <th>Age</th>\n",
       "      <th>Weight (kg)</th>\n",
       "      <th>Height (m)</th>\n",
       "      <th>Max_BPM</th>\n",
       "      <th>Avg_BPM</th>\n",
       "      <th>Resting_BPM</th>\n",
       "      <th>Session_Duration (hours)</th>\n",
       "      <th>Calories_Burned</th>\n",
       "      <th>Fat_Percentage</th>\n",
       "      <th>Water_Intake (liters)</th>\n",
       "      <th>Workout_Frequency (days/week)</th>\n",
       "      <th>Experience_Level</th>\n",
       "      <th>BMI</th>\n",
       "      <th>Gender_Female</th>\n",
       "      <th>Gender_Male</th>\n",
       "      <th>Workout_Type_Cardio</th>\n",
       "      <th>Workout_Type_HIIT</th>\n",
       "      <th>Workout_Type_Strength</th>\n",
       "      <th>Workout_Type_Yoga</th>\n",
       "    </tr>\n",
       "  </thead>\n",
       "  <tbody>\n",
       "    <tr>\n",
       "      <th>0</th>\n",
       "      <td>56</td>\n",
       "      <td>88.3</td>\n",
       "      <td>1.71</td>\n",
       "      <td>180</td>\n",
       "      <td>157</td>\n",
       "      <td>60</td>\n",
       "      <td>1.69</td>\n",
       "      <td>1313.0</td>\n",
       "      <td>12.6</td>\n",
       "      <td>3.5</td>\n",
       "      <td>4</td>\n",
       "      <td>3</td>\n",
       "      <td>30.20</td>\n",
       "      <td>0.0</td>\n",
       "      <td>1.0</td>\n",
       "      <td>0.0</td>\n",
       "      <td>0.0</td>\n",
       "      <td>0.0</td>\n",
       "      <td>1.0</td>\n",
       "    </tr>\n",
       "    <tr>\n",
       "      <th>1</th>\n",
       "      <td>46</td>\n",
       "      <td>74.9</td>\n",
       "      <td>1.53</td>\n",
       "      <td>179</td>\n",
       "      <td>151</td>\n",
       "      <td>66</td>\n",
       "      <td>1.30</td>\n",
       "      <td>883.0</td>\n",
       "      <td>33.9</td>\n",
       "      <td>2.1</td>\n",
       "      <td>4</td>\n",
       "      <td>2</td>\n",
       "      <td>32.00</td>\n",
       "      <td>1.0</td>\n",
       "      <td>0.0</td>\n",
       "      <td>0.0</td>\n",
       "      <td>1.0</td>\n",
       "      <td>0.0</td>\n",
       "      <td>0.0</td>\n",
       "    </tr>\n",
       "    <tr>\n",
       "      <th>2</th>\n",
       "      <td>32</td>\n",
       "      <td>68.1</td>\n",
       "      <td>1.66</td>\n",
       "      <td>167</td>\n",
       "      <td>122</td>\n",
       "      <td>54</td>\n",
       "      <td>1.11</td>\n",
       "      <td>677.0</td>\n",
       "      <td>33.4</td>\n",
       "      <td>2.3</td>\n",
       "      <td>4</td>\n",
       "      <td>2</td>\n",
       "      <td>24.71</td>\n",
       "      <td>1.0</td>\n",
       "      <td>0.0</td>\n",
       "      <td>1.0</td>\n",
       "      <td>0.0</td>\n",
       "      <td>0.0</td>\n",
       "      <td>0.0</td>\n",
       "    </tr>\n",
       "    <tr>\n",
       "      <th>3</th>\n",
       "      <td>25</td>\n",
       "      <td>53.2</td>\n",
       "      <td>1.70</td>\n",
       "      <td>190</td>\n",
       "      <td>164</td>\n",
       "      <td>56</td>\n",
       "      <td>0.59</td>\n",
       "      <td>532.0</td>\n",
       "      <td>28.8</td>\n",
       "      <td>2.1</td>\n",
       "      <td>3</td>\n",
       "      <td>1</td>\n",
       "      <td>18.41</td>\n",
       "      <td>0.0</td>\n",
       "      <td>1.0</td>\n",
       "      <td>0.0</td>\n",
       "      <td>0.0</td>\n",
       "      <td>1.0</td>\n",
       "      <td>0.0</td>\n",
       "    </tr>\n",
       "    <tr>\n",
       "      <th>4</th>\n",
       "      <td>38</td>\n",
       "      <td>46.1</td>\n",
       "      <td>1.79</td>\n",
       "      <td>188</td>\n",
       "      <td>158</td>\n",
       "      <td>68</td>\n",
       "      <td>0.64</td>\n",
       "      <td>556.0</td>\n",
       "      <td>29.2</td>\n",
       "      <td>2.8</td>\n",
       "      <td>3</td>\n",
       "      <td>1</td>\n",
       "      <td>14.39</td>\n",
       "      <td>0.0</td>\n",
       "      <td>1.0</td>\n",
       "      <td>0.0</td>\n",
       "      <td>0.0</td>\n",
       "      <td>1.0</td>\n",
       "      <td>0.0</td>\n",
       "    </tr>\n",
       "  </tbody>\n",
       "</table>\n",
       "</div>"
      ],
      "text/plain": [
       "   Age  Weight (kg)  Height (m)  Max_BPM  Avg_BPM  Resting_BPM  \\\n",
       "0   56         88.3        1.71      180      157           60   \n",
       "1   46         74.9        1.53      179      151           66   \n",
       "2   32         68.1        1.66      167      122           54   \n",
       "3   25         53.2        1.70      190      164           56   \n",
       "4   38         46.1        1.79      188      158           68   \n",
       "\n",
       "   Session_Duration (hours)  Calories_Burned  Fat_Percentage  \\\n",
       "0                      1.69           1313.0            12.6   \n",
       "1                      1.30            883.0            33.9   \n",
       "2                      1.11            677.0            33.4   \n",
       "3                      0.59            532.0            28.8   \n",
       "4                      0.64            556.0            29.2   \n",
       "\n",
       "   Water_Intake (liters)  Workout_Frequency (days/week)  Experience_Level  \\\n",
       "0                    3.5                              4                 3   \n",
       "1                    2.1                              4                 2   \n",
       "2                    2.3                              4                 2   \n",
       "3                    2.1                              3                 1   \n",
       "4                    2.8                              3                 1   \n",
       "\n",
       "     BMI  Gender_Female  Gender_Male  Workout_Type_Cardio  Workout_Type_HIIT  \\\n",
       "0  30.20            0.0          1.0                  0.0                0.0   \n",
       "1  32.00            1.0          0.0                  0.0                1.0   \n",
       "2  24.71            1.0          0.0                  1.0                0.0   \n",
       "3  18.41            0.0          1.0                  0.0                0.0   \n",
       "4  14.39            0.0          1.0                  0.0                0.0   \n",
       "\n",
       "   Workout_Type_Strength  Workout_Type_Yoga  \n",
       "0                    0.0                1.0  \n",
       "1                    0.0                0.0  \n",
       "2                    0.0                0.0  \n",
       "3                    1.0                0.0  \n",
       "4                    1.0                0.0  "
      ]
     },
     "execution_count": 20,
     "metadata": {},
     "output_type": "execute_result"
    }
   ],
   "source": [
    "from sklearn.preprocessing import OneHotEncoder\n",
    "\n",
    "_encoder = OneHotEncoder()\n",
    "_encoded_categorical = pd.DataFrame(\n",
    "    _encoder.fit_transform(df.select_dtypes(include=['object'])).toarray(), \n",
    "    columns=_encoder.get_feature_names_out(df.select_dtypes(include=['object']).columns),\n",
    ")\n",
    "\n",
    "encoded_df = df.drop(columns=df.select_dtypes(include=['object']).columns)\n",
    "encoded_df = pd.concat([encoded_df, _encoded_categorical], axis=1)\n",
    "encoded_df.head()"
   ]
  },
  {
   "cell_type": "markdown",
   "metadata": {},
   "source": [
    "## Feature selection"
   ]
  }
 ],
 "metadata": {
  "kernelspec": {
   "display_name": "env",
   "language": "python",
   "name": "python3"
  },
  "language_info": {
   "codemirror_mode": {
    "name": "ipython",
    "version": 3
   },
   "file_extension": ".py",
   "mimetype": "text/x-python",
   "name": "python",
   "nbconvert_exporter": "python",
   "pygments_lexer": "ipython3",
   "version": "3.9.13"
  }
 },
 "nbformat": 4,
 "nbformat_minor": 2
}
