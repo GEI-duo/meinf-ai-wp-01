{
  "cells": [
    {
      "cell_type": "markdown",
      "source": "# Predict calories burned during workout",
      "metadata": {
        "formattedRanges": [],
        "deepnote_app_block_visible": true,
        "cell_id": "41d60c159abf4600be7199d53c4e85fc",
        "deepnote_cell_type": "text-cell-h1"
      },
      "block_group": "19c31264259f4ede9d71e8ea51c416e9"
    },
    {
      "cell_type": "markdown",
      "source": "https://www.kaggle.com/datasets/valakhorasani/gym-members-exercise-dataset",
      "metadata": {
        "formattedRanges": [
          {
            "url": "https://www.kaggle.com/datasets/valakhorasani/gym-members-exercise-dataset",
            "type": "link",
            "ranges": [],
            "toCodePoint": 74,
            "fromCodePoint": 0
          }
        ],
        "deepnote_app_block_visible": true,
        "cell_id": "f4cf5344236243e9b520ca7af1b9748e",
        "deepnote_cell_type": "text-cell-p"
      },
      "block_group": "61341d09d9a4449cbb332e0885e4b317"
    },
    {
      "cell_type": "code",
      "source": "import pandas as pd\nimport os\nfrom pathlib import Path\nimport seaborn as sns\nimport matplotlib.pyplot as plt\n\n%matplotlib inline",
      "metadata": {
        "source_hash": "67d01dca",
        "execution_start": 1732817483412,
        "execution_millis": 1,
        "execution_context_id": "7e60fa0b-7097-411e-b43b-8da99bc155c5",
        "deepnote_app_block_visible": true,
        "cell_id": "69d64b52298f4b978709ed7dca5a7885",
        "deepnote_cell_type": "code"
      },
      "outputs": [],
      "outputs_reference": null,
      "execution_count": 26,
      "block_group": "82e0cd62e7ae4aab9209c9bb4fedb300",
      "content_dependencies": null
    },
    {
      "cell_type": "code",
      "source": "DEEPNOTE = os.environ.get(\"DEEPNOTE_PROJECT_ID\")\nPROJECT_PATH = Path(\"/work/meinf_ai_wp_01\") if DEEPNOTE else Path.cwd()\nDATA_PATH = PROJECT_PATH / \"data\"\nCSV_PATH = DATA_PATH / \"gym_members_exercise_tracking.csv\"",
      "metadata": {
        "source_hash": "fd61f5f",
        "execution_start": 1732816789728,
        "execution_millis": 1,
        "execution_context_id": "7e60fa0b-7097-411e-b43b-8da99bc155c5",
        "deepnote_app_block_visible": true,
        "cell_id": "9a6b6279a92c4ad4bf5b8b0c47c4a831",
        "deepnote_cell_type": "code"
      },
      "outputs": [],
      "outputs_reference": null,
      "execution_count": 2,
      "block_group": "5d8d0c58f4524150bd575765d259884d",
      "content_dependencies": null
    },
    {
      "cell_type": "code",
      "source": "df = pd.read_csv(CSV_PATH)\ndf.head()",
      "metadata": {
        "source_hash": "b0c1ff33",
        "execution_start": 1732816789776,
        "execution_millis": 215,
        "deepnote_table_state": {
          "sortBy": [],
          "filters": [],
          "pageSize": 50,
          "pageIndex": 0,
          "conditionalFilters": [],
          "cellFormattingRules": [],
          "wrappedTextColumnIds": []
        },
        "execution_context_id": "7e60fa0b-7097-411e-b43b-8da99bc155c5",
        "deepnote_table_loading": false,
        "deepnote_app_block_visible": true,
        "cell_id": "b5f70213c23c49d69fc140a70d4f99c9",
        "deepnote_cell_type": "code"
      },
      "outputs": [],
      "outputs_reference": null,
      "execution_count": 3,
      "block_group": "080a7899cde24105a10b6df6b601357c",
      "content_dependencies": null
    },
    {
      "cell_type": "code",
      "source": "df",
      "metadata": {
        "source_hash": "79e2ce2b",
        "execution_start": 1732816790041,
        "execution_millis": 0,
        "deepnote_table_state": {
          "sortBy": [],
          "filters": [],
          "pageSize": 5,
          "pageIndex": 0,
          "conditionalFilters": [],
          "cellFormattingRules": [],
          "wrappedTextColumnIds": []
        },
        "execution_context_id": "7e60fa0b-7097-411e-b43b-8da99bc155c5",
        "deepnote_table_loading": false,
        "deepnote_app_block_visible": true,
        "cell_id": "17d89144123e412fba871adafa18b944",
        "deepnote_cell_type": "code"
      },
      "outputs": [],
      "outputs_reference": null,
      "execution_count": 4,
      "block_group": "40e5555922d44402bbd47707690e0584",
      "content_dependencies": null
    },
    {
      "cell_type": "markdown",
      "source": "## EDA",
      "metadata": {
        "formattedRanges": [],
        "deepnote_app_block_visible": true,
        "cell_id": "e92018cf88af498aa145c0173f0f08fe",
        "deepnote_cell_type": "text-cell-h2"
      },
      "block_group": "66d8bd18d09a48b8a6ca4abe6f3f8043"
    },
    {
      "cell_type": "code",
      "source": "import numpy as np\nimport pandas as pd\nfrom ydata_profiling import ProfileReport",
      "metadata": {
        "source_hash": "7657389d",
        "execution_start": 1732816790089,
        "execution_millis": 993,
        "execution_context_id": "7e60fa0b-7097-411e-b43b-8da99bc155c5",
        "deepnote_app_block_visible": true,
        "cell_id": "cf195af1d784459a834ad9b594b1ecdb",
        "deepnote_cell_type": "code"
      },
      "outputs": [],
      "outputs_reference": null,
      "execution_count": 5,
      "block_group": "7ab44329125b432e9f2a7c61fe1f2dea",
      "content_dependencies": null
    },
    {
      "cell_type": "code",
      "source": "profile = ProfileReport(df, title=\"Profiling Report\")\nprofile.to_file(\"EDA_report.html\")",
      "metadata": {
        "source_hash": "cb5fdc15",
        "execution_start": 1732817006418,
        "execution_millis": 59451,
        "is_output_hidden": true,
        "execution_context_id": "7e60fa0b-7097-411e-b43b-8da99bc155c5",
        "deepnote_app_block_visible": true,
        "deepnote_app_is_code_hidden": false,
        "deepnote_app_is_output_hidden": false,
        "cell_id": "7b036d0ff21342be9dce15447cabb757",
        "deepnote_cell_type": "code"
      },
      "outputs": [],
      "outputs_reference": null,
      "execution_count": 15,
      "block_group": "65a4387932af4196aaf721849ca54ad5",
      "content_dependencies": null
    },
    {
      "cell_type": "markdown",
      "source": "### Correlation",
      "metadata": {
        "formattedRanges": [],
        "deepnote_app_block_visible": true,
        "cell_id": "8ba7dfa460a1425c8c77a80e4fc257f6",
        "deepnote_cell_type": "text-cell-h3"
      },
      "block_group": "50b06619e94945c68c0ce046a71c9a20"
    },
    {
      "cell_type": "code",
      "source": "categorical_df = df.select_dtypes(include=[\"object\"])\n\ncategorical_df.describe()",
      "metadata": {
        "source_hash": "77c7d9e5",
        "execution_start": 1732816849107,
        "execution_millis": 2,
        "execution_context_id": "7e60fa0b-7097-411e-b43b-8da99bc155c5",
        "deepnote_app_block_visible": true,
        "cell_id": "2dca074bb52444ddb704ecbfee6a7e53",
        "deepnote_cell_type": "code"
      },
      "outputs": [],
      "outputs_reference": null,
      "execution_count": 7,
      "block_group": "82752aff5ab84651bc58ddfaae045227",
      "content_dependencies": null
    },
    {
      "cell_type": "code",
      "source": "# Import categorical column encoder\nfrom sklearn.preprocessing import OrdinalEncoder",
      "metadata": {
        "source_hash": "4ed5deb0",
        "execution_start": 1732816883568,
        "execution_millis": 1,
        "execution_context_id": "7e60fa0b-7097-411e-b43b-8da99bc155c5",
        "deepnote_app_block_visible": true,
        "cell_id": "80bcad096ad045ecbf05b9f3a0418b71",
        "deepnote_cell_type": "code"
      },
      "outputs": [],
      "outputs_reference": null,
      "execution_count": 11,
      "block_group": "54c63b73f8ea4d11962bd13919a92cb6",
      "content_dependencies": null
    },
    {
      "cell_type": "code",
      "source": "encoder = OrdinalEncoder()\n\nencoded_df = pd.DataFrame(encoder.fit_transform(df), columns=df.columns)\nencoded_df.head(5)",
      "metadata": {
        "source_hash": "8c38f224",
        "execution_start": 1732816886034,
        "execution_millis": 37,
        "execution_context_id": "7e60fa0b-7097-411e-b43b-8da99bc155c5",
        "deepnote_app_block_visible": true,
        "cell_id": "62d536b09a524d879cf9f8ce4e84359b",
        "deepnote_cell_type": "code"
      },
      "outputs": [],
      "outputs_reference": null,
      "execution_count": 12,
      "block_group": "fee387cd15a848118da0c5a7eff8f250",
      "content_dependencies": null
    },
    {
      "cell_type": "markdown",
      "source": "### Pearson correlation heatmap",
      "metadata": {
        "formattedRanges": [],
        "deepnote_app_block_visible": true,
        "cell_id": "76a83ed3da3b46c085c5e3afcac7ab92",
        "deepnote_cell_type": "text-cell-h3"
      },
      "block_group": "77d7b5700ffd42fdaec03139873d4b67"
    },
    {
      "cell_type": "code",
      "source": "sns.heatmap(encoded_df.corr(method=\"pearson\"), cmap=\"YlGnBu\", annot=True, fmt=\".2f\")\n\nplt.title(\"Pearson Correlation Heatmap\")\nplt.rcParams[\"figure.figsize\"] = (15, 10)\nplt.show()",
      "metadata": {
        "source_hash": "5b5cdafb",
        "execution_start": 1732817755708,
        "execution_millis": 911,
        "execution_context_id": "7e60fa0b-7097-411e-b43b-8da99bc155c5",
        "deepnote_app_block_visible": true,
        "cell_id": "dd4785c010e74fe090e1395bf4bb065d",
        "deepnote_cell_type": "code"
      },
      "outputs": [],
      "outputs_reference": null,
      "execution_count": 35,
      "block_group": "db6cfc4b32fc4480ae69b14e4e27c199",
      "content_dependencies": null
    },
    {
      "cell_type": "markdown",
      "source": "### Spearman correlation heatmap",
      "metadata": {
        "formattedRanges": [],
        "deepnote_app_block_visible": true,
        "cell_id": "31c8a8358dbc467091c46cd77c14b412",
        "deepnote_cell_type": "text-cell-h3"
      },
      "block_group": "4a54ffddb215483ab3f535151d88bd4c"
    },
    {
      "cell_type": "code",
      "source": "sns.heatmap(encoded_df.corr(method=\"spearman\"), cmap=\"YlGnBu\", annot=True, fmt=\".2f\")\n\nplt.title(\"Spearman Correlation Heatmap\")\nplt.rcParams[\"figure.figsize\"] = (15, 10)\nplt.show()",
      "metadata": {
        "source_hash": "513aa8e7",
        "execution_start": 1732817860649,
        "execution_millis": 993,
        "execution_context_id": "7e60fa0b-7097-411e-b43b-8da99bc155c5",
        "deepnote_app_block_visible": true,
        "cell_id": "025dae707a434809b9972df37d29f41b",
        "deepnote_cell_type": "code"
      },
      "outputs": [],
      "outputs_reference": null,
      "execution_count": 36,
      "block_group": "9b9c9c02e957440abd77655c8e970318",
      "content_dependencies": null
    },
    {
      "cell_type": "markdown",
      "source": "## Feature Engineering",
      "metadata": {
        "formattedRanges": [],
        "deepnote_app_block_visible": true,
        "cell_id": "71acf7eb1b394bb89ff1452715b8ff5a",
        "deepnote_cell_type": "text-cell-h2"
      },
      "block_group": "32c37ea2d6fd435ca885b67e3d709d30"
    },
    {
      "cell_type": "markdown",
      "source": "### Feature creation",
      "metadata": {
        "formattedRanges": [],
        "deepnote_app_block_visible": true,
        "cell_id": "a692860fed174d6d8d48f01d9b340f04",
        "deepnote_cell_type": "text-cell-h3"
      },
      "block_group": "54f3425a80724c5dab8c1bb6a872de01"
    },
    {
      "cell_type": "code",
      "source": "# Show missing values\ndf.isnull().sum()",
      "metadata": {
        "source_hash": "15d894c4",
        "execution_start": 1732818269992,
        "execution_millis": 1,
        "execution_context_id": "7e60fa0b-7097-411e-b43b-8da99bc155c5",
        "deepnote_app_block_visible": true,
        "cell_id": "efe7776668024e598fecc861f39ca233",
        "deepnote_cell_type": "code"
      },
      "outputs": [],
      "outputs_reference": null,
      "execution_count": 38,
      "block_group": "3e13863905c043769e02339a41d95792",
      "content_dependencies": null
    },
    {
      "cell_type": "markdown",
      "source": "### Feature transformation",
      "metadata": {
        "formattedRanges": [],
        "deepnote_app_block_visible": true,
        "cell_id": "e187a88cf0d7432a842735c15425299a",
        "deepnote_cell_type": "text-cell-h3"
      },
      "block_group": "6d801e41469640c0a23653937330a292"
    },
    {
      "cell_type": "markdown",
      "source": "### Feature encoding",
      "metadata": {
        "formattedRanges": [],
        "deepnote_app_block_visible": true,
        "cell_id": "1a6189d062034cba8b2bd05c6e85eb32",
        "deepnote_cell_type": "text-cell-h3"
      },
      "block_group": "06f5209c093c4d40af4bdc31a0b60a1d"
    },
    {
      "cell_type": "markdown",
      "source": "### Feature scaling",
      "metadata": {
        "formattedRanges": [],
        "deepnote_app_block_visible": true,
        "cell_id": "35e7680a470b4b66a63d5e2bb538d75b",
        "deepnote_cell_type": "text-cell-h3"
      },
      "block_group": "3fe8feff7f1a476b99fb6098522c8a67"
    },
    {
      "cell_type": "code",
      "source": "from sklearn.preprocessing import StandardScaler\n\nstandard_scaler = StandardScaler()",
      "metadata": {
        "source_hash": "7d1463dd",
        "execution_start": 1732819207475,
        "execution_millis": 14,
        "execution_context_id": "7e60fa0b-7097-411e-b43b-8da99bc155c5",
        "deepnote_app_block_visible": true,
        "cell_id": "d2d9c5d6415549ff81c1627a6ffc2e6c",
        "deepnote_cell_type": "code"
      },
      "outputs": [],
      "outputs_reference": null,
      "execution_count": 43,
      "block_group": "f905581903f242b4a6ab7030483d48c5",
      "content_dependencies": null
    },
    {
      "cell_type": "code",
      "source": "# Scaling and normalization\n\nscaled_df = pd.DataFrame(standard_scaler.fit_transform(df), columns=encoded_df.columns)\n\n# Dimensionality reduction\nscaled_df.head(5)",
      "metadata": {
        "source_hash": "453541d7",
        "execution_start": 1732819337636,
        "execution_millis": 2969,
        "execution_context_id": "7e60fa0b-7097-411e-b43b-8da99bc155c5",
        "deepnote_app_block_visible": true,
        "cell_id": "de07501b7a2341b4a75e6c820618ad8e",
        "deepnote_cell_type": "code"
      },
      "outputs": [],
      "outputs_reference": null,
      "execution_count": 45,
      "block_group": "6f88e97c04844c44828c6838e07d35f7",
      "content_dependencies": null
    },
    {
      "cell_type": "markdown",
      "source": "### Feature selection",
      "metadata": {
        "formattedRanges": [],
        "deepnote_app_block_visible": true,
        "cell_id": "56aed89f33fa4ddab6acd814561f5222",
        "deepnote_cell_type": "text-cell-h3"
      },
      "block_group": "fe8d9b90a5db4420853f514b110329b4"
    },
    {
      "cell_type": "markdown",
      "source": "### Feature extraction",
      "metadata": {
        "formattedRanges": [],
        "deepnote_app_block_visible": true,
        "cell_id": "98d02bea45e54a299e90c1f861ca598d",
        "deepnote_cell_type": "text-cell-h3"
      },
      "block_group": "24a9ce50f85c4ce8aca4bc98fc3648d5"
    },
    {
      "cell_type": "markdown",
      "source": "<a style='text-decoration:none;line-height:16px;display:flex;color:#5B5B62;padding:10px;justify-content:end;' href='https://deepnote.com?utm_source=created-in-deepnote-cell&projectId=d9b716da-a519-4d40-8a21-438227d42336' target=\"_blank\">\n<img alt='Created in deepnote.com' style='display:inline;max-height:16px;margin:0px;margin-right:7.5px;' src='data:image/svg+xml;base64,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' > </img>\nCreated in <span style='font-weight:600;margin-left:4px;'>Deepnote</span></a>",
      "metadata": {
        "created_in_deepnote_cell": true,
        "deepnote_cell_type": "markdown"
      }
    }
  ],
  "nbformat": 4,
  "nbformat_minor": 0,
  "metadata": {
    "deepnote_persisted_session": {
      "createdAt": "2024-11-23T23:30:13.619Z"
    },
    "deepnote_app_layout": "powerful-article",
    "deepnote_app_hide_all_code_blocks_enabled": false,
    "deepnote_app_reactivity_enabled": true,
    "deepnote_notebook_id": "afb81c7e66d3413ea71de67ae679ff0b"
  }
}