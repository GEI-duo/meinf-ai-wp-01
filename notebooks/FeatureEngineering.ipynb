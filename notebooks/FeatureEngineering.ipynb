{
 "cells": [
  {
   "cell_type": "markdown",
   "metadata": {
    "cell_id": "41d60c159abf4600be7199d53c4e85fc",
    "deepnote_app_block_visible": true,
    "deepnote_cell_type": "text-cell-h1",
    "formattedRanges": []
   },
   "source": [
    "# Predict calories burned during workout"
   ]
  },
  {
   "cell_type": "markdown",
   "metadata": {
    "cell_id": "f4cf5344236243e9b520ca7af1b9748e",
    "deepnote_app_block_visible": true,
    "deepnote_cell_type": "text-cell-p",
    "formattedRanges": [
     {
      "fromCodePoint": 0,
      "ranges": [],
      "toCodePoint": 74,
      "type": "link",
      "url": "https://www.kaggle.com/datasets/valakhorasani/gym-members-exercise-dataset"
     }
    ]
   },
   "source": [
    "https://www.kaggle.com/datasets/valakhorasani/gym-members-exercise-dataset"
   ]
  },
  {
   "cell_type": "code",
   "execution_count": 1,
   "metadata": {},
   "outputs": [
    {
     "name": "stdout",
     "output_type": "stream",
     "text": [
      "Requirement already satisfied: scikit-learn==1.5.2 in d:\\projects\\gei-duo\\meinf-ai-wp-01\\env\\lib\\site-packages (from -r ../requirements.txt (line 1)) (1.5.2)\n",
      "Requirement already satisfied: pandas==2.2.3 in d:\\projects\\gei-duo\\meinf-ai-wp-01\\env\\lib\\site-packages (from -r ../requirements.txt (line 2)) (2.2.3)\n",
      "Requirement already satisfied: seaborn==0.13.2 in d:\\projects\\gei-duo\\meinf-ai-wp-01\\env\\lib\\site-packages (from -r ../requirements.txt (line 3)) (0.13.2)\n",
      "Requirement already satisfied: ydata_profiling==4.12.0 in d:\\projects\\gei-duo\\meinf-ai-wp-01\\env\\lib\\site-packages (from -r ../requirements.txt (line 4)) (4.12.0)\n",
      "Requirement already satisfied: ipywidgets==8.1.5 in d:\\projects\\gei-duo\\meinf-ai-wp-01\\env\\lib\\site-packages (from -r ../requirements.txt (line 5)) (8.1.5)\n",
      "Requirement already satisfied: gradio==4.44.1 in d:\\projects\\gei-duo\\meinf-ai-wp-01\\env\\lib\\site-packages (from -r ../requirements.txt (line 6)) (4.44.1)\n",
      "Requirement already satisfied: pytz==2024.1 in d:\\projects\\gei-duo\\meinf-ai-wp-01\\env\\lib\\site-packages (from -r ../requirements.txt (line 7)) (2024.1)\n",
      "Requirement already satisfied: humanize==4.11.0 in d:\\projects\\gei-duo\\meinf-ai-wp-01\\env\\lib\\site-packages (from -r ../requirements.txt (line 8)) (4.11.0)\n",
      "Requirement already satisfied: joblib>=1.2.0 in d:\\projects\\gei-duo\\meinf-ai-wp-01\\env\\lib\\site-packages (from scikit-learn==1.5.2->-r ../requirements.txt (line 1)) (1.4.2)\n",
      "Requirement already satisfied: numpy>=1.19.5 in d:\\projects\\gei-duo\\meinf-ai-wp-01\\env\\lib\\site-packages (from scikit-learn==1.5.2->-r ../requirements.txt (line 1)) (2.0.2)\n",
      "Requirement already satisfied: threadpoolctl>=3.1.0 in d:\\projects\\gei-duo\\meinf-ai-wp-01\\env\\lib\\site-packages (from scikit-learn==1.5.2->-r ../requirements.txt (line 1)) (3.5.0)\n",
      "Requirement already satisfied: scipy>=1.6.0 in d:\\projects\\gei-duo\\meinf-ai-wp-01\\env\\lib\\site-packages (from scikit-learn==1.5.2->-r ../requirements.txt (line 1)) (1.13.1)\n",
      "Requirement already satisfied: tzdata>=2022.7 in d:\\projects\\gei-duo\\meinf-ai-wp-01\\env\\lib\\site-packages (from pandas==2.2.3->-r ../requirements.txt (line 2)) (2024.2)\n",
      "Requirement already satisfied: python-dateutil>=2.8.2 in d:\\projects\\gei-duo\\meinf-ai-wp-01\\env\\lib\\site-packages (from pandas==2.2.3->-r ../requirements.txt (line 2)) (2.9.0.post0)\n",
      "Requirement already satisfied: matplotlib!=3.6.1,>=3.4 in d:\\projects\\gei-duo\\meinf-ai-wp-01\\env\\lib\\site-packages (from seaborn==0.13.2->-r ../requirements.txt (line 3)) (3.9.3)\n",
      "Requirement already satisfied: numba<1,>=0.56.0 in d:\\projects\\gei-duo\\meinf-ai-wp-01\\env\\lib\\site-packages (from ydata_profiling==4.12.0->-r ../requirements.txt (line 4)) (0.60.0)\n",
      "Requirement already satisfied: PyYAML<6.1,>=5.0.0 in d:\\projects\\gei-duo\\meinf-ai-wp-01\\env\\lib\\site-packages (from ydata_profiling==4.12.0->-r ../requirements.txt (line 4)) (6.0.2)\n",
      "Requirement already satisfied: wordcloud>=1.9.3 in d:\\projects\\gei-duo\\meinf-ai-wp-01\\env\\lib\\site-packages (from ydata_profiling==4.12.0->-r ../requirements.txt (line 4)) (1.9.4)\n",
      "Requirement already satisfied: requests<3,>=2.24.0 in d:\\projects\\gei-duo\\meinf-ai-wp-01\\env\\lib\\site-packages (from ydata_profiling==4.12.0->-r ../requirements.txt (line 4)) (2.32.3)\n",
      "Requirement already satisfied: htmlmin==0.1.12 in d:\\projects\\gei-duo\\meinf-ai-wp-01\\env\\lib\\site-packages (from ydata_profiling==4.12.0->-r ../requirements.txt (line 4)) (0.1.12)\n",
      "Requirement already satisfied: jinja2<3.2,>=2.11.1 in d:\\projects\\gei-duo\\meinf-ai-wp-01\\env\\lib\\site-packages (from ydata_profiling==4.12.0->-r ../requirements.txt (line 4)) (3.1.4)\n",
      "Requirement already satisfied: pydantic>=2 in d:\\projects\\gei-duo\\meinf-ai-wp-01\\env\\lib\\site-packages (from ydata_profiling==4.12.0->-r ../requirements.txt (line 4)) (2.10.3)\n",
      "Requirement already satisfied: visions[type_image_path]<0.7.7,>=0.7.5 in d:\\projects\\gei-duo\\meinf-ai-wp-01\\env\\lib\\site-packages (from ydata_profiling==4.12.0->-r ../requirements.txt (line 4)) (0.7.6)\n",
      "Requirement already satisfied: phik<0.13,>=0.11.1 in d:\\projects\\gei-duo\\meinf-ai-wp-01\\env\\lib\\site-packages (from ydata_profiling==4.12.0->-r ../requirements.txt (line 4)) (0.12.4)\n",
      "Requirement already satisfied: multimethod<2,>=1.4 in d:\\projects\\gei-duo\\meinf-ai-wp-01\\env\\lib\\site-packages (from ydata_profiling==4.12.0->-r ../requirements.txt (line 4)) (1.12)\n",
      "Requirement already satisfied: dacite>=1.8 in d:\\projects\\gei-duo\\meinf-ai-wp-01\\env\\lib\\site-packages (from ydata_profiling==4.12.0->-r ../requirements.txt (line 4)) (1.8.1)\n",
      "Requirement already satisfied: tqdm<5,>=4.48.2 in d:\\projects\\gei-duo\\meinf-ai-wp-01\\env\\lib\\site-packages (from ydata_profiling==4.12.0->-r ../requirements.txt (line 4)) (4.67.1)\n",
      "Requirement already satisfied: statsmodels<1,>=0.13.2 in d:\\projects\\gei-duo\\meinf-ai-wp-01\\env\\lib\\site-packages (from ydata_profiling==4.12.0->-r ../requirements.txt (line 4)) (0.14.4)\n",
      "Requirement already satisfied: typeguard<5,>=3 in d:\\projects\\gei-duo\\meinf-ai-wp-01\\env\\lib\\site-packages (from ydata_profiling==4.12.0->-r ../requirements.txt (line 4)) (4.4.1)\n",
      "Requirement already satisfied: imagehash==4.3.1 in d:\\projects\\gei-duo\\meinf-ai-wp-01\\env\\lib\\site-packages (from ydata_profiling==4.12.0->-r ../requirements.txt (line 4)) (4.3.1)\n",
      "Requirement already satisfied: traitlets>=4.3.1 in d:\\projects\\gei-duo\\meinf-ai-wp-01\\env\\lib\\site-packages (from ipywidgets==8.1.5->-r ../requirements.txt (line 5)) (5.14.3)\n",
      "Requirement already satisfied: ipython>=6.1.0 in d:\\projects\\gei-duo\\meinf-ai-wp-01\\env\\lib\\site-packages (from ipywidgets==8.1.5->-r ../requirements.txt (line 5)) (8.18.1)\n",
      "Requirement already satisfied: widgetsnbextension~=4.0.12 in d:\\projects\\gei-duo\\meinf-ai-wp-01\\env\\lib\\site-packages (from ipywidgets==8.1.5->-r ../requirements.txt (line 5)) (4.0.13)\n",
      "Requirement already satisfied: comm>=0.1.3 in d:\\projects\\gei-duo\\meinf-ai-wp-01\\env\\lib\\site-packages (from ipywidgets==8.1.5->-r ../requirements.txt (line 5)) (0.2.2)\n",
      "Requirement already satisfied: jupyterlab-widgets~=3.0.12 in d:\\projects\\gei-duo\\meinf-ai-wp-01\\env\\lib\\site-packages (from ipywidgets==8.1.5->-r ../requirements.txt (line 5)) (3.0.13)\n",
      "Requirement already satisfied: anyio<5.0,>=3.0 in d:\\projects\\gei-duo\\meinf-ai-wp-01\\env\\lib\\site-packages (from gradio==4.44.1->-r ../requirements.txt (line 6)) (4.7.0)\n",
      "Requirement already satisfied: pydub in d:\\projects\\gei-duo\\meinf-ai-wp-01\\env\\lib\\site-packages (from gradio==4.44.1->-r ../requirements.txt (line 6)) (0.25.1)\n",
      "Requirement already satisfied: orjson~=3.0 in d:\\projects\\gei-duo\\meinf-ai-wp-01\\env\\lib\\site-packages (from gradio==4.44.1->-r ../requirements.txt (line 6)) (3.10.12)\n",
      "Requirement already satisfied: tomlkit==0.12.0 in d:\\projects\\gei-duo\\meinf-ai-wp-01\\env\\lib\\site-packages (from gradio==4.44.1->-r ../requirements.txt (line 6)) (0.12.0)\n",
      "Requirement already satisfied: urllib3~=2.0 in d:\\projects\\gei-duo\\meinf-ai-wp-01\\env\\lib\\site-packages (from gradio==4.44.1->-r ../requirements.txt (line 6)) (2.2.3)\n",
      "Requirement already satisfied: ruff>=0.2.2 in d:\\projects\\gei-duo\\meinf-ai-wp-01\\env\\lib\\site-packages (from gradio==4.44.1->-r ../requirements.txt (line 6)) (0.8.2)\n",
      "Requirement already satisfied: gradio-client==1.3.0 in d:\\projects\\gei-duo\\meinf-ai-wp-01\\env\\lib\\site-packages (from gradio==4.44.1->-r ../requirements.txt (line 6)) (1.3.0)\n",
      "Requirement already satisfied: aiofiles<24.0,>=22.0 in d:\\projects\\gei-duo\\meinf-ai-wp-01\\env\\lib\\site-packages (from gradio==4.44.1->-r ../requirements.txt (line 6)) (23.2.1)\n",
      "Requirement already satisfied: uvicorn>=0.14.0 in d:\\projects\\gei-duo\\meinf-ai-wp-01\\env\\lib\\site-packages (from gradio==4.44.1->-r ../requirements.txt (line 6)) (0.32.1)\n",
      "Requirement already satisfied: semantic-version~=2.0 in d:\\projects\\gei-duo\\meinf-ai-wp-01\\env\\lib\\site-packages (from gradio==4.44.1->-r ../requirements.txt (line 6)) (2.10.0)\n",
      "Requirement already satisfied: importlib-resources<7.0,>=1.3 in d:\\projects\\gei-duo\\meinf-ai-wp-01\\env\\lib\\site-packages (from gradio==4.44.1->-r ../requirements.txt (line 6)) (6.4.5)\n",
      "Requirement already satisfied: huggingface-hub>=0.19.3 in d:\\projects\\gei-duo\\meinf-ai-wp-01\\env\\lib\\site-packages (from gradio==4.44.1->-r ../requirements.txt (line 6)) (0.26.5)\n",
      "Requirement already satisfied: packaging in d:\\projects\\gei-duo\\meinf-ai-wp-01\\env\\lib\\site-packages (from gradio==4.44.1->-r ../requirements.txt (line 6)) (24.2)\n",
      "Requirement already satisfied: ffmpy in d:\\projects\\gei-duo\\meinf-ai-wp-01\\env\\lib\\site-packages (from gradio==4.44.1->-r ../requirements.txt (line 6)) (0.4.0)\n",
      "Requirement already satisfied: python-multipart>=0.0.9 in d:\\projects\\gei-duo\\meinf-ai-wp-01\\env\\lib\\site-packages (from gradio==4.44.1->-r ../requirements.txt (line 6)) (0.0.19)\n",
      "Requirement already satisfied: typing-extensions~=4.0 in d:\\projects\\gei-duo\\meinf-ai-wp-01\\env\\lib\\site-packages (from gradio==4.44.1->-r ../requirements.txt (line 6)) (4.12.2)\n",
      "Requirement already satisfied: markupsafe~=2.0 in d:\\projects\\gei-duo\\meinf-ai-wp-01\\env\\lib\\site-packages (from gradio==4.44.1->-r ../requirements.txt (line 6)) (2.1.5)\n",
      "Requirement already satisfied: fastapi<1.0 in d:\\projects\\gei-duo\\meinf-ai-wp-01\\env\\lib\\site-packages (from gradio==4.44.1->-r ../requirements.txt (line 6)) (0.115.6)\n",
      "Requirement already satisfied: typer<1.0,>=0.12 in d:\\projects\\gei-duo\\meinf-ai-wp-01\\env\\lib\\site-packages (from gradio==4.44.1->-r ../requirements.txt (line 6)) (0.15.1)\n",
      "Requirement already satisfied: pillow<11.0,>=8.0 in d:\\projects\\gei-duo\\meinf-ai-wp-01\\env\\lib\\site-packages (from gradio==4.44.1->-r ../requirements.txt (line 6)) (10.4.0)\n",
      "Requirement already satisfied: httpx>=0.24.1 in d:\\projects\\gei-duo\\meinf-ai-wp-01\\env\\lib\\site-packages (from gradio==4.44.1->-r ../requirements.txt (line 6)) (0.28.1)\n",
      "Requirement already satisfied: fsspec in d:\\projects\\gei-duo\\meinf-ai-wp-01\\env\\lib\\site-packages (from gradio-client==1.3.0->gradio==4.44.1->-r ../requirements.txt (line 6)) (2024.10.0)\n",
      "Requirement already satisfied: websockets<13.0,>=10.0 in d:\\projects\\gei-duo\\meinf-ai-wp-01\\env\\lib\\site-packages (from gradio-client==1.3.0->gradio==4.44.1->-r ../requirements.txt (line 6)) (12.0)\n",
      "Requirement already satisfied: PyWavelets in d:\\projects\\gei-duo\\meinf-ai-wp-01\\env\\lib\\site-packages (from imagehash==4.3.1->ydata_profiling==4.12.0->-r ../requirements.txt (line 4)) (1.6.0)\n",
      "Requirement already satisfied: exceptiongroup>=1.0.2 in d:\\projects\\gei-duo\\meinf-ai-wp-01\\env\\lib\\site-packages (from anyio<5.0,>=3.0->gradio==4.44.1->-r ../requirements.txt (line 6)) (1.2.2)\n",
      "Requirement already satisfied: sniffio>=1.1 in d:\\projects\\gei-duo\\meinf-ai-wp-01\\env\\lib\\site-packages (from anyio<5.0,>=3.0->gradio==4.44.1->-r ../requirements.txt (line 6)) (1.3.1)\n",
      "Requirement already satisfied: idna>=2.8 in d:\\projects\\gei-duo\\meinf-ai-wp-01\\env\\lib\\site-packages (from anyio<5.0,>=3.0->gradio==4.44.1->-r ../requirements.txt (line 6)) (3.10)\n",
      "Requirement already satisfied: starlette<0.42.0,>=0.40.0 in d:\\projects\\gei-duo\\meinf-ai-wp-01\\env\\lib\\site-packages (from fastapi<1.0->gradio==4.44.1->-r ../requirements.txt (line 6)) (0.41.3)\n",
      "Requirement already satisfied: certifi in d:\\projects\\gei-duo\\meinf-ai-wp-01\\env\\lib\\site-packages (from httpx>=0.24.1->gradio==4.44.1->-r ../requirements.txt (line 6)) (2024.8.30)\n",
      "Requirement already satisfied: httpcore==1.* in d:\\projects\\gei-duo\\meinf-ai-wp-01\\env\\lib\\site-packages (from httpx>=0.24.1->gradio==4.44.1->-r ../requirements.txt (line 6)) (1.0.7)\n",
      "Requirement already satisfied: h11<0.15,>=0.13 in d:\\projects\\gei-duo\\meinf-ai-wp-01\\env\\lib\\site-packages (from httpcore==1.*->httpx>=0.24.1->gradio==4.44.1->-r ../requirements.txt (line 6)) (0.14.0)\n",
      "Requirement already satisfied: filelock in d:\\projects\\gei-duo\\meinf-ai-wp-01\\env\\lib\\site-packages (from huggingface-hub>=0.19.3->gradio==4.44.1->-r ../requirements.txt (line 6)) (3.16.1)\n",
      "Requirement already satisfied: zipp>=3.1.0 in d:\\projects\\gei-duo\\meinf-ai-wp-01\\env\\lib\\site-packages (from importlib-resources<7.0,>=1.3->gradio==4.44.1->-r ../requirements.txt (line 6)) (3.21.0)\n",
      "Requirement already satisfied: jedi>=0.16 in d:\\projects\\gei-duo\\meinf-ai-wp-01\\env\\lib\\site-packages (from ipython>=6.1.0->ipywidgets==8.1.5->-r ../requirements.txt (line 5)) (0.19.2)\n",
      "Requirement already satisfied: colorama in d:\\projects\\gei-duo\\meinf-ai-wp-01\\env\\lib\\site-packages (from ipython>=6.1.0->ipywidgets==8.1.5->-r ../requirements.txt (line 5)) (0.4.6)\n",
      "Requirement already satisfied: pygments>=2.4.0 in d:\\projects\\gei-duo\\meinf-ai-wp-01\\env\\lib\\site-packages (from ipython>=6.1.0->ipywidgets==8.1.5->-r ../requirements.txt (line 5)) (2.18.0)\n",
      "Requirement already satisfied: decorator in d:\\projects\\gei-duo\\meinf-ai-wp-01\\env\\lib\\site-packages (from ipython>=6.1.0->ipywidgets==8.1.5->-r ../requirements.txt (line 5)) (5.1.1)\n",
      "Requirement already satisfied: prompt-toolkit<3.1.0,>=3.0.41 in d:\\projects\\gei-duo\\meinf-ai-wp-01\\env\\lib\\site-packages (from ipython>=6.1.0->ipywidgets==8.1.5->-r ../requirements.txt (line 5)) (3.0.48)\n",
      "Requirement already satisfied: stack-data in d:\\projects\\gei-duo\\meinf-ai-wp-01\\env\\lib\\site-packages (from ipython>=6.1.0->ipywidgets==8.1.5->-r ../requirements.txt (line 5)) (0.6.3)\n",
      "Requirement already satisfied: matplotlib-inline in d:\\projects\\gei-duo\\meinf-ai-wp-01\\env\\lib\\site-packages (from ipython>=6.1.0->ipywidgets==8.1.5->-r ../requirements.txt (line 5)) (0.1.7)\n",
      "Requirement already satisfied: pyparsing>=2.3.1 in d:\\projects\\gei-duo\\meinf-ai-wp-01\\env\\lib\\site-packages (from matplotlib!=3.6.1,>=3.4->seaborn==0.13.2->-r ../requirements.txt (line 3)) (3.2.0)\n",
      "Requirement already satisfied: fonttools>=4.22.0 in d:\\projects\\gei-duo\\meinf-ai-wp-01\\env\\lib\\site-packages (from matplotlib!=3.6.1,>=3.4->seaborn==0.13.2->-r ../requirements.txt (line 3)) (4.55.3)\n",
      "Requirement already satisfied: cycler>=0.10 in d:\\projects\\gei-duo\\meinf-ai-wp-01\\env\\lib\\site-packages (from matplotlib!=3.6.1,>=3.4->seaborn==0.13.2->-r ../requirements.txt (line 3)) (0.12.1)\n",
      "Requirement already satisfied: kiwisolver>=1.3.1 in d:\\projects\\gei-duo\\meinf-ai-wp-01\\env\\lib\\site-packages (from matplotlib!=3.6.1,>=3.4->seaborn==0.13.2->-r ../requirements.txt (line 3)) (1.4.7)\n",
      "Requirement already satisfied: contourpy>=1.0.1 in d:\\projects\\gei-duo\\meinf-ai-wp-01\\env\\lib\\site-packages (from matplotlib!=3.6.1,>=3.4->seaborn==0.13.2->-r ../requirements.txt (line 3)) (1.3.0)\n",
      "Requirement already satisfied: llvmlite<0.44,>=0.43.0dev0 in d:\\projects\\gei-duo\\meinf-ai-wp-01\\env\\lib\\site-packages (from numba<1,>=0.56.0->ydata_profiling==4.12.0->-r ../requirements.txt (line 4)) (0.43.0)\n",
      "Requirement already satisfied: annotated-types>=0.6.0 in d:\\projects\\gei-duo\\meinf-ai-wp-01\\env\\lib\\site-packages (from pydantic>=2->ydata_profiling==4.12.0->-r ../requirements.txt (line 4)) (0.7.0)\n",
      "Requirement already satisfied: pydantic-core==2.27.1 in d:\\projects\\gei-duo\\meinf-ai-wp-01\\env\\lib\\site-packages (from pydantic>=2->ydata_profiling==4.12.0->-r ../requirements.txt (line 4)) (2.27.1)\n",
      "Requirement already satisfied: six>=1.5 in d:\\projects\\gei-duo\\meinf-ai-wp-01\\env\\lib\\site-packages (from python-dateutil>=2.8.2->pandas==2.2.3->-r ../requirements.txt (line 2)) (1.17.0)\n",
      "Requirement already satisfied: charset-normalizer<4,>=2 in d:\\projects\\gei-duo\\meinf-ai-wp-01\\env\\lib\\site-packages (from requests<3,>=2.24.0->ydata_profiling==4.12.0->-r ../requirements.txt (line 4)) (3.4.0)\n",
      "Requirement already satisfied: patsy>=0.5.6 in d:\\projects\\gei-duo\\meinf-ai-wp-01\\env\\lib\\site-packages (from statsmodels<1,>=0.13.2->ydata_profiling==4.12.0->-r ../requirements.txt (line 4)) (1.0.1)\n",
      "Requirement already satisfied: importlib-metadata>=3.6 in d:\\projects\\gei-duo\\meinf-ai-wp-01\\env\\lib\\site-packages (from typeguard<5,>=3->ydata_profiling==4.12.0->-r ../requirements.txt (line 4)) (8.5.0)\n",
      "Requirement already satisfied: click>=8.0.0 in d:\\projects\\gei-duo\\meinf-ai-wp-01\\env\\lib\\site-packages (from typer<1.0,>=0.12->gradio==4.44.1->-r ../requirements.txt (line 6)) (8.1.7)\n",
      "Requirement already satisfied: rich>=10.11.0 in d:\\projects\\gei-duo\\meinf-ai-wp-01\\env\\lib\\site-packages (from typer<1.0,>=0.12->gradio==4.44.1->-r ../requirements.txt (line 6)) (13.9.4)\n",
      "Requirement already satisfied: shellingham>=1.3.0 in d:\\projects\\gei-duo\\meinf-ai-wp-01\\env\\lib\\site-packages (from typer<1.0,>=0.12->gradio==4.44.1->-r ../requirements.txt (line 6)) (1.5.4)\n",
      "Requirement already satisfied: attrs>=19.3.0 in d:\\projects\\gei-duo\\meinf-ai-wp-01\\env\\lib\\site-packages (from visions[type_image_path]<0.7.7,>=0.7.5->ydata_profiling==4.12.0->-r ../requirements.txt (line 4)) (24.2.0)\n",
      "Requirement already satisfied: networkx>=2.4 in d:\\projects\\gei-duo\\meinf-ai-wp-01\\env\\lib\\site-packages (from visions[type_image_path]<0.7.7,>=0.7.5->ydata_profiling==4.12.0->-r ../requirements.txt (line 4)) (3.2.1)\n",
      "Requirement already satisfied: parso<0.9.0,>=0.8.4 in d:\\projects\\gei-duo\\meinf-ai-wp-01\\env\\lib\\site-packages (from jedi>=0.16->ipython>=6.1.0->ipywidgets==8.1.5->-r ../requirements.txt (line 5)) (0.8.4)\n",
      "Requirement already satisfied: wcwidth in d:\\projects\\gei-duo\\meinf-ai-wp-01\\env\\lib\\site-packages (from prompt-toolkit<3.1.0,>=3.0.41->ipython>=6.1.0->ipywidgets==8.1.5->-r ../requirements.txt (line 5)) (0.2.13)\n",
      "Requirement already satisfied: markdown-it-py>=2.2.0 in d:\\projects\\gei-duo\\meinf-ai-wp-01\\env\\lib\\site-packages (from rich>=10.11.0->typer<1.0,>=0.12->gradio==4.44.1->-r ../requirements.txt (line 6)) (3.0.0)\n",
      "Requirement already satisfied: pure-eval in d:\\projects\\gei-duo\\meinf-ai-wp-01\\env\\lib\\site-packages (from stack-data->ipython>=6.1.0->ipywidgets==8.1.5->-r ../requirements.txt (line 5)) (0.2.3)\n",
      "Requirement already satisfied: executing>=1.2.0 in d:\\projects\\gei-duo\\meinf-ai-wp-01\\env\\lib\\site-packages (from stack-data->ipython>=6.1.0->ipywidgets==8.1.5->-r ../requirements.txt (line 5)) (2.1.0)\n",
      "Requirement already satisfied: asttokens>=2.1.0 in d:\\projects\\gei-duo\\meinf-ai-wp-01\\env\\lib\\site-packages (from stack-data->ipython>=6.1.0->ipywidgets==8.1.5->-r ../requirements.txt (line 5)) (3.0.0)\n",
      "Requirement already satisfied: mdurl~=0.1 in d:\\projects\\gei-duo\\meinf-ai-wp-01\\env\\lib\\site-packages (from markdown-it-py>=2.2.0->rich>=10.11.0->typer<1.0,>=0.12->gradio==4.44.1->-r ../requirements.txt (line 6)) (0.1.2)\n"
     ]
    },
    {
     "name": "stderr",
     "output_type": "stream",
     "text": [
      "WARNING: You are using pip version 22.0.4; however, version 24.3.1 is available.\n",
      "You should consider upgrading via the 'D:\\projects\\gei-duo\\meinf-ai-wp-01\\env\\Scripts\\python.exe -m pip install --upgrade pip' command.\n"
     ]
    }
   ],
   "source": [
    "!pip install -r ../requirements.txt"
   ]
  },
  {
   "cell_type": "code",
   "execution_count": 2,
   "metadata": {
    "cell_id": "69d64b52298f4b978709ed7dca5a7885",
    "deepnote_app_block_visible": true,
    "deepnote_cell_type": "code",
    "execution_context_id": "7e60fa0b-7097-411e-b43b-8da99bc155c5",
    "execution_millis": 1,
    "execution_start": 1732817483412,
    "source_hash": "67d01dca"
   },
   "outputs": [],
   "source": [
    "import os\n",
    "import numpy as np\n",
    "import pandas as pd\n",
    "from pathlib import Path\n",
    "import seaborn as sns\n",
    "import matplotlib.pyplot as plt\n",
    "import tqdm # DO NOT REMOVE\n",
    "\n",
    "%matplotlib inline"
   ]
  },
  {
   "cell_type": "code",
   "execution_count": 3,
   "metadata": {
    "cell_id": "9a6b6279a92c4ad4bf5b8b0c47c4a831",
    "deepnote_app_block_visible": true,
    "deepnote_cell_type": "code",
    "execution_context_id": "7e60fa0b-7097-411e-b43b-8da99bc155c5",
    "execution_millis": 1,
    "execution_start": 1732816789728,
    "source_hash": "fd61f5f"
   },
   "outputs": [],
   "source": [
    "DEEPNOTE = os.environ.get(\"DEEPNOTE_PROJECT_ID\")\n",
    "\n",
    "PROJECT_PATH = Path(\"/work/meinf_ai_wp_01\") if DEEPNOTE else Path.joinpath(Path.cwd(), '..')\n",
    "DATA_PATH = PROJECT_PATH / \"data\"\n",
    "CSV_PATH = DATA_PATH / \"gym_members_exercise_tracking.csv\""
   ]
  },
  {
   "cell_type": "code",
   "execution_count": 4,
   "metadata": {
    "cell_id": "b5f70213c23c49d69fc140a70d4f99c9",
    "deepnote_app_block_visible": true,
    "deepnote_cell_type": "code",
    "deepnote_table_loading": false,
    "deepnote_table_state": {
     "cellFormattingRules": [],
     "conditionalFilters": [],
     "filters": [],
     "pageIndex": 0,
     "pageSize": 50,
     "sortBy": [],
     "wrappedTextColumnIds": []
    },
    "execution_context_id": "7e60fa0b-7097-411e-b43b-8da99bc155c5",
    "execution_millis": 215,
    "execution_start": 1732816789776,
    "source_hash": "b0c1ff33"
   },
   "outputs": [
    {
     "data": {
      "text/html": [
       "<div>\n",
       "<style scoped>\n",
       "    .dataframe tbody tr th:only-of-type {\n",
       "        vertical-align: middle;\n",
       "    }\n",
       "\n",
       "    .dataframe tbody tr th {\n",
       "        vertical-align: top;\n",
       "    }\n",
       "\n",
       "    .dataframe thead th {\n",
       "        text-align: right;\n",
       "    }\n",
       "</style>\n",
       "<table border=\"1\" class=\"dataframe\">\n",
       "  <thead>\n",
       "    <tr style=\"text-align: right;\">\n",
       "      <th></th>\n",
       "      <th>Age</th>\n",
       "      <th>Gender</th>\n",
       "      <th>Weight (kg)</th>\n",
       "      <th>Height (m)</th>\n",
       "      <th>Max_BPM</th>\n",
       "      <th>Avg_BPM</th>\n",
       "      <th>Resting_BPM</th>\n",
       "      <th>Session_Duration (hours)</th>\n",
       "      <th>Calories_Burned</th>\n",
       "      <th>Workout_Type</th>\n",
       "      <th>Fat_Percentage</th>\n",
       "      <th>Water_Intake (liters)</th>\n",
       "      <th>Workout_Frequency (days/week)</th>\n",
       "      <th>Experience_Level</th>\n",
       "      <th>BMI</th>\n",
       "    </tr>\n",
       "  </thead>\n",
       "  <tbody>\n",
       "    <tr>\n",
       "      <th>0</th>\n",
       "      <td>56</td>\n",
       "      <td>Male</td>\n",
       "      <td>88.3</td>\n",
       "      <td>1.71</td>\n",
       "      <td>180</td>\n",
       "      <td>157</td>\n",
       "      <td>60</td>\n",
       "      <td>1.69</td>\n",
       "      <td>1313.0</td>\n",
       "      <td>Yoga</td>\n",
       "      <td>12.6</td>\n",
       "      <td>3.5</td>\n",
       "      <td>4</td>\n",
       "      <td>3</td>\n",
       "      <td>30.20</td>\n",
       "    </tr>\n",
       "    <tr>\n",
       "      <th>1</th>\n",
       "      <td>46</td>\n",
       "      <td>Female</td>\n",
       "      <td>74.9</td>\n",
       "      <td>1.53</td>\n",
       "      <td>179</td>\n",
       "      <td>151</td>\n",
       "      <td>66</td>\n",
       "      <td>1.30</td>\n",
       "      <td>883.0</td>\n",
       "      <td>HIIT</td>\n",
       "      <td>33.9</td>\n",
       "      <td>2.1</td>\n",
       "      <td>4</td>\n",
       "      <td>2</td>\n",
       "      <td>32.00</td>\n",
       "    </tr>\n",
       "    <tr>\n",
       "      <th>2</th>\n",
       "      <td>32</td>\n",
       "      <td>Female</td>\n",
       "      <td>68.1</td>\n",
       "      <td>1.66</td>\n",
       "      <td>167</td>\n",
       "      <td>122</td>\n",
       "      <td>54</td>\n",
       "      <td>1.11</td>\n",
       "      <td>677.0</td>\n",
       "      <td>Cardio</td>\n",
       "      <td>33.4</td>\n",
       "      <td>2.3</td>\n",
       "      <td>4</td>\n",
       "      <td>2</td>\n",
       "      <td>24.71</td>\n",
       "    </tr>\n",
       "    <tr>\n",
       "      <th>3</th>\n",
       "      <td>25</td>\n",
       "      <td>Male</td>\n",
       "      <td>53.2</td>\n",
       "      <td>1.70</td>\n",
       "      <td>190</td>\n",
       "      <td>164</td>\n",
       "      <td>56</td>\n",
       "      <td>0.59</td>\n",
       "      <td>532.0</td>\n",
       "      <td>Strength</td>\n",
       "      <td>28.8</td>\n",
       "      <td>2.1</td>\n",
       "      <td>3</td>\n",
       "      <td>1</td>\n",
       "      <td>18.41</td>\n",
       "    </tr>\n",
       "    <tr>\n",
       "      <th>4</th>\n",
       "      <td>38</td>\n",
       "      <td>Male</td>\n",
       "      <td>46.1</td>\n",
       "      <td>1.79</td>\n",
       "      <td>188</td>\n",
       "      <td>158</td>\n",
       "      <td>68</td>\n",
       "      <td>0.64</td>\n",
       "      <td>556.0</td>\n",
       "      <td>Strength</td>\n",
       "      <td>29.2</td>\n",
       "      <td>2.8</td>\n",
       "      <td>3</td>\n",
       "      <td>1</td>\n",
       "      <td>14.39</td>\n",
       "    </tr>\n",
       "  </tbody>\n",
       "</table>\n",
       "</div>"
      ],
      "text/plain": [
       "   Age  Gender  Weight (kg)  Height (m)  Max_BPM  Avg_BPM  Resting_BPM  \\\n",
       "0   56    Male         88.3        1.71      180      157           60   \n",
       "1   46  Female         74.9        1.53      179      151           66   \n",
       "2   32  Female         68.1        1.66      167      122           54   \n",
       "3   25    Male         53.2        1.70      190      164           56   \n",
       "4   38    Male         46.1        1.79      188      158           68   \n",
       "\n",
       "   Session_Duration (hours)  Calories_Burned Workout_Type  Fat_Percentage  \\\n",
       "0                      1.69           1313.0         Yoga            12.6   \n",
       "1                      1.30            883.0         HIIT            33.9   \n",
       "2                      1.11            677.0       Cardio            33.4   \n",
       "3                      0.59            532.0     Strength            28.8   \n",
       "4                      0.64            556.0     Strength            29.2   \n",
       "\n",
       "   Water_Intake (liters)  Workout_Frequency (days/week)  Experience_Level  \\\n",
       "0                    3.5                              4                 3   \n",
       "1                    2.1                              4                 2   \n",
       "2                    2.3                              4                 2   \n",
       "3                    2.1                              3                 1   \n",
       "4                    2.8                              3                 1   \n",
       "\n",
       "     BMI  \n",
       "0  30.20  \n",
       "1  32.00  \n",
       "2  24.71  \n",
       "3  18.41  \n",
       "4  14.39  "
      ]
     },
     "execution_count": 4,
     "metadata": {},
     "output_type": "execute_result"
    }
   ],
   "source": [
    "df = pd.read_csv(CSV_PATH)\n",
    "df.head()"
   ]
  },
  {
   "cell_type": "markdown",
   "metadata": {},
   "source": [
    "## Column name 'normalizing'"
   ]
  },
  {
   "cell_type": "code",
   "execution_count": 5,
   "metadata": {},
   "outputs": [
    {
     "data": {
      "text/plain": [
       "Index(['age', 'gender', 'weight', 'height', 'max_bpm', 'avg_bpm',\n",
       "       'resting_bpm', 'session_duration', 'calories_burned', 'workout_type',\n",
       "       'fat_percentage', 'water_intake', 'workout_frequency',\n",
       "       'experience_level', 'bmi'],\n",
       "      dtype='object')"
      ]
     },
     "execution_count": 5,
     "metadata": {},
     "output_type": "execute_result"
    }
   ],
   "source": [
    "def normalize_name(name: str) -> str:\n",
    "    \"\"\"\n",
    "        Normalize given name into lowercase separated by underscores\n",
    "        and removing the measurements.\n",
    "\n",
    "    Args:\n",
    "        name (str): column name to normalize\n",
    "\n",
    "    Returns:\n",
    "        str: normalized name\n",
    "    \"\"\"\n",
    "\n",
    "    return name.lower().split(\"(\")[0].strip().replace(\" \", \"_\")\n",
    "\n",
    "\n",
    "df.columns = df.columns.map(normalize_name)\n",
    "df.columns"
   ]
  },
  {
   "cell_type": "markdown",
   "metadata": {
    "cell_id": "71acf7eb1b394bb89ff1452715b8ff5a",
    "deepnote_app_block_visible": true,
    "deepnote_cell_type": "text-cell-h2",
    "formattedRanges": []
   },
   "source": [
    "## Feature Engineering"
   ]
  },
  {
   "cell_type": "markdown",
   "metadata": {
    "cell_id": "a692860fed174d6d8d48f01d9b340f04",
    "deepnote_app_block_visible": true,
    "deepnote_cell_type": "text-cell-h3",
    "formattedRanges": []
   },
   "source": [
    "### Feature creation"
   ]
  },
  {
   "cell_type": "code",
   "execution_count": 6,
   "metadata": {
    "cell_id": "efe7776668024e598fecc861f39ca233",
    "deepnote_app_block_visible": true,
    "deepnote_cell_type": "code",
    "execution_context_id": "7e60fa0b-7097-411e-b43b-8da99bc155c5",
    "execution_millis": 1,
    "execution_start": 1732818269992,
    "source_hash": "15d894c4"
   },
   "outputs": [
    {
     "name": "stdout",
     "output_type": "stream",
     "text": [
      "No missing values\n"
     ]
    }
   ],
   "source": [
    "# Show missing values\n",
    "_null = df.isnull().sum()\n",
    "\n",
    "print(_null[_null > 0] if any(_null) else \"No missing values\")"
   ]
  },
  {
   "cell_type": "code",
   "execution_count": 7,
   "metadata": {},
   "outputs": [],
   "source": [
    "from sklearn.base import BaseEstimator, TransformerMixin\n",
    "from sklearn.preprocessing import OneHotEncoder\n",
    "\n",
    "class TOneHotEncoder(BaseEstimator, TransformerMixin):\n",
    "\n",
    "    def __init__(self, *args, **kwargs):\n",
    "        self.encoder = OneHotEncoder(*args, **kwargs)\n",
    "    \n",
    "    def _protected(self, X: pd.DataFrame) -> pd.DataFrame:\n",
    "        return X.select_dtypes(include=['object'])\n",
    "    \n",
    "    def fit(self, X, y=None):\n",
    "        self.encoder.fit(self._protected(X))\n",
    "        return self\n",
    "        \n",
    "    def transform(self, X: pd.DataFrame, y=None):\n",
    "        return self.encoder.transform(self._protected(X))"
   ]
  },
  {
   "cell_type": "code",
   "execution_count": null,
   "metadata": {},
   "outputs": [
    {
     "data": {
      "text/html": [
       "<div>\n",
       "<style scoped>\n",
       "    .dataframe tbody tr th:only-of-type {\n",
       "        vertical-align: middle;\n",
       "    }\n",
       "\n",
       "    .dataframe tbody tr th {\n",
       "        vertical-align: top;\n",
       "    }\n",
       "\n",
       "    .dataframe thead th {\n",
       "        text-align: right;\n",
       "    }\n",
       "</style>\n",
       "<table border=\"1\" class=\"dataframe\">\n",
       "  <thead>\n",
       "    <tr style=\"text-align: right;\">\n",
       "      <th></th>\n",
       "      <th>0</th>\n",
       "    </tr>\n",
       "  </thead>\n",
       "  <tbody>\n",
       "    <tr>\n",
       "      <th>0</th>\n",
       "      <td>(np.int32(0), np.int32(1))\\t1.0\\n  (np.int32...</td>\n",
       "    </tr>\n",
       "    <tr>\n",
       "      <th>1</th>\n",
       "      <td>(np.int32(0), np.int32(0))\\t1.0\\n  (np.int32...</td>\n",
       "    </tr>\n",
       "    <tr>\n",
       "      <th>2</th>\n",
       "      <td>(np.int32(0), np.int32(0))\\t1.0\\n  (np.int32...</td>\n",
       "    </tr>\n",
       "    <tr>\n",
       "      <th>3</th>\n",
       "      <td>(np.int32(0), np.int32(1))\\t1.0\\n  (np.int32...</td>\n",
       "    </tr>\n",
       "    <tr>\n",
       "      <th>4</th>\n",
       "      <td>(np.int32(0), np.int32(1))\\t1.0\\n  (np.int32...</td>\n",
       "    </tr>\n",
       "  </tbody>\n",
       "</table>\n",
       "</div>"
      ],
      "text/plain": [
       "                                                   0\n",
       "0    (np.int32(0), np.int32(1))\\t1.0\\n  (np.int32...\n",
       "1    (np.int32(0), np.int32(0))\\t1.0\\n  (np.int32...\n",
       "2    (np.int32(0), np.int32(0))\\t1.0\\n  (np.int32...\n",
       "3    (np.int32(0), np.int32(1))\\t1.0\\n  (np.int32...\n",
       "4    (np.int32(0), np.int32(1))\\t1.0\\n  (np.int32..."
      ]
     },
     "execution_count": 11,
     "metadata": {},
     "output_type": "execute_result"
    }
   ],
   "source": [
    "_encoder = TOneHotEncoder()\n",
    "\n",
    "_encoder = OneHotEncoder()\n",
    "\n",
    "_encoded_categorical = pd.DataFrame(_encoder.fit_transform(df.select_dtypes(include=['object'])).toarray())\n",
    "\n",
    "_encoded_df = pd.DataFrame(_encoder.fit_transform(df))\n",
    "_encoded_df.head()"
   ]
  },
  {
   "cell_type": "markdown",
   "metadata": {
    "cell_id": "e187a88cf0d7432a842735c15425299a",
    "deepnote_app_block_visible": true,
    "deepnote_cell_type": "text-cell-h3",
    "formattedRanges": []
   },
   "source": [
    "### Feature transformation"
   ]
  },
  {
   "cell_type": "markdown",
   "metadata": {
    "cell_id": "1a6189d062034cba8b2bd05c6e85eb32",
    "deepnote_app_block_visible": true,
    "deepnote_cell_type": "text-cell-h3",
    "formattedRanges": []
   },
   "source": [
    "### Feature encoding"
   ]
  },
  {
   "cell_type": "markdown",
   "metadata": {
    "cell_id": "35e7680a470b4b66a63d5e2bb538d75b",
    "deepnote_app_block_visible": true,
    "deepnote_cell_type": "text-cell-h3",
    "formattedRanges": []
   },
   "source": [
    "### Feature scaling"
   ]
  },
  {
   "cell_type": "code",
   "execution_count": null,
   "metadata": {
    "cell_id": "de07501b7a2341b4a75e6c820618ad8e",
    "deepnote_app_block_visible": true,
    "deepnote_cell_type": "code",
    "execution_context_id": "7e60fa0b-7097-411e-b43b-8da99bc155c5",
    "execution_millis": 2969,
    "execution_start": 1732819337636,
    "source_hash": "453541d7"
   },
   "outputs": [],
   "source": [
    "# Scaling and normalization\n",
    "from sklearn.preprocessing import StandardScaler\n",
    "\n",
    "_scaler = StandardScaler()\n",
    "\n",
    "scaled_df = pd.DataFrame(_scaler.fit_transform(df), columns=encoded_df.columns)\n",
    "\n",
    "# Dimensionality reduction\n",
    "scaled_df.head(5)"
   ]
  },
  {
   "cell_type": "markdown",
   "metadata": {
    "cell_id": "56aed89f33fa4ddab6acd814561f5222",
    "deepnote_app_block_visible": true,
    "deepnote_cell_type": "text-cell-h3",
    "formattedRanges": []
   },
   "source": [
    "### Feature selection"
   ]
  },
  {
   "cell_type": "markdown",
   "metadata": {
    "cell_id": "98d02bea45e54a299e90c1f861ca598d",
    "deepnote_app_block_visible": true,
    "deepnote_cell_type": "text-cell-h3",
    "formattedRanges": []
   },
   "source": [
    "### Feature extraction"
   ]
  },
  {
   "cell_type": "markdown",
   "metadata": {
    "created_in_deepnote_cell": true,
    "deepnote_cell_type": "markdown"
   },
   "source": [
    "<a style='text-decoration:none;line-height:16px;display:flex;color:#5B5B62;padding:10px;justify-content:end;' href='https://deepnote.com?utm_source=created-in-deepnote-cell&projectId=d9b716da-a519-4d40-8a21-438227d42336' target=\"_blank\">\n",
    "<img alt='Created in deepnote.com' style='display:inline;max-height:16px;margin:0px;margin-right:7.5px;' src='data:image/svg+xml;base64,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' > </img>\n",
    "Created in <span style='font-weight:600;margin-left:4px;'>Deepnote</span></a>"
   ]
  }
 ],
 "metadata": {
  "deepnote_app_hide_all_code_blocks_enabled": false,
  "deepnote_app_layout": "powerful-article",
  "deepnote_app_reactivity_enabled": true,
  "deepnote_notebook_id": "afb81c7e66d3413ea71de67ae679ff0b",
  "deepnote_persisted_session": {
   "createdAt": "2024-11-23T23:30:13.619Z"
  },
  "kernelspec": {
   "display_name": "env",
   "language": "python",
   "name": "python3"
  },
  "language_info": {
   "codemirror_mode": {
    "name": "ipython",
    "version": 3
   },
   "file_extension": ".py",
   "mimetype": "text/x-python",
   "name": "python",
   "nbconvert_exporter": "python",
   "pygments_lexer": "ipython3",
   "version": "3.9.13"
  }
 },
 "nbformat": 4,
 "nbformat_minor": 0
}
