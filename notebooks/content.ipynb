{
  "cells": [
    {
      "cell_type": "markdown",
      "source": "# Lab 1: Exploratory Data Analysis (EDA) and Feature Engineering\n# Case Study: Titanic Survival Analysis\n\n## Author: [Mariano Garralda]\n### Academic Year: 2024-2025\n\n---\n\n## Table of Contents\n1. [Problem Understanding and Objectives](#1)\n2. [Dataset Description](#2)\n3. [Exploratory Data Analysis (EDA)](#3)\n    - [3.1 Data Loading and Overview](#3.1)\n    - [3.2 Data Cleaning](#3.2)\n    - [3.3 Univariate Analysis](#3.3)\n    - [3.4 Bivariate Analysis](#3.4)\n    - [3.5 Correlation Analysis](#3.5)\n4. [Feature Engineering](#4)\n    - [4.1 Handling Missing Values](#4.1)\n    - [4.2 Feature Creation](#4.2)\n    - [4.3 Feature Transformation](#4.3)\n    - [4.4 Feature Encoding](#4.4)\n    - [4.5 Feature Scaling](#4.5)\n    - [4.6 Feature Selection](#4.6)\n5. [Conclusion](#5)\n6. [References](#6)\n",
      "metadata": {
        "cell_id": "468c8f5fc0ec4103b76ce6459726c1d2",
        "deepnote_cell_type": "markdown"
      },
      "block_group": "ffbcd3da9d8f483589737ed2f2967949"
    },
    {
      "cell_type": "markdown",
      "source": "<a id='1'></a>\n\n## 1. Problem Understanding and Objectives\n\nThe sinking of the RMS Titanic is one of the most infamous shipwrecks in history. On April 15, 1912, during her maiden voyage, the Titanic sank after colliding with an iceberg, leading to the deaths of 1,502 out of 2,224 passengers and crew.\n\n**Objective:**  \nThe primary goal of this case study is to build a predictive model that answers the question: *\"What sorts of people were more likely to survive?\"* We aim to apply Exploratory Data Analysis (EDA) and Feature Engineering techniques to prepare the data for modeling.\n",
      "metadata": {
        "cell_id": "6c52d42489d248088f4d05171cf3d7a3",
        "deepnote_cell_type": "markdown"
      },
      "block_group": "9af1f415b7a3489aa882a4538cf72040"
    },
    {
      "cell_type": "markdown",
      "source": "<a id='2'></a>\n\n## 2. Dataset Description\n\nThe dataset is provided by Kaggle and contains information about the passengers aboard the Titanic.\n\n**Features:**\n\n- **PassengerId**: Unique ID for each passenger.\n- **Survived**: Survival status (0 = No, 1 = Yes).\n- **Pclass**: Ticket class (1 = 1st, 2 = 2nd, 3 = 3rd).\n- **Name**: Passenger's name.\n- **Sex**: Passenger's sex.\n- **Age**: Passenger's age in years.\n- **SibSp**: Number of siblings/spouses aboard.\n- **Parch**: Number of parents/children aboard.\n- **Ticket**: Ticket number.\n- **Fare**: Passenger fare.\n- **Cabin**: Cabin number.\n- **Embarked**: Port of embarkation (C = Cherbourg, Q = Queenstown, S = Southampton).\n",
      "metadata": {
        "cell_id": "75706fbf38804ac2bee26e28b9c9f081",
        "deepnote_cell_type": "markdown"
      },
      "block_group": "b79b109b5ccc46f28b6387840287a93e"
    },
    {
      "cell_type": "markdown",
      "source": "<a id='3'></a>\n\n## 3. Exploratory Data Analysis (EDA)",
      "metadata": {
        "cell_id": "8e230780eeaf46759f5fb5e69d6ffb62",
        "deepnote_cell_type": "markdown"
      },
      "block_group": "451054c40e4a43bd867f899a40878095"
    },
    {
      "cell_type": "markdown",
      "source": "### 3.1 Data Loading and Overview",
      "metadata": {
        "cell_id": "bb8e738508394920b82ae1d8c19cc0e2",
        "deepnote_cell_type": "markdown"
      },
      "block_group": "93a07e70885045449b193af7065d25d4"
    },
    {
      "cell_type": "code",
      "source": "# Import necessary libraries\nimport pandas as pd\nimport numpy as np\nimport matplotlib.pyplot as plt\nimport seaborn as sns\n\n# For displaying plots inline\n%matplotlib inline\n\n# Ignore warnings\nimport warnings\nwarnings.filterwarnings('ignore')\n\n# Load the dataset\ntrain_df = pd.read_csv('/work/resources/train.csv')\ntest_df = pd.read_csv('/work/resources/test.csv')\n\n# Display first few rows\ntrain_df.head()",
      "metadata": {
        "metadata": {},
        "source_hash": "30b1da41",
        "execution_start": 1732818570168,
        "execution_millis": 346,
        "execution_context_id": "6df699e3-bd73-4806-b4ad-a6fa36bb604a",
        "cell_id": "5ee2bc6476e4492ca5ac6a7d7df28578",
        "deepnote_cell_type": "code"
      },
      "outputs": [],
      "outputs_reference": null,
      "execution_count": 17,
      "block_group": "62c93ffb16474e51b7342836f1e79624",
      "content_dependencies": null
    },
    {
      "cell_type": "markdown",
      "source": "Get basic information about the dataset:",
      "metadata": {
        "cell_id": "f5d2aa79554749bbb1f904cd11ae0292",
        "deepnote_cell_type": "markdown"
      },
      "block_group": "26ea19b9ff3e4893a4cacc6f16b3637d"
    },
    {
      "cell_type": "code",
      "source": "train_df.info()",
      "metadata": {
        "metadata": {},
        "source_hash": "928938fc",
        "execution_start": 1732818570561,
        "execution_millis": 21,
        "execution_context_id": "6df699e3-bd73-4806-b4ad-a6fa36bb604a",
        "cell_id": "9e3a258aa277455282856132d7f01e89",
        "deepnote_cell_type": "code"
      },
      "outputs": [],
      "outputs_reference": null,
      "execution_count": 18,
      "block_group": "cdad2a9add7041f592e14474c19d998e",
      "content_dependencies": null
    },
    {
      "cell_type": "code",
      "source": "train_df.describe()",
      "metadata": {
        "metadata": {},
        "source_hash": "7fd5b85f",
        "execution_start": 1732818570629,
        "execution_millis": 0,
        "execution_context_id": "6df699e3-bd73-4806-b4ad-a6fa36bb604a",
        "cell_id": "4502ba8bea02410186e96d0883f720cd",
        "deepnote_cell_type": "code"
      },
      "outputs": [],
      "outputs_reference": null,
      "execution_count": 19,
      "block_group": "77b2f0a725184b359f28d3fc199f1b3a",
      "content_dependencies": null
    },
    {
      "cell_type": "markdown",
      "source": "Check for missing values:",
      "metadata": {
        "cell_id": "b32d40dc3ea640749cd72ea69d59afcb",
        "deepnote_cell_type": "markdown"
      },
      "block_group": "a60fea4c3503473eb0d9556f2c047375"
    },
    {
      "cell_type": "code",
      "source": "train_df.isnull().sum()",
      "metadata": {
        "metadata": {},
        "source_hash": "20cfc1cf",
        "execution_start": 1732818570729,
        "execution_millis": 0,
        "execution_context_id": "6df699e3-bd73-4806-b4ad-a6fa36bb604a",
        "cell_id": "cad551ab67754fccbbb414edd896c843",
        "deepnote_cell_type": "code"
      },
      "outputs": [],
      "outputs_reference": null,
      "execution_count": 20,
      "block_group": "77c40645aeb94074b5dca6d077d9ff1f",
      "content_dependencies": null
    },
    {
      "cell_type": "markdown",
      "source": "**Observation:**\n\n- **Age**: 177 missing values.\n- **Cabin**: 687 missing values.\n- **Embarked**: 2 missing values.\n",
      "metadata": {
        "cell_id": "814a78d958684927b0082f16bdbf9579",
        "deepnote_cell_type": "markdown"
      },
      "block_group": "765a382a126045d4bd9a1912b0f6a41b"
    },
    {
      "cell_type": "code",
      "source": "test_df.info()",
      "metadata": {
        "metadata": {},
        "source_hash": "ed833760",
        "execution_start": 1732818570786,
        "execution_millis": 7,
        "execution_context_id": "6df699e3-bd73-4806-b4ad-a6fa36bb604a",
        "cell_id": "c89cb526aa254537aae42f4b3dd334b9",
        "deepnote_cell_type": "code"
      },
      "outputs": [],
      "outputs_reference": null,
      "execution_count": 21,
      "block_group": "d820355645be4bafb15e73ceadea8cbb",
      "content_dependencies": null
    },
    {
      "cell_type": "code",
      "source": "test_df.describe()",
      "metadata": {
        "metadata": {},
        "source_hash": "578a709b",
        "execution_start": 1732818570849,
        "execution_millis": 0,
        "execution_context_id": "6df699e3-bd73-4806-b4ad-a6fa36bb604a",
        "cell_id": "532dd753bdec48e085e860780208fc6a",
        "deepnote_cell_type": "code"
      },
      "outputs": [],
      "outputs_reference": null,
      "execution_count": 22,
      "block_group": "636354adb40448188b3f33cd74425e51",
      "content_dependencies": null
    },
    {
      "cell_type": "code",
      "source": "test_df.isnull().sum()",
      "metadata": {
        "metadata": {},
        "source_hash": "a9951c9e",
        "execution_start": 1732818570929,
        "execution_millis": 0,
        "execution_context_id": "6df699e3-bd73-4806-b4ad-a6fa36bb604a",
        "cell_id": "81d969f7454843259f4d0bd44e0939d5",
        "deepnote_cell_type": "code"
      },
      "outputs": [],
      "outputs_reference": null,
      "execution_count": 23,
      "block_group": "b95584a05669424f8e8c02813645abbc",
      "content_dependencies": null
    },
    {
      "cell_type": "markdown",
      "source": "### 3.2 Data Cleaning\n\n**Handling Missing Values:**\n\n- **Cabin**: A significant portion is missing (~77%). We will consider dropping this column or creating a new feature indicating whether a passenger had a cabin assigned.\n- **Age**: Contains missing values. We will impute missing ages.\n- **Embarked**: Contains 2 missing values. We can impute with the mode.",
      "metadata": {
        "cell_id": "1e9aebd5978647ffbe7037d59f8a0ecb",
        "deepnote_cell_type": "markdown"
      },
      "block_group": "46a04856661c411ab9bf1d38cd6979d8"
    },
    {
      "cell_type": "markdown",
      "source": "### 3.3 Univariate Analysis\n\n#### Survived (class label)",
      "metadata": {
        "cell_id": "ce5e906d79284b4dbf2ced3ce60cff29",
        "deepnote_cell_type": "markdown"
      },
      "block_group": "02bdfebfb5b04dde8a448df4ea67d828"
    },
    {
      "cell_type": "code",
      "source": "# Plot the distribution of survival\nsns.countplot(x='Survived', data=train_df)\nplt.title('Distribution of Survival')\nplt.show()",
      "metadata": {
        "metadata": {},
        "source_hash": "928a5ee4",
        "execution_start": 1732818570985,
        "execution_millis": 305,
        "execution_context_id": "6df699e3-bd73-4806-b4ad-a6fa36bb604a",
        "cell_id": "d1f01ccfd3474239a56fce208b92f3f6",
        "deepnote_cell_type": "code"
      },
      "outputs": [],
      "outputs_reference": null,
      "execution_count": 24,
      "block_group": "f8506cc67ffe4e48aa0d5f034e6af00e",
      "content_dependencies": null
    },
    {
      "cell_type": "markdown",
      "source": "**Observation:**\n\n- Approximately 38% survived and 62% did not survive.",
      "metadata": {
        "cell_id": "341002640b554ed39ff51be2bf0f2e6f",
        "deepnote_cell_type": "markdown"
      },
      "block_group": "d1c9f913a1f3448c9ff9067bf8b23e3b"
    },
    {
      "cell_type": "markdown",
      "source": "#### Age",
      "metadata": {
        "cell_id": "31081f886b6e4879a1f5281ad72d28e6",
        "deepnote_cell_type": "markdown"
      },
      "block_group": "d2836c68f98240e990dd81a2cedfcbf6"
    },
    {
      "cell_type": "code",
      "source": "# Histogram of Age\ntrain_df['Age'].hist(bins=30, edgecolor='black')\nplt.xlabel('Age')\nplt.ylabel('Count')\nplt.title('Distribution of Age')\nplt.show()",
      "metadata": {
        "metadata": {},
        "source_hash": "1b3844b2",
        "execution_start": 1732818571344,
        "execution_millis": 374,
        "execution_context_id": "6df699e3-bd73-4806-b4ad-a6fa36bb604a",
        "cell_id": "dc15cb1718564e67b4d8407c505d971a",
        "deepnote_cell_type": "code"
      },
      "outputs": [],
      "outputs_reference": null,
      "execution_count": 25,
      "block_group": "e8f31d74bb714d2b821d9696662508f3",
      "content_dependencies": null
    },
    {
      "cell_type": "markdown",
      "source": "**Observation:**\n\n- Age is approximately normally distributed with some skewness.",
      "metadata": {
        "cell_id": "c0c5bef744684886adb819b979a828d8",
        "deepnote_cell_type": "markdown"
      },
      "block_group": "15cefb4f0971438889a62cf075eb5a64"
    },
    {
      "cell_type": "markdown",
      "source": "### Task: Analyses other features",
      "metadata": {
        "cell_id": "1c00163304bb48dc95f834f41e1a902c",
        "deepnote_cell_type": "markdown"
      },
      "block_group": "b3dc9b1a59d14628b323fc88dd3b379c"
    },
    {
      "cell_type": "code",
      "source": "# Get numerical columns\nnumerical_cols = train_df.select_dtypes(include=[np.number]).columns\n\n# Plot histogram of numerical columns\nfor col in numerical_cols:\n    train_df[col].hist(bins=30, edgecolor='black')\n    plt.xlabel(col)\n    plt.ylabel('Count')\n    plt.title('Distribution of ' + col)\n    plt.show()",
      "metadata": {
        "metadata": {},
        "source_hash": "b2ac7d2f",
        "execution_start": 1732818572024,
        "execution_millis": 2900,
        "execution_context_id": "6df699e3-bd73-4806-b4ad-a6fa36bb604a",
        "cell_id": "fc496fe1060a40f2bf42e806768da635",
        "deepnote_cell_type": "code"
      },
      "outputs": [],
      "outputs_reference": null,
      "execution_count": 26,
      "block_group": "f2ade9c7ab4944838cef20687a92f3c3",
      "content_dependencies": null
    },
    {
      "cell_type": "code",
      "source": "df_categorical = train_df.select_dtypes(include=['object'])\ndf_categorical",
      "metadata": {
        "metadata": {},
        "source_hash": "bcfc6869",
        "execution_start": 1732818575025,
        "execution_millis": 0,
        "execution_context_id": "6df699e3-bd73-4806-b4ad-a6fa36bb604a",
        "cell_id": "6c5e6955e58c42098b9968c510f977e3",
        "deepnote_cell_type": "code"
      },
      "outputs": [],
      "outputs_reference": null,
      "execution_count": 27,
      "block_group": "33c6093c2427456da48802dc69e99c3b",
      "content_dependencies": null
    },
    {
      "cell_type": "code",
      "source": "# Plot count plot for each categorical column\nfor col in df_categorical.columns:\n    sns.countplot(x=col, data=train_df)\n    plt.title('Count plot for ' + col)\n    plt.show()",
      "metadata": {
        "metadata": {},
        "source_hash": "87f1756c",
        "execution_start": 1732818575079,
        "execution_millis": 22544,
        "execution_context_id": "6df699e3-bd73-4806-b4ad-a6fa36bb604a",
        "cell_id": "da7e12918ea245c2ac836f02f2d66ab5",
        "deepnote_cell_type": "code"
      },
      "outputs": [],
      "outputs_reference": null,
      "execution_count": 28,
      "block_group": "f9d2b58718f848c89dbf971059cfc74a",
      "content_dependencies": null
    },
    {
      "cell_type": "markdown",
      "source": "### 3.4 Bivariate Analysis\n\n#### Survival by Sex",
      "metadata": {
        "cell_id": "6d0dbee85cb348b1a4c256b3775e2819",
        "deepnote_cell_type": "markdown"
      },
      "block_group": "eba63b7ce5c44082a980c0d6e1e42a1a"
    },
    {
      "cell_type": "code",
      "source": "# Survival rate by Sex\nsns.barplot(x='Sex', y='Survived', data=train_df)\nplt.title('Survival Rate by Sex')\nplt.show()",
      "metadata": {
        "metadata": {},
        "source_hash": "455b4b2a",
        "execution_start": 1732818597736,
        "execution_millis": 368,
        "execution_context_id": "6df699e3-bd73-4806-b4ad-a6fa36bb604a",
        "cell_id": "c3a8b51ed425480ebae8b1c762b2dfe8",
        "deepnote_cell_type": "code"
      },
      "outputs": [],
      "outputs_reference": null,
      "execution_count": 29,
      "block_group": "e863790ed9064fb4aacd8d06a0a61914",
      "content_dependencies": null
    },
    {
      "cell_type": "markdown",
      "source": "**Observation:**\n\n- Females have a significantly higher survival rate than males.",
      "metadata": {
        "cell_id": "d559156af9d74f879fe40d21c02fc8ee",
        "deepnote_cell_type": "markdown"
      },
      "block_group": "8078ecd2e0d3480e811cd4ffca771480"
    },
    {
      "cell_type": "markdown",
      "source": "#### Survival by Pclass",
      "metadata": {
        "cell_id": "1d1c96dc0922482abf5f3abaf7856723",
        "deepnote_cell_type": "markdown"
      },
      "block_group": "29e0fd887e8547e89c47f6a8e9aab220"
    },
    {
      "cell_type": "code",
      "source": "# Survival rate by Pclass\nsns.barplot(x='Pclass', y='Survived', data=train_df)\nplt.title('Survival Rate by Passenger Class')\nplt.show()",
      "metadata": {
        "metadata": {},
        "source_hash": "f966667d",
        "execution_start": 1732818598183,
        "execution_millis": 419,
        "execution_context_id": "6df699e3-bd73-4806-b4ad-a6fa36bb604a",
        "cell_id": "615db10875594c3bad10ba6276cec67d",
        "deepnote_cell_type": "code"
      },
      "outputs": [],
      "outputs_reference": null,
      "execution_count": 30,
      "block_group": "e221a6a3f5d34aaeb73798dcafaf22bb",
      "content_dependencies": null
    },
    {
      "cell_type": "markdown",
      "source": "**Observation:**\n\n- Higher survival rate in 1st class, lower in 3rd class.",
      "metadata": {
        "cell_id": "aea178b56f224273ae09c1c9621c7593",
        "deepnote_cell_type": "markdown"
      },
      "block_group": "91e10d168276497197ce90143cec8b4f"
    },
    {
      "cell_type": "markdown",
      "source": "### Task: Analyses other features",
      "metadata": {
        "cell_id": "8ef41f1f30c14019885f5c16185d1e72",
        "deepnote_cell_type": "markdown"
      },
      "block_group": "4709d69d134a4ca7b9e24c8437b8afee"
    },
    {
      "cell_type": "markdown",
      "source": "#### Age Distribution by Survival",
      "metadata": {
        "cell_id": "18b3baff08e0444f9b726d4eeb21633a",
        "deepnote_cell_type": "markdown"
      },
      "block_group": "b790e796a7a24ceaa0869f75c4194b5f"
    },
    {
      "cell_type": "code",
      "source": "# KDE plot of Age distribution by Survival\n# Even though the Age is a discrete value, in practice, it is often treated as a continuous variable to create the Probability Density Function\n# (PDF) and visualize the distribution.\nsns.kdeplot(train_df.loc[train_df['Survived'] == 0, 'Age'], label='Did Not Survive')\nsns.kdeplot(train_df.loc[train_df['Survived'] == 1, 'Age'], label='Survived')\nplt.xlabel('Age')\nplt.ylabel('Density')\nplt.title('Age Distribution by Survival')\nplt.legend()\nplt.show()",
      "metadata": {
        "metadata": {},
        "source_hash": "26fa0bad",
        "execution_start": 1732818598648,
        "execution_millis": 346,
        "execution_context_id": "6df699e3-bd73-4806-b4ad-a6fa36bb604a",
        "cell_id": "051beff07cb34ba0832a37e4dcf1b605",
        "deepnote_cell_type": "code"
      },
      "outputs": [],
      "outputs_reference": null,
      "execution_count": 31,
      "block_group": "53c564396e46479aa109199fd82978d1",
      "content_dependencies": null
    },
    {
      "cell_type": "markdown",
      "source": "### Task: Analyses other features\n",
      "metadata": {
        "cell_id": "8999e76604c4496c9422946d1072b543",
        "deepnote_cell_type": "markdown"
      },
      "block_group": "fcc8fba3c0aa478c972c27cb69076ea0"
    },
    {
      "cell_type": "markdown",
      "source": "### 3.5 Correlation Analysis \n\n### 3.5.1 Pearson Correlation Coefficient (linear pairwise relationship)\n",
      "metadata": {
        "cell_id": "a356d55870e341708901d3e2f7b2073a",
        "deepnote_cell_type": "markdown"
      },
      "block_group": "cffc95de0843427a9c9ea3bfa59798aa"
    },
    {
      "cell_type": "code",
      "source": "# Compute the correlation matrix\ncorr_matrix = train_df.corr(method='pearson')\nsns.heatmap(corr_matrix, annot=True, cmap='coolwarm')\nplt.title('Correlation Matrix')\nplt.show()",
      "metadata": {
        "metadata": {},
        "source_hash": "aba0f6d8",
        "execution_start": 1732818599110,
        "execution_millis": 3275,
        "execution_context_id": "6df699e3-bd73-4806-b4ad-a6fa36bb604a",
        "cell_id": "735f367cd3eb4db494e3b8129f93a33b",
        "deepnote_cell_type": "code"
      },
      "outputs": [],
      "outputs_reference": null,
      "execution_count": 32,
      "block_group": "1b6d526498cc473ca7344c50a679424e",
      "content_dependencies": null
    },
    {
      "cell_type": "markdown",
      "source": "### Task: Why about the above error?\nFix it.",
      "metadata": {
        "cell_id": "4a35b7abc9754c959492c8b234e809d6",
        "deepnote_cell_type": "markdown"
      },
      "block_group": "f1f142e7dffb4b99b49da91ee1c3e3d8"
    },
    {
      "cell_type": "code",
      "source": "# Select only numerical columns\nnumerical_df = train_df.select_dtypes(include=[np.number])\n\n# Compute the correlation matrix\ncorr_matrix = numerical_df.corr(method='pearson')\n\n# Plot the heatmap\nsns.heatmap(corr_matrix, annot=True, cmap='coolwarm')\nplt.title('Correlation Matrix')\nplt.show()",
      "metadata": {
        "metadata": {},
        "deepnote_to_be_reexecuted": true,
        "cell_id": "5a12012fae6a46728562212eb486e557",
        "deepnote_cell_type": "code"
      },
      "outputs": [],
      "outputs_reference": null,
      "execution_count": 24,
      "block_group": "d32e8e09b44b4df5bd67a7759b08c7d3",
      "content_dependencies": null
    },
    {
      "cell_type": "markdown",
      "source": "### Task: Implement Spearman correlation coefficient\nWhat is the main difference between Pearson correlation coefficient?\n\nWhat observations can you make from the correlation matrix?",
      "metadata": {
        "cell_id": "440361ad358b419396de48545d5b1897",
        "deepnote_cell_type": "markdown"
      },
      "block_group": "7f721a1cab3f43388b3f4858dee27ef4"
    },
    {
      "cell_type": "code",
      "source": "numerical_df = train_df.select_dtypes(include=[np.number])\ncorr_matrix = numerical_df.corr(method='spearman')\nsns.heatmap(corr_matrix, annot=True, cmap='coolwarm')\nplt.title('Correlation Matrix')\nplt.show()",
      "metadata": {
        "metadata": {},
        "deepnote_to_be_reexecuted": true,
        "cell_id": "0ce153cce3774dbc87da9c27d93a6b32",
        "deepnote_cell_type": "code"
      },
      "outputs": [],
      "outputs_reference": null,
      "execution_count": 25,
      "block_group": "b13c71d466c84ec6825a1200660faf07",
      "content_dependencies": null
    },
    {
      "cell_type": "markdown",
      "source": "Pearson correlation detects linear relationships, while Spearman correlation also detects non-linear relationships.\n\n![image.png](attachment:image.png)",
      "metadata": {
        "cell_id": "77f049e74d7b46c7a4840c7035ee38c6",
        "deepnote_cell_type": "markdown"
      },
      "block_group": "1f3b779ed5664bfcbe8bad9afbe4a641"
    },
    {
      "cell_type": "code",
      "source": "# Plot correlation between Pclass and Fare\nsns.scatterplot(x='Pclass', y='Fare', data=train_df)",
      "metadata": {
        "metadata": {},
        "deepnote_to_be_reexecuted": true,
        "cell_id": "1f3c8bb641224fe1b7ce6bc6fbd4ca87",
        "deepnote_cell_type": "code"
      },
      "outputs": [],
      "outputs_reference": null,
      "execution_count": 26,
      "block_group": "c938e6957cbb496985d33f34eb47f0c4",
      "content_dependencies": null
    },
    {
      "cell_type": "markdown",
      "source": "### Task Home: Apply some test to analysis whether two categorical variables are independent. Check the class material of this unit.",
      "metadata": {
        "cell_id": "1edc64e45f9f44239afdcf8177a9727f",
        "deepnote_cell_type": "markdown"
      },
      "block_group": "ef926638b1834c6fa14ed398f513c031"
    },
    {
      "cell_type": "code",
      "source": "from scipy.stats import chi2_contingency",
      "metadata": {
        "source_hash": "68d0d874",
        "execution_start": 1732818644128,
        "execution_millis": 1,
        "execution_context_id": "6df699e3-bd73-4806-b4ad-a6fa36bb604a",
        "cell_id": "cc5da11dd1e7483fba7f31749914d537",
        "deepnote_cell_type": "code"
      },
      "outputs": [],
      "outputs_reference": null,
      "execution_count": 33,
      "block_group": "794956986cb747dd9703fab1363bec46",
      "content_dependencies": null
    },
    {
      "cell_type": "markdown",
      "source": "<a id='4'></a>\n\n## 4. Feature Engineering",
      "metadata": {
        "cell_id": "14dac8add3674093a3fd775d92218741",
        "deepnote_cell_type": "markdown"
      },
      "block_group": "9ef59811b372465cb91f12c0534dcdb6"
    },
    {
      "cell_type": "markdown",
      "source": "### 4.1 Handling Missing Values\n\n#### Age Imputation",
      "metadata": {
        "cell_id": "56aeb2d6755440a099b68817eeb6e85e",
        "deepnote_cell_type": "markdown"
      },
      "block_group": "e5857a48ced24ca9a46504bca61c9271"
    },
    {
      "cell_type": "code",
      "source": "# Create a function to impute missing ages\ndef impute_age(row):\n    Age = row['Age']\n    Pclass = row['Pclass']\n    Sex = row['Sex']\n    if pd.isnull(Age):\n        return median_ages[Pclass][Sex]\n    else:\n        return Age\n\n# Convert 'Sex' to numeric\ntrain_df['Sex'] = train_df['Sex'].map({'female': 1, 'male': 0})\ntest_df['Sex'] = test_df['Sex'].map({'female': 1, 'male': 0})\n\n# Calculate median ages\nmedian_ages = train_df.groupby(['Pclass', 'Sex'])['Age'].median()\n\n# Impute Age\ntrain_df['Age'] = train_df.apply(impute_age, axis=1)\ntest_df['Age'] = test_df.apply(impute_age, axis=1)\n\nprint(\"Train\", train_df['Age'].isnull().sum())\nprint(\"Test\", test_df['Age'].isnull().sum())",
      "metadata": {
        "source_hash": "cf0aff32",
        "execution_start": 1732818856537,
        "execution_millis": 0,
        "execution_context_id": "6df699e3-bd73-4806-b4ad-a6fa36bb604a",
        "cell_id": "029245fa9a70491f8ef9fe69fd718427",
        "deepnote_cell_type": "code"
      },
      "outputs": [],
      "outputs_reference": null,
      "execution_count": 39,
      "block_group": "d22ec3f34a234f37aee0199de8e06caf",
      "content_dependencies": null
    },
    {
      "cell_type": "markdown",
      "source": "#### Embarked Imputation\n\nImpute missing **Embarked** values with the mode.",
      "metadata": {
        "cell_id": "9d26a0849d7c41eba5ddffda7fa84d43",
        "deepnote_cell_type": "markdown"
      },
      "block_group": "97d28e3baeab42c2b5a4a252f88e539a"
    },
    {
      "cell_type": "code",
      "source": "# Fill missing Embarked with mode\ntrain_df['Embarked'].fillna(train_df['Embarked'].mode()[0], inplace=True)\ntest_df['Embarked'].fillna(test_df['Embarked'].mode()[0], inplace=True)\n\nprint(\"Train\", train_df['Embarked'].isnull().sum())\nprint(\"Test\", test_df['Embarked'].isnull().sum())",
      "metadata": {
        "source_hash": "feb08a6f",
        "execution_start": 1732818814732,
        "execution_millis": 4,
        "execution_context_id": "6df699e3-bd73-4806-b4ad-a6fa36bb604a",
        "cell_id": "81080892579f4273a33c6cb5ce598e9e",
        "deepnote_cell_type": "code"
      },
      "outputs": [],
      "outputs_reference": null,
      "execution_count": 38,
      "block_group": "05d875df1fe74232aff54b572f3b2483",
      "content_dependencies": null
    },
    {
      "cell_type": "markdown",
      "source": "#### Cabin Feature\n\nCreate a new boolean feature **HasCabin** indicating whether a passenger had a cabin assigned. True or False.",
      "metadata": {
        "cell_id": "25a64fc511154438a724f16269b5c5c3",
        "deepnote_cell_type": "markdown"
      },
      "block_group": "e05a57c7193147c7947b92be8bb0b718"
    },
    {
      "cell_type": "code",
      "source": "# Create HasCabin feature\ntrain_df['HasCabin'] = train_df['Cabin'].notnull()#.astype(int)\ntest_df['HasCabin'] = test_df['Cabin'].notnull().astype(int)\n\n\n# Drop Cabin column\ntrain_df.drop('Cabin', axis=1, inplace=True)\ntest_df.drop('Cabin', axis=1, inplace=True)",
      "metadata": {
        "source_hash": "d481e87",
        "execution_start": 1732819401132,
        "execution_millis": 56,
        "execution_context_id": "6df699e3-bd73-4806-b4ad-a6fa36bb604a",
        "cell_id": "b1344cd6c2964275b477d7d9f02a856e",
        "deepnote_cell_type": "code"
      },
      "outputs": [],
      "outputs_reference": null,
      "execution_count": 45,
      "block_group": "81c53c55f0504403bb517ad2e19a3d7e",
      "content_dependencies": null
    },
    {
      "cell_type": "markdown",
      "source": "### Task: After create the new feature, check if the type of the new HasCabin feature is correct.",
      "metadata": {
        "cell_id": "c21e21d807d248259d6255d44f7141b4",
        "deepnote_cell_type": "markdown"
      },
      "block_group": "aef43b12579144c5b98716549eb0b1e3"
    },
    {
      "cell_type": "code",
      "source": "test_df['HasCabin'].astype()",
      "metadata": {
        "source_hash": "aef4a6fa",
        "execution_start": 1732819081985,
        "execution_millis": 0,
        "execution_context_id": "6df699e3-bd73-4806-b4ad-a6fa36bb604a",
        "cell_id": "76629bafba69470483e6c32824e864b0",
        "deepnote_cell_type": "code"
      },
      "outputs": [],
      "outputs_reference": null,
      "execution_count": 44,
      "block_group": "34ed487b2ce4430ab7123baa3048389a",
      "content_dependencies": null
    },
    {
      "cell_type": "markdown",
      "source": "### 4.2 Feature Creation\n\n#### Title Extraction",
      "metadata": {
        "cell_id": "bc0d2e913fef4e078e88058f426ad0a0",
        "deepnote_cell_type": "markdown"
      },
      "block_group": "19e17b6cb1f345dba031a5bf8010c0b2"
    },
    {
      "cell_type": "code",
      "source": "# Extract titles\ntrain_df['Title'] = train_df['Name'].str.extract(' ([A-Za-z]+)\\.', expand=False)\ntest_df['Title'] = test_df['Name'].str.extract(' ([A-Za-z]+)\\.', expand=False)\n\n# Map titles\ntitle_mapping = {\n    \"Mr\": 1, \"Miss\": 2, \"Mrs\": 3, \"Master\": 4, \"Dr\": 5, \"Rev\": 5,\n    \"Col\": 5, \"Major\": 5, \"Mlle\": 2, \"Countess\": 5, \"Ms\": 2, \"Lady\": 5,\n    \"Jonkheer\": 5, \"Don\": 5, \"Dona\": 5, \"Mme\": 3, \"Capt\": 5, \"Sir\": 5\n}\n\ntrain_df['Title'] = train_df['Title'].map(title_mapping)\ntest_df['Title'] = test_df['Title'].map(title_mapping)\n\n# Fill missing titles with 0\ntrain_df['Title'].fillna(0, inplace=True)\ntest_df['Title'].fillna(0, inplace=True)",
      "metadata": {
        "cell_id": "47ad407dbbcf40bc8f76f83fd5f1937f",
        "deepnote_cell_type": "code"
      },
      "outputs": [],
      "outputs_reference": null,
      "execution_count": null,
      "block_group": "b5f1ab8b9d024e769be47db3f93a59ee",
      "content_dependencies": null
    },
    {
      "cell_type": "markdown",
      "source": "#### Family Size\n\nCreate a **FamilySize** feature by combining **SibSp** and **Parch**.",
      "metadata": {
        "cell_id": "3c170450b147444c97d1d1f3ffe7eb8a",
        "deepnote_cell_type": "markdown"
      },
      "block_group": "fb5c245150154cfabdae55c2b7e03bfb"
    },
    {
      "cell_type": "code",
      "source": "# Create FamilySize feature\ntrain_df['FamilySize'] = train_df['SibSp'] + train_df['Parch'] + 1\ntest_df['FamilySize'] = test_df['SibSp'] + test_df['Parch'] + 1",
      "metadata": {
        "cell_id": "3b44aab12d7b4ba18e099eaf8b3a9f33",
        "deepnote_cell_type": "code"
      },
      "outputs": [],
      "outputs_reference": null,
      "execution_count": null,
      "block_group": "5f2bca69bd4e4c9b9a9a2a6859d9fe5b",
      "content_dependencies": null
    },
    {
      "cell_type": "markdown",
      "source": "#### IsAlone\n\nCreate an **IsAlone** feature.",
      "metadata": {
        "cell_id": "9372408e087a41fa8dd32a99a5fd46bc",
        "deepnote_cell_type": "markdown"
      },
      "block_group": "308b9d17e8024e34be643c636c830755"
    },
    {
      "cell_type": "code",
      "source": "# Create IsAlone feature\ntrain_df['IsAlone'] = 0\ntrain_df.loc[train_df['FamilySize'] == 1, 'IsAlone'] = 1\n\ntest_df['IsAlone'] = 0\ntest_df.loc[test_df['FamilySize'] == 1, 'IsAlone'] = 1",
      "metadata": {
        "cell_id": "9d489edaad0146a29144348e151a2ef9",
        "deepnote_cell_type": "code"
      },
      "outputs": [],
      "outputs_reference": null,
      "execution_count": null,
      "block_group": "3c0586449013402083504f54df4dc2c4",
      "content_dependencies": null
    },
    {
      "cell_type": "markdown",
      "source": "### 4.3 Feature Transformation\n\n#### Fare Binning (discretization)\n\nBinning, also known as discretization, is a data preprocessing technique where continuous numerical variables are converted into categorical variables by dividing them into intervals, or \"bins.\"\nThis process simplifies the data and can help improve the performance of certain machine learning algorithms, especially those that are sensitive \nto the scale or distribution of the data.\n\n#### When to Use Binning\nDealing with Outliers: When your data contains outliers that could skew the analysis.\nPreparing Data for Certain Algorithms: Some machine learning models or algorithms work better with categorical variables.\nSimplifying Complex Data: To make complex data more understandable and interpretable.",
      "metadata": {
        "cell_id": "cc5bf6cfc5d840b6864da0d6365e4bc0",
        "deepnote_cell_type": "markdown"
      },
      "block_group": "df4e78e248f44d349c118fb4dfa3d5b2"
    },
    {
      "cell_type": "code",
      "source": "# Fill missing Fare in test dataset\ntest_df['Fare'].fillna(test_df['Fare'].median(), inplace=True)\n\n# Fare Binning\ntrain_df['FareBand'] = pd.qcut(train_df['Fare'], 4, labels=[1, 2, 3, 4])\ntest_df['FareBand'] = pd.qcut(test_df['Fare'], 4, labels=[1, 2, 3, 4])",
      "metadata": {
        "cell_id": "544eaa25e7d54434bb51eafe49d66112",
        "deepnote_cell_type": "code"
      },
      "outputs": [],
      "outputs_reference": null,
      "execution_count": null,
      "block_group": "9be7f70c24f14732855cda19a036ab66",
      "content_dependencies": null
    },
    {
      "cell_type": "markdown",
      "source": "#### Age Binning",
      "metadata": {
        "cell_id": "a2bb0980126548188caf5bcf922964f7",
        "deepnote_cell_type": "markdown"
      },
      "block_group": "87c8ae2be91b40ef9414a36dcdc3bb9e"
    },
    {
      "cell_type": "code",
      "source": "# Age Binning\ntrain_df['AgeBand'] = pd.cut(train_df['Age'], 5, labels=[1, 2, 3, 4, 5])\ntest_df['AgeBand'] = pd.cut(test_df['Age'], 5, labels=[1, 2, 3, 4, 5])",
      "metadata": {
        "cell_id": "bc74aa5231ba4daea4fa530d7ab2da0e",
        "deepnote_cell_type": "code"
      },
      "outputs": [],
      "outputs_reference": null,
      "execution_count": null,
      "block_group": "8d03cbc8e2074f22b7c26ea1c7bc7ccd",
      "content_dependencies": null
    },
    {
      "cell_type": "markdown",
      "source": "### 4.4 Feature Encoding\n\nDrop unnecessary columns and encode categorical variables.\n\n#### Drop Unnecessary Columns",
      "metadata": {
        "cell_id": "ce09d4972d384541bfcacbf0ff8be6ee",
        "deepnote_cell_type": "markdown"
      },
      "block_group": "0d37a4d0659e423a8445d97c10044afe"
    },
    {
      "cell_type": "code",
      "source": "# Drop unnecessary columns\ntrain_df.drop(['PassengerId', 'Name', 'Ticket', 'Fare', 'Age'], axis=1, inplace=True)\ntest_df.drop(['Name', 'Ticket', 'Fare', 'Age'], axis=1, inplace=True)",
      "metadata": {
        "cell_id": "30c5f65bcf9a48b0916f5ab416cbbf1f",
        "deepnote_cell_type": "code"
      },
      "outputs": [],
      "outputs_reference": null,
      "execution_count": null,
      "block_group": "89e6d8ec5fd8429a9ec06c17f1cee723",
      "content_dependencies": null
    },
    {
      "cell_type": "markdown",
      "source": "#### Convert Categorical Variables",
      "metadata": {
        "cell_id": "e42ec030678f4bda980571c974980ad4",
        "deepnote_cell_type": "markdown"
      },
      "block_group": "a26caf54b5ef4f8ea55c3d12a09961b4"
    },
    {
      "cell_type": "code",
      "source": "# Encode Embarked\ntrain_df['Embarked'] = train_df['Embarked'].map({'S': 1, 'C': 2, 'Q': 3})\ntest_df['Embarked'] = test_df['Embarked'].map({'S': 1, 'C': 2, 'Q': 3})\n\n# Fill any remaining missing values\ntrain_df['Embarked'].fillna(1, inplace=True)\ntest_df['Embarked'].fillna(1, inplace=True)",
      "metadata": {
        "cell_id": "7c8c6c64a8544a6d9878252b620f909c",
        "deepnote_cell_type": "code"
      },
      "outputs": [],
      "outputs_reference": null,
      "execution_count": null,
      "block_group": "45b2a040c9d84795ad5248675b3b19e4",
      "content_dependencies": null
    },
    {
      "cell_type": "markdown",
      "source": "### 4.5 Feature Scaling\n\nNot required as all features are now categorical or numerical within a fixed range due to binning.",
      "metadata": {
        "cell_id": "c159d74176f84741bf428610d07e1923",
        "deepnote_cell_type": "markdown"
      },
      "block_group": "0d9f5030ea174e41b01b108047d59847"
    },
    {
      "cell_type": "markdown",
      "source": "### 4.6 Feature Selection\n\n#### Correlation with Survived",
      "metadata": {
        "cell_id": "338df4e7a86f4011b3b52db21fd08b89",
        "deepnote_cell_type": "markdown"
      },
      "block_group": "279ec3fa4aa94c4f9c009f74c1034b99"
    },
    {
      "cell_type": "code",
      "source": "# Compute correlation with Survived\ncorr = train_df.corr()\ncorr['Survived'].sort_values(ascending=False)",
      "metadata": {
        "cell_id": "434c9eaf8d5e4bd7b0e8a141fbd850f9",
        "deepnote_cell_type": "code"
      },
      "outputs": [],
      "outputs_reference": null,
      "execution_count": null,
      "block_group": "a1f8fbc740ad46c489644d3a59d6008a",
      "content_dependencies": null
    },
    {
      "cell_type": "markdown",
      "source": "#### Recursive Feature Elimination (RFE)",
      "metadata": {
        "cell_id": "c15b8089522f47ebb627dbcdba3686aa",
        "deepnote_cell_type": "markdown"
      },
      "block_group": "4ae84ee9fdb14a979cbdff42a0179f90"
    },
    {
      "cell_type": "code",
      "source": "from sklearn.linear_model import LogisticRegression\nfrom sklearn.feature_selection import RFE\n\n# Separate features and target variable\nX = train_df.drop('Survived', axis=1)\ny = train_df['Survived']\n\n# Initialize logistic regression model\nlogreg = LogisticRegression(max_iter=200)\n\n# Initialize RFE\nselector = RFE(logreg, n_features_to_select=8)\n\n# Fit RFE\nselector = selector.fit(X, y)\n\n# Get selected features\nselected_features = X.columns[selector.support_]\nprint('Selected features:', selected_features)\n",
      "metadata": {
        "cell_id": "fac5149ecfbe4615bf1135fbcc8a3fea",
        "deepnote_cell_type": "code"
      },
      "outputs": [],
      "outputs_reference": null,
      "execution_count": null,
      "block_group": "9e5dfe582e2444b68115c7b5e525c412",
      "content_dependencies": null
    },
    {
      "cell_type": "markdown",
      "source": "**Observation:**\n\n- The selected features will be used for modeling.",
      "metadata": {
        "cell_id": "b30096995da14a72887466b67ed25360",
        "deepnote_cell_type": "markdown"
      },
      "block_group": "a28d3450428245c295e456040789fcfb"
    },
    {
      "cell_type": "markdown",
      "source": "<a id='5'></a>\n\n## 5. Conclusion\n\nIn this case study, we performed an extensive Exploratory Data Analysis (EDA) and Feature Engineering on the Titanic dataset. We:\n\n- **Analyzed** the distribution of variables and their relationship with survival.\n- **Handled missing values** using appropriate imputation techniques.\n- **Created new features** such as **Title**, **FamilySize**, and **IsAlone** to capture additional information.\n- **Transformed features** by binning continuous variables.\n- **Encoded categorical variables** into numerical format.\n- **Selected significant features** using correlation analysis and Recursive Feature Elimination (RFE).\n\nThese steps prepared the data for modeling, which would involve training machine learning algorithms to predict passenger survival.",
      "metadata": {
        "cell_id": "1d9e12e0f19c4bc480fe645c3bb675c8",
        "deepnote_cell_type": "markdown"
      },
      "block_group": "fbbc1a51d4a244668ef1225970cd99d1"
    },
    {
      "cell_type": "markdown",
      "source": "<a id='6'></a>\n\n## 6. References\n\n1. Kaggle Titanic Competition: [https://www.kaggle.com/c/titanic](https://www.kaggle.com/c/titanic)\n2. Géron, A. (2019). *Hands-On Machine Learning with Scikit-Learn, Keras, and TensorFlow*. O'Reilly Media.\n3. Hastie, T., Tibshirani, R., & Friedman, J. (2009). *The Elements of Statistical Learning*. Springer.\n4. McKinney, W. (2017). *Python for Data Analysis*. O'Reilly Media.",
      "metadata": {
        "cell_id": "8ce6888e280c47278148894ac95d9e9c",
        "deepnote_cell_type": "markdown"
      },
      "block_group": "ec4dd3d16b904c5da9724ae9bb76a328"
    },
    {
      "cell_type": "markdown",
      "source": "<a style='text-decoration:none;line-height:16px;display:flex;color:#5B5B62;padding:10px;justify-content:end;' href='https://deepnote.com?utm_source=created-in-deepnote-cell&projectId=d9b716da-a519-4d40-8a21-438227d42336' target=\"_blank\">\n<img alt='Created in deepnote.com' style='display:inline;max-height:16px;margin:0px;margin-right:7.5px;' src='data:image/svg+xml;base64,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' > </img>\nCreated in <span style='font-weight:600;margin-left:4px;'>Deepnote</span></a>",
      "metadata": {
        "created_in_deepnote_cell": true,
        "deepnote_cell_type": "markdown"
      }
    }
  ],
  "nbformat": 4,
  "nbformat_minor": 0,
  "metadata": {
    "deepnote_notebook_id": "6d0265c5ee2341128905bf89bd6863a7"
  }
}