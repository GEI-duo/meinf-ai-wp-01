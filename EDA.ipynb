{
    "cells": [
        {
            "cell_type": "markdown",
            "metadata": {
                "formattedRanges": [],
                "cell_id": "41d60c159abf4600be7199d53c4e85fc",
                "deepnote_cell_type": "text-cell-h1"
            },
            "source": "# Predict calories burned during workout",
            "block_group": "19c31264259f4ede9d71e8ea51c416e9"
        },
        {
            "cell_type": "code",
            "metadata": {
                "source_hash": "ff23fb27",
                "execution_start": 1732401081084,
                "execution_millis": 1,
                "execution_context_id": "facfc34a-bde7-4da6-9211-5daa37b6495d",
                "cell_id": "69d64b52298f4b978709ed7dca5a7885",
                "deepnote_cell_type": "code"
            },
            "source": "import pandas as pd\nimport os\nfrom pathlib import Path",
            "block_group": "82e0cd62e7ae4aab9209c9bb4fedb300",
            "execution_count": 27,
            "outputs": [],
            "outputs_reference": null,
            "content_dependencies": null
        },
        {
            "cell_type": "code",
            "metadata": {
                "source_hash": "fd61f5f",
                "execution_start": 1732401116888,
                "execution_millis": 0,
                "execution_context_id": "facfc34a-bde7-4da6-9211-5daa37b6495d",
                "cell_id": "9a6b6279a92c4ad4bf5b8b0c47c4a831",
                "deepnote_cell_type": "code"
            },
            "source": "DEEPNOTE = os.environ.get(\"DEEPNOTE_PROJECT_ID\")\nPROJECT_PATH = Path(\"/work/meinf_ai_wp_01\") if DEEPNOTE else Path.cwd()\nDATA_PATH = PROJECT_PATH / \"data\"\nCSV_PATH = DATA_PATH / \"gym_members_exercise_tracking.csv\"",
            "block_group": "5d8d0c58f4524150bd575765d259884d",
            "execution_count": 28,
            "outputs": [],
            "outputs_reference": null,
            "content_dependencies": null
        },
        {
            "cell_type": "code",
            "metadata": {
                "source_hash": "38648d21",
                "execution_start": 1732401118897,
                "execution_millis": 269,
                "execution_context_id": "facfc34a-bde7-4da6-9211-5daa37b6495d",
                "cell_id": "b5f70213c23c49d69fc140a70d4f99c9",
                "deepnote_cell_type": "code"
            },
            "source": "df = pd.read_csv(CSV_PATH)\ndf.head()",
            "block_group": "080a7899cde24105a10b6df6b601357c",
            "execution_count": 29,
            "outputs": [
                {
                    "output_type": "execute_result",
                    "execution_count": 29,
                    "data": {
                        "application/vnd.deepnote.dataframe.v3+json": {
                            "column_count": 15,
                            "row_count": 5,
                            "columns": [
                                {
                                    "name": "Age",
                                    "dtype": "int64",
                                    "stats": {
                                        "unique_count": 5,
                                        "nan_count": 0,
                                        "min": "25",
                                        "max": "56",
                                        "histogram": [
                                            {
                                                "bin_start": 25,
                                                "bin_end": 28.1,
                                                "count": 1
                                            },
                                            {
                                                "bin_start": 28.1,
                                                "bin_end": 31.2,
                                                "count": 0
                                            },
                                            {
                                                "bin_start": 31.2,
                                                "bin_end": 34.3,
                                                "count": 1
                                            },
                                            {
                                                "bin_start": 34.3,
                                                "bin_end": 37.4,
                                                "count": 0
                                            },
                                            {
                                                "bin_start": 37.4,
                                                "bin_end": 40.5,
                                                "count": 1
                                            },
                                            {
                                                "bin_start": 40.5,
                                                "bin_end": 43.6,
                                                "count": 0
                                            },
                                            {
                                                "bin_start": 43.6,
                                                "bin_end": 46.7,
                                                "count": 1
                                            },
                                            {
                                                "bin_start": 46.7,
                                                "bin_end": 49.8,
                                                "count": 0
                                            },
                                            {
                                                "bin_start": 49.8,
                                                "bin_end": 52.900000000000006,
                                                "count": 0
                                            },
                                            {
                                                "bin_start": 52.900000000000006,
                                                "bin_end": 56,
                                                "count": 1
                                            }
                                        ]
                                    }
                                },
                                {
                                    "name": "Gender",
                                    "dtype": "object",
                                    "stats": {
                                        "unique_count": 2,
                                        "nan_count": 0,
                                        "categories": [
                                            {
                                                "name": "Male",
                                                "count": 3
                                            },
                                            {
                                                "name": "Female",
                                                "count": 2
                                            }
                                        ]
                                    }
                                },
                                {
                                    "name": "Weight (kg)",
                                    "dtype": "float64",
                                    "stats": {
                                        "unique_count": 5,
                                        "nan_count": 0,
                                        "min": "46.1",
                                        "max": "88.3",
                                        "histogram": [
                                            {
                                                "bin_start": 46.1,
                                                "bin_end": 50.32,
                                                "count": 1
                                            },
                                            {
                                                "bin_start": 50.32,
                                                "bin_end": 54.54,
                                                "count": 1
                                            },
                                            {
                                                "bin_start": 54.54,
                                                "bin_end": 58.760000000000005,
                                                "count": 0
                                            },
                                            {
                                                "bin_start": 58.760000000000005,
                                                "bin_end": 62.980000000000004,
                                                "count": 0
                                            },
                                            {
                                                "bin_start": 62.980000000000004,
                                                "bin_end": 67.2,
                                                "count": 0
                                            },
                                            {
                                                "bin_start": 67.2,
                                                "bin_end": 71.42,
                                                "count": 1
                                            },
                                            {
                                                "bin_start": 71.42,
                                                "bin_end": 75.64,
                                                "count": 1
                                            },
                                            {
                                                "bin_start": 75.64,
                                                "bin_end": 79.86,
                                                "count": 0
                                            },
                                            {
                                                "bin_start": 79.86,
                                                "bin_end": 84.08,
                                                "count": 0
                                            },
                                            {
                                                "bin_start": 84.08,
                                                "bin_end": 88.3,
                                                "count": 1
                                            }
                                        ]
                                    }
                                },
                                {
                                    "name": "Height (m)",
                                    "dtype": "float64",
                                    "stats": {
                                        "unique_count": 5,
                                        "nan_count": 0,
                                        "min": "1.53",
                                        "max": "1.79",
                                        "histogram": [
                                            {
                                                "bin_start": 1.53,
                                                "bin_end": 1.556,
                                                "count": 1
                                            },
                                            {
                                                "bin_start": 1.556,
                                                "bin_end": 1.582,
                                                "count": 0
                                            },
                                            {
                                                "bin_start": 1.582,
                                                "bin_end": 1.608,
                                                "count": 0
                                            },
                                            {
                                                "bin_start": 1.608,
                                                "bin_end": 1.6340000000000001,
                                                "count": 0
                                            },
                                            {
                                                "bin_start": 1.6340000000000001,
                                                "bin_end": 1.6600000000000001,
                                                "count": 1
                                            },
                                            {
                                                "bin_start": 1.6600000000000001,
                                                "bin_end": 1.686,
                                                "count": 0
                                            },
                                            {
                                                "bin_start": 1.686,
                                                "bin_end": 1.712,
                                                "count": 2
                                            },
                                            {
                                                "bin_start": 1.712,
                                                "bin_end": 1.738,
                                                "count": 0
                                            },
                                            {
                                                "bin_start": 1.738,
                                                "bin_end": 1.764,
                                                "count": 0
                                            },
                                            {
                                                "bin_start": 1.764,
                                                "bin_end": 1.79,
                                                "count": 1
                                            }
                                        ]
                                    }
                                },
                                {
                                    "name": "Max_BPM",
                                    "dtype": "int64",
                                    "stats": {
                                        "unique_count": 5,
                                        "nan_count": 0,
                                        "min": "167",
                                        "max": "190",
                                        "histogram": [
                                            {
                                                "bin_start": 167,
                                                "bin_end": 169.3,
                                                "count": 1
                                            },
                                            {
                                                "bin_start": 169.3,
                                                "bin_end": 171.6,
                                                "count": 0
                                            },
                                            {
                                                "bin_start": 171.6,
                                                "bin_end": 173.9,
                                                "count": 0
                                            },
                                            {
                                                "bin_start": 173.9,
                                                "bin_end": 176.2,
                                                "count": 0
                                            },
                                            {
                                                "bin_start": 176.2,
                                                "bin_end": 178.5,
                                                "count": 0
                                            },
                                            {
                                                "bin_start": 178.5,
                                                "bin_end": 180.8,
                                                "count": 2
                                            },
                                            {
                                                "bin_start": 180.8,
                                                "bin_end": 183.1,
                                                "count": 0
                                            },
                                            {
                                                "bin_start": 183.1,
                                                "bin_end": 185.4,
                                                "count": 0
                                            },
                                            {
                                                "bin_start": 185.4,
                                                "bin_end": 187.7,
                                                "count": 0
                                            },
                                            {
                                                "bin_start": 187.7,
                                                "bin_end": 190,
                                                "count": 2
                                            }
                                        ]
                                    }
                                },
                                {
                                    "name": "Avg_BPM",
                                    "dtype": "int64",
                                    "stats": {
                                        "unique_count": 5,
                                        "nan_count": 0,
                                        "min": "122",
                                        "max": "164",
                                        "histogram": [
                                            {
                                                "bin_start": 122,
                                                "bin_end": 126.2,
                                                "count": 1
                                            },
                                            {
                                                "bin_start": 126.2,
                                                "bin_end": 130.4,
                                                "count": 0
                                            },
                                            {
                                                "bin_start": 130.4,
                                                "bin_end": 134.6,
                                                "count": 0
                                            },
                                            {
                                                "bin_start": 134.6,
                                                "bin_end": 138.8,
                                                "count": 0
                                            },
                                            {
                                                "bin_start": 138.8,
                                                "bin_end": 143,
                                                "count": 0
                                            },
                                            {
                                                "bin_start": 143,
                                                "bin_end": 147.2,
                                                "count": 0
                                            },
                                            {
                                                "bin_start": 147.2,
                                                "bin_end": 151.4,
                                                "count": 1
                                            },
                                            {
                                                "bin_start": 151.4,
                                                "bin_end": 155.6,
                                                "count": 0
                                            },
                                            {
                                                "bin_start": 155.6,
                                                "bin_end": 159.8,
                                                "count": 2
                                            },
                                            {
                                                "bin_start": 159.8,
                                                "bin_end": 164,
                                                "count": 1
                                            }
                                        ]
                                    }
                                },
                                {
                                    "name": "Resting_BPM",
                                    "dtype": "int64",
                                    "stats": {
                                        "unique_count": 5,
                                        "nan_count": 0,
                                        "min": "54",
                                        "max": "68",
                                        "histogram": [
                                            {
                                                "bin_start": 54,
                                                "bin_end": 55.4,
                                                "count": 1
                                            },
                                            {
                                                "bin_start": 55.4,
                                                "bin_end": 56.8,
                                                "count": 1
                                            },
                                            {
                                                "bin_start": 56.8,
                                                "bin_end": 58.2,
                                                "count": 0
                                            },
                                            {
                                                "bin_start": 58.2,
                                                "bin_end": 59.6,
                                                "count": 0
                                            },
                                            {
                                                "bin_start": 59.6,
                                                "bin_end": 61,
                                                "count": 1
                                            },
                                            {
                                                "bin_start": 61,
                                                "bin_end": 62.4,
                                                "count": 0
                                            },
                                            {
                                                "bin_start": 62.4,
                                                "bin_end": 63.8,
                                                "count": 0
                                            },
                                            {
                                                "bin_start": 63.8,
                                                "bin_end": 65.2,
                                                "count": 0
                                            },
                                            {
                                                "bin_start": 65.2,
                                                "bin_end": 66.6,
                                                "count": 1
                                            },
                                            {
                                                "bin_start": 66.6,
                                                "bin_end": 68,
                                                "count": 1
                                            }
                                        ]
                                    }
                                },
                                {
                                    "name": "Session_Duration (hours)",
                                    "dtype": "float64",
                                    "stats": {
                                        "unique_count": 5,
                                        "nan_count": 0,
                                        "min": "0.59",
                                        "max": "1.69",
                                        "histogram": [
                                            {
                                                "bin_start": 0.59,
                                                "bin_end": 0.7,
                                                "count": 2
                                            },
                                            {
                                                "bin_start": 0.7,
                                                "bin_end": 0.81,
                                                "count": 0
                                            },
                                            {
                                                "bin_start": 0.81,
                                                "bin_end": 0.92,
                                                "count": 0
                                            },
                                            {
                                                "bin_start": 0.92,
                                                "bin_end": 1.03,
                                                "count": 0
                                            },
                                            {
                                                "bin_start": 1.03,
                                                "bin_end": 1.1400000000000001,
                                                "count": 1
                                            },
                                            {
                                                "bin_start": 1.1400000000000001,
                                                "bin_end": 1.25,
                                                "count": 0
                                            },
                                            {
                                                "bin_start": 1.25,
                                                "bin_end": 1.36,
                                                "count": 1
                                            },
                                            {
                                                "bin_start": 1.36,
                                                "bin_end": 1.4700000000000002,
                                                "count": 0
                                            },
                                            {
                                                "bin_start": 1.4700000000000002,
                                                "bin_end": 1.58,
                                                "count": 0
                                            },
                                            {
                                                "bin_start": 1.58,
                                                "bin_end": 1.69,
                                                "count": 1
                                            }
                                        ]
                                    }
                                },
                                {
                                    "name": "Calories_Burned",
                                    "dtype": "float64",
                                    "stats": {
                                        "unique_count": 5,
                                        "nan_count": 0,
                                        "min": "532.0",
                                        "max": "1313.0",
                                        "histogram": [
                                            {
                                                "bin_start": 532,
                                                "bin_end": 610.1,
                                                "count": 2
                                            },
                                            {
                                                "bin_start": 610.1,
                                                "bin_end": 688.2,
                                                "count": 1
                                            },
                                            {
                                                "bin_start": 688.2,
                                                "bin_end": 766.3,
                                                "count": 0
                                            },
                                            {
                                                "bin_start": 766.3,
                                                "bin_end": 844.4,
                                                "count": 0
                                            },
                                            {
                                                "bin_start": 844.4,
                                                "bin_end": 922.5,
                                                "count": 1
                                            },
                                            {
                                                "bin_start": 922.5,
                                                "bin_end": 1000.5999999999999,
                                                "count": 0
                                            },
                                            {
                                                "bin_start": 1000.5999999999999,
                                                "bin_end": 1078.6999999999998,
                                                "count": 0
                                            },
                                            {
                                                "bin_start": 1078.6999999999998,
                                                "bin_end": 1156.8,
                                                "count": 0
                                            },
                                            {
                                                "bin_start": 1156.8,
                                                "bin_end": 1234.9,
                                                "count": 0
                                            },
                                            {
                                                "bin_start": 1234.9,
                                                "bin_end": 1313,
                                                "count": 1
                                            }
                                        ]
                                    }
                                },
                                {
                                    "name": "Workout_Type",
                                    "dtype": "object",
                                    "stats": {
                                        "unique_count": 4,
                                        "nan_count": 0,
                                        "categories": [
                                            {
                                                "name": "Strength",
                                                "count": 2
                                            },
                                            {
                                                "name": "Yoga",
                                                "count": 1
                                            },
                                            {
                                                "name": "2 others",
                                                "count": 2
                                            }
                                        ]
                                    }
                                },
                                {
                                    "name": "Fat_Percentage",
                                    "dtype": "float64",
                                    "stats": {
                                        "unique_count": 5,
                                        "nan_count": 0,
                                        "min": "12.6",
                                        "max": "33.9",
                                        "histogram": [
                                            {
                                                "bin_start": 12.6,
                                                "bin_end": 14.73,
                                                "count": 1
                                            },
                                            {
                                                "bin_start": 14.73,
                                                "bin_end": 16.86,
                                                "count": 0
                                            },
                                            {
                                                "bin_start": 16.86,
                                                "bin_end": 18.99,
                                                "count": 0
                                            },
                                            {
                                                "bin_start": 18.99,
                                                "bin_end": 21.119999999999997,
                                                "count": 0
                                            },
                                            {
                                                "bin_start": 21.119999999999997,
                                                "bin_end": 23.25,
                                                "count": 0
                                            },
                                            {
                                                "bin_start": 23.25,
                                                "bin_end": 25.38,
                                                "count": 0
                                            },
                                            {
                                                "bin_start": 25.38,
                                                "bin_end": 27.509999999999998,
                                                "count": 0
                                            },
                                            {
                                                "bin_start": 27.509999999999998,
                                                "bin_end": 29.64,
                                                "count": 2
                                            },
                                            {
                                                "bin_start": 29.64,
                                                "bin_end": 31.769999999999996,
                                                "count": 0
                                            },
                                            {
                                                "bin_start": 31.769999999999996,
                                                "bin_end": 33.9,
                                                "count": 2
                                            }
                                        ]
                                    }
                                },
                                {
                                    "name": "Water_Intake (liters)",
                                    "dtype": "float64",
                                    "stats": {
                                        "unique_count": 4,
                                        "nan_count": 0,
                                        "min": "2.1",
                                        "max": "3.5",
                                        "histogram": [
                                            {
                                                "bin_start": 2.1,
                                                "bin_end": 2.24,
                                                "count": 2
                                            },
                                            {
                                                "bin_start": 2.24,
                                                "bin_end": 2.38,
                                                "count": 1
                                            },
                                            {
                                                "bin_start": 2.38,
                                                "bin_end": 2.52,
                                                "count": 0
                                            },
                                            {
                                                "bin_start": 2.52,
                                                "bin_end": 2.66,
                                                "count": 0
                                            },
                                            {
                                                "bin_start": 2.66,
                                                "bin_end": 2.8,
                                                "count": 0
                                            },
                                            {
                                                "bin_start": 2.8,
                                                "bin_end": 2.94,
                                                "count": 1
                                            },
                                            {
                                                "bin_start": 2.94,
                                                "bin_end": 3.08,
                                                "count": 0
                                            },
                                            {
                                                "bin_start": 3.08,
                                                "bin_end": 3.2199999999999998,
                                                "count": 0
                                            },
                                            {
                                                "bin_start": 3.2199999999999998,
                                                "bin_end": 3.36,
                                                "count": 0
                                            },
                                            {
                                                "bin_start": 3.36,
                                                "bin_end": 3.5,
                                                "count": 1
                                            }
                                        ]
                                    }
                                },
                                {
                                    "name": "Workout_Frequency (days/week)",
                                    "dtype": "int64",
                                    "stats": {
                                        "unique_count": 2,
                                        "nan_count": 0,
                                        "min": "3",
                                        "max": "4",
                                        "histogram": [
                                            {
                                                "bin_start": 3,
                                                "bin_end": 3.1,
                                                "count": 2
                                            },
                                            {
                                                "bin_start": 3.1,
                                                "bin_end": 3.2,
                                                "count": 0
                                            },
                                            {
                                                "bin_start": 3.2,
                                                "bin_end": 3.3,
                                                "count": 0
                                            },
                                            {
                                                "bin_start": 3.3,
                                                "bin_end": 3.4,
                                                "count": 0
                                            },
                                            {
                                                "bin_start": 3.4,
                                                "bin_end": 3.5,
                                                "count": 0
                                            },
                                            {
                                                "bin_start": 3.5,
                                                "bin_end": 3.6,
                                                "count": 0
                                            },
                                            {
                                                "bin_start": 3.6,
                                                "bin_end": 3.7,
                                                "count": 0
                                            },
                                            {
                                                "bin_start": 3.7,
                                                "bin_end": 3.8,
                                                "count": 0
                                            },
                                            {
                                                "bin_start": 3.8,
                                                "bin_end": 3.9,
                                                "count": 0
                                            },
                                            {
                                                "bin_start": 3.9,
                                                "bin_end": 4,
                                                "count": 3
                                            }
                                        ]
                                    }
                                },
                                {
                                    "name": "Experience_Level",
                                    "dtype": "int64",
                                    "stats": {
                                        "unique_count": 3,
                                        "nan_count": 0,
                                        "min": "1",
                                        "max": "3",
                                        "histogram": [
                                            {
                                                "bin_start": 1,
                                                "bin_end": 1.2,
                                                "count": 2
                                            },
                                            {
                                                "bin_start": 1.2,
                                                "bin_end": 1.4,
                                                "count": 0
                                            },
                                            {
                                                "bin_start": 1.4,
                                                "bin_end": 1.6,
                                                "count": 0
                                            },
                                            {
                                                "bin_start": 1.6,
                                                "bin_end": 1.8,
                                                "count": 0
                                            },
                                            {
                                                "bin_start": 1.8,
                                                "bin_end": 2,
                                                "count": 0
                                            },
                                            {
                                                "bin_start": 2,
                                                "bin_end": 2.2,
                                                "count": 2
                                            },
                                            {
                                                "bin_start": 2.2,
                                                "bin_end": 2.4000000000000004,
                                                "count": 0
                                            },
                                            {
                                                "bin_start": 2.4000000000000004,
                                                "bin_end": 2.6,
                                                "count": 0
                                            },
                                            {
                                                "bin_start": 2.6,
                                                "bin_end": 2.8,
                                                "count": 0
                                            },
                                            {
                                                "bin_start": 2.8,
                                                "bin_end": 3,
                                                "count": 1
                                            }
                                        ]
                                    }
                                },
                                {
                                    "name": "BMI",
                                    "dtype": "float64",
                                    "stats": {
                                        "unique_count": 5,
                                        "nan_count": 0,
                                        "min": "14.39",
                                        "max": "32.0",
                                        "histogram": [
                                            {
                                                "bin_start": 14.39,
                                                "bin_end": 16.151,
                                                "count": 1
                                            },
                                            {
                                                "bin_start": 16.151,
                                                "bin_end": 17.912,
                                                "count": 0
                                            },
                                            {
                                                "bin_start": 17.912,
                                                "bin_end": 19.673000000000002,
                                                "count": 1
                                            },
                                            {
                                                "bin_start": 19.673000000000002,
                                                "bin_end": 21.434,
                                                "count": 0
                                            },
                                            {
                                                "bin_start": 21.434,
                                                "bin_end": 23.195,
                                                "count": 0
                                            },
                                            {
                                                "bin_start": 23.195,
                                                "bin_end": 24.956,
                                                "count": 1
                                            },
                                            {
                                                "bin_start": 24.956,
                                                "bin_end": 26.717,
                                                "count": 0
                                            },
                                            {
                                                "bin_start": 26.717,
                                                "bin_end": 28.478,
                                                "count": 0
                                            },
                                            {
                                                "bin_start": 28.478,
                                                "bin_end": 30.238999999999997,
                                                "count": 1
                                            },
                                            {
                                                "bin_start": 30.238999999999997,
                                                "bin_end": 32,
                                                "count": 1
                                            }
                                        ]
                                    }
                                },
                                {
                                    "name": "_deepnote_index_column",
                                    "dtype": "int64"
                                }
                            ],
                            "rows": [
                                {
                                    "Age": 56,
                                    "Gender": "Male",
                                    "Weight (kg)": 88.3,
                                    "Height (m)": 1.71,
                                    "Max_BPM": 180,
                                    "Avg_BPM": 157,
                                    "Resting_BPM": 60,
                                    "Session_Duration (hours)": 1.69,
                                    "Calories_Burned": 1313,
                                    "Workout_Type": "Yoga",
                                    "Fat_Percentage": 12.6,
                                    "Water_Intake (liters)": 3.5,
                                    "Workout_Frequency (days/week)": 4,
                                    "Experience_Level": 3,
                                    "BMI": 30.2,
                                    "_deepnote_index_column": 0
                                },
                                {
                                    "Age": 46,
                                    "Gender": "Female",
                                    "Weight (kg)": 74.9,
                                    "Height (m)": 1.53,
                                    "Max_BPM": 179,
                                    "Avg_BPM": 151,
                                    "Resting_BPM": 66,
                                    "Session_Duration (hours)": 1.3,
                                    "Calories_Burned": 883,
                                    "Workout_Type": "HIIT",
                                    "Fat_Percentage": 33.9,
                                    "Water_Intake (liters)": 2.1,
                                    "Workout_Frequency (days/week)": 4,
                                    "Experience_Level": 2,
                                    "BMI": 32,
                                    "_deepnote_index_column": 1
                                },
                                {
                                    "Age": 32,
                                    "Gender": "Female",
                                    "Weight (kg)": 68.1,
                                    "Height (m)": 1.66,
                                    "Max_BPM": 167,
                                    "Avg_BPM": 122,
                                    "Resting_BPM": 54,
                                    "Session_Duration (hours)": 1.11,
                                    "Calories_Burned": 677,
                                    "Workout_Type": "Cardio",
                                    "Fat_Percentage": 33.4,
                                    "Water_Intake (liters)": 2.3,
                                    "Workout_Frequency (days/week)": 4,
                                    "Experience_Level": 2,
                                    "BMI": 24.71,
                                    "_deepnote_index_column": 2
                                },
                                {
                                    "Age": 25,
                                    "Gender": "Male",
                                    "Weight (kg)": 53.2,
                                    "Height (m)": 1.7,
                                    "Max_BPM": 190,
                                    "Avg_BPM": 164,
                                    "Resting_BPM": 56,
                                    "Session_Duration (hours)": 0.59,
                                    "Calories_Burned": 532,
                                    "Workout_Type": "Strength",
                                    "Fat_Percentage": 28.8,
                                    "Water_Intake (liters)": 2.1,
                                    "Workout_Frequency (days/week)": 3,
                                    "Experience_Level": 1,
                                    "BMI": 18.41,
                                    "_deepnote_index_column": 3
                                },
                                {
                                    "Age": 38,
                                    "Gender": "Male",
                                    "Weight (kg)": 46.1,
                                    "Height (m)": 1.79,
                                    "Max_BPM": 188,
                                    "Avg_BPM": 158,
                                    "Resting_BPM": 68,
                                    "Session_Duration (hours)": 0.64,
                                    "Calories_Burned": 556,
                                    "Workout_Type": "Strength",
                                    "Fat_Percentage": 29.2,
                                    "Water_Intake (liters)": 2.8,
                                    "Workout_Frequency (days/week)": 3,
                                    "Experience_Level": 1,
                                    "BMI": 14.39,
                                    "_deepnote_index_column": 4
                                }
                            ]
                        },
                        "text/plain": "   Age  Gender  Weight (kg)  Height (m)  Max_BPM  Avg_BPM  Resting_BPM  \\\n0   56    Male         88.3        1.71      180      157           60   \n1   46  Female         74.9        1.53      179      151           66   \n2   32  Female         68.1        1.66      167      122           54   \n3   25    Male         53.2        1.70      190      164           56   \n4   38    Male         46.1        1.79      188      158           68   \n\n   Session_Duration (hours)  Calories_Burned Workout_Type  Fat_Percentage  \\\n0                      1.69           1313.0         Yoga            12.6   \n1                      1.30            883.0         HIIT            33.9   \n2                      1.11            677.0       Cardio            33.4   \n3                      0.59            532.0     Strength            28.8   \n4                      0.64            556.0     Strength            29.2   \n\n   Water_Intake (liters)  Workout_Frequency (days/week)  Experience_Level  \\\n0                    3.5                              4                 3   \n1                    2.1                              4                 2   \n2                    2.3                              4                 2   \n3                    2.1                              3                 1   \n4                    2.8                              3                 1   \n\n     BMI  \n0  30.20  \n1  32.00  \n2  24.71  \n3  18.41  \n4  14.39  ",
                        "text/html": "<div>\n<style scoped>\n    .dataframe tbody tr th:only-of-type {\n        vertical-align: middle;\n    }\n\n    .dataframe tbody tr th {\n        vertical-align: top;\n    }\n\n    .dataframe thead th {\n        text-align: right;\n    }\n</style>\n<table border=\"1\" class=\"dataframe\">\n  <thead>\n    <tr style=\"text-align: right;\">\n      <th></th>\n      <th>Age</th>\n      <th>Gender</th>\n      <th>Weight (kg)</th>\n      <th>Height (m)</th>\n      <th>Max_BPM</th>\n      <th>Avg_BPM</th>\n      <th>Resting_BPM</th>\n      <th>Session_Duration (hours)</th>\n      <th>Calories_Burned</th>\n      <th>Workout_Type</th>\n      <th>Fat_Percentage</th>\n      <th>Water_Intake (liters)</th>\n      <th>Workout_Frequency (days/week)</th>\n      <th>Experience_Level</th>\n      <th>BMI</th>\n    </tr>\n  </thead>\n  <tbody>\n    <tr>\n      <th>0</th>\n      <td>56</td>\n      <td>Male</td>\n      <td>88.3</td>\n      <td>1.71</td>\n      <td>180</td>\n      <td>157</td>\n      <td>60</td>\n      <td>1.69</td>\n      <td>1313.0</td>\n      <td>Yoga</td>\n      <td>12.6</td>\n      <td>3.5</td>\n      <td>4</td>\n      <td>3</td>\n      <td>30.20</td>\n    </tr>\n    <tr>\n      <th>1</th>\n      <td>46</td>\n      <td>Female</td>\n      <td>74.9</td>\n      <td>1.53</td>\n      <td>179</td>\n      <td>151</td>\n      <td>66</td>\n      <td>1.30</td>\n      <td>883.0</td>\n      <td>HIIT</td>\n      <td>33.9</td>\n      <td>2.1</td>\n      <td>4</td>\n      <td>2</td>\n      <td>32.00</td>\n    </tr>\n    <tr>\n      <th>2</th>\n      <td>32</td>\n      <td>Female</td>\n      <td>68.1</td>\n      <td>1.66</td>\n      <td>167</td>\n      <td>122</td>\n      <td>54</td>\n      <td>1.11</td>\n      <td>677.0</td>\n      <td>Cardio</td>\n      <td>33.4</td>\n      <td>2.3</td>\n      <td>4</td>\n      <td>2</td>\n      <td>24.71</td>\n    </tr>\n    <tr>\n      <th>3</th>\n      <td>25</td>\n      <td>Male</td>\n      <td>53.2</td>\n      <td>1.70</td>\n      <td>190</td>\n      <td>164</td>\n      <td>56</td>\n      <td>0.59</td>\n      <td>532.0</td>\n      <td>Strength</td>\n      <td>28.8</td>\n      <td>2.1</td>\n      <td>3</td>\n      <td>1</td>\n      <td>18.41</td>\n    </tr>\n    <tr>\n      <th>4</th>\n      <td>38</td>\n      <td>Male</td>\n      <td>46.1</td>\n      <td>1.79</td>\n      <td>188</td>\n      <td>158</td>\n      <td>68</td>\n      <td>0.64</td>\n      <td>556.0</td>\n      <td>Strength</td>\n      <td>29.2</td>\n      <td>2.8</td>\n      <td>3</td>\n      <td>1</td>\n      <td>14.39</td>\n    </tr>\n  </tbody>\n</table>\n</div>"
                    },
                    "metadata": {}
                }
            ],
            "outputs_reference": "s3:deepnote-cell-outputs-production/d20b0cd0-34a5-49c8-b2e2-85d081363c5b",
            "content_dependencies": null
        },
        {
            "cell_type": "markdown",
            "source": "<a style='text-decoration:none;line-height:16px;display:flex;color:#5B5B62;padding:10px;justify-content:end;' href='https://deepnote.com?utm_source=created-in-deepnote-cell&projectId=d9b716da-a519-4d40-8a21-438227d42336' target=\"_blank\">\n<img alt='Created in deepnote.com' style='display:inline;max-height:16px;margin:0px;margin-right:7.5px;' src='data:image/svg+xml;base64,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' > </img>\nCreated in <span style='font-weight:600;margin-left:4px;'>Deepnote</span></a>",
            "metadata": {
                "created_in_deepnote_cell": true,
                "deepnote_cell_type": "markdown"
            }
        }
    ],
    "nbformat": 4,
    "nbformat_minor": 0,
    "metadata": {
        "deepnote_notebook_id": "afb81c7e66d3413ea71de67ae679ff0b"
    }
}